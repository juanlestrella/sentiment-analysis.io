{
 "cells": [
  {
   "cell_type": "markdown",
   "metadata": {},
   "source": [
    "Nour Mansour and Juan Estrella"
   ]
  },
  {
   "cell_type": "code",
   "execution_count": 44,
   "metadata": {},
   "outputs": [],
   "source": [
    "import pandas as pd\n",
    "import numpy as np\n",
    "import matplotlib.pyplot as plt"
   ]
  },
  {
   "cell_type": "markdown",
   "metadata": {},
   "source": [
    "Part 1: Data Collection\n",
    "\n",
    "Step 1: Get the tsv data"
   ]
  },
  {
   "cell_type": "code",
   "execution_count": 115,
   "metadata": {
    "scrolled": true
   },
   "outputs": [],
   "source": [
    "# Data is saved in the same folder as the project. Then read data from tsv file\n",
    "data = pd.read_csv(\"train-balanced-sarcasm.csv\")"
   ]
  },
  {
   "cell_type": "markdown",
   "metadata": {},
   "source": [
    "Part 2: Data Processing\n",
    "\n",
    "Step 1: Columns required: Label, Comments, subreddit, parent comment\n",
    "\n",
    "Step 2: Create a Dataframe containing an even amount of sarcastic and non sarcastic \n",
    "comments, amount of data is 505413 each. "
   ]
  },
  {
   "cell_type": "code",
   "execution_count": 116,
   "metadata": {},
   "outputs": [
    {
     "data": {
      "text/html": [
       "<div>\n",
       "<style scoped>\n",
       "    .dataframe tbody tr th:only-of-type {\n",
       "        vertical-align: middle;\n",
       "    }\n",
       "\n",
       "    .dataframe tbody tr th {\n",
       "        vertical-align: top;\n",
       "    }\n",
       "\n",
       "    .dataframe thead th {\n",
       "        text-align: right;\n",
       "    }\n",
       "</style>\n",
       "<table border=\"1\" class=\"dataframe\">\n",
       "  <thead>\n",
       "    <tr style=\"text-align: right;\">\n",
       "      <th></th>\n",
       "      <th>label</th>\n",
       "      <th>comment</th>\n",
       "      <th>parent_comment</th>\n",
       "    </tr>\n",
       "  </thead>\n",
       "  <tbody>\n",
       "    <tr>\n",
       "      <th>0</th>\n",
       "      <td>0</td>\n",
       "      <td>NC and NH.</td>\n",
       "      <td>Yeah, I get that argument. At this point, I'd ...</td>\n",
       "    </tr>\n",
       "    <tr>\n",
       "      <th>1</th>\n",
       "      <td>0</td>\n",
       "      <td>You do know west teams play against west teams...</td>\n",
       "      <td>The blazers and Mavericks (The wests 5 and 6 s...</td>\n",
       "    </tr>\n",
       "    <tr>\n",
       "      <th>2</th>\n",
       "      <td>0</td>\n",
       "      <td>They were underdogs earlier today, but since G...</td>\n",
       "      <td>They're favored to win.</td>\n",
       "    </tr>\n",
       "    <tr>\n",
       "      <th>3</th>\n",
       "      <td>0</td>\n",
       "      <td>This meme isn't funny none of the \"new york ni...</td>\n",
       "      <td>deadass don't kill my buzz</td>\n",
       "    </tr>\n",
       "    <tr>\n",
       "      <th>4</th>\n",
       "      <td>0</td>\n",
       "      <td>I could use one of those tools.</td>\n",
       "      <td>Yep can confirm I saw the tool they use for th...</td>\n",
       "    </tr>\n",
       "  </tbody>\n",
       "</table>\n",
       "</div>"
      ],
      "text/plain": [
       "   label                                            comment  \\\n",
       "0      0                                         NC and NH.   \n",
       "1      0  You do know west teams play against west teams...   \n",
       "2      0  They were underdogs earlier today, but since G...   \n",
       "3      0  This meme isn't funny none of the \"new york ni...   \n",
       "4      0                    I could use one of those tools.   \n",
       "\n",
       "                                      parent_comment  \n",
       "0  Yeah, I get that argument. At this point, I'd ...  \n",
       "1  The blazers and Mavericks (The wests 5 and 6 s...  \n",
       "2                            They're favored to win.  \n",
       "3                         deadass don't kill my buzz  \n",
       "4  Yep can confirm I saw the tool they use for th...  "
      ]
     },
     "execution_count": 116,
     "metadata": {},
     "output_type": "execute_result"
    }
   ],
   "source": [
    "# Reset the indices after rows with NA values are dropped\n",
    "data.dropna(inplace=True)\n",
    "data.drop(['author', 'score', 'ups', 'downs', 'date', 'created_utc', 'subreddit'], axis = 1, inplace = True)\n",
    "data.reset_index(inplace = True)\n",
    "data.drop(['index'], axis = 1, inplace = True)\n",
    "data.head()"
   ]
  },
  {
   "cell_type": "code",
   "execution_count": 5,
   "metadata": {},
   "outputs": [],
   "source": [
    "#data.groupby('label').describe()"
   ]
  },
  {
   "cell_type": "markdown",
   "metadata": {},
   "source": [
    "We really wanted to use the entire dataset, unfortunately our laptops weren't strong enough to perform the different types of data manipulation and analysis we wanted. \n",
    "As a solution, we decided to sample 10% of the dataset each time we ran the program. 10% was actually the largest sample we could get without our Jupyter kernel dying from overflowing Docker's allocated memory resources (we set the memory for Docker to the max value possible given our laptops' specs!). "
   ]
  },
  {
   "cell_type": "code",
   "execution_count": 47,
   "metadata": {},
   "outputs": [],
   "source": [
    "data.drop(data[data.comment =='You forgot the'].index, inplace=True)\n",
    "data.drop(data[data.comment =='you forgot the'].index, inplace=True)\n",
    "data.drop(data[data.comment =='you dropped this:'].index, inplace=True)\n",
    "data.drop(data[data.comment =='You dropped this:'].index, inplace=True)\n",
    "data.drop(data[data.comment =='Forgot the'].index, inplace=True)\n",
    "data.drop(data[data.comment =='You forgot'].index, inplace=True)\n",
    "data.drop(data[data.comment =='You forgot your'].index, inplace=True)\n",
    "data.drop(data[data.comment =='You dropped this'].index, inplace=True)\n",
    "data.drop(data[data.comment =='I think you forgot the'].index, inplace=True)\n",
    "data.drop(data[data.comment =='You forgot this:'].index, inplace=True)\n",
    "data.drop(data[data.comment =='You dropped your'].index, inplace=True)\n",
    "data.drop(data[data.comment =='I forgot the'].index, inplace=True)\n",
    "data.drop(data[data.comment =='you forgot'].index, inplace=True)"
   ]
  },
  {
   "cell_type": "code",
   "execution_count": 117,
   "metadata": {},
   "outputs": [
    {
     "data": {
      "text/html": [
       "<div>\n",
       "<style scoped>\n",
       "    .dataframe tbody tr th:only-of-type {\n",
       "        vertical-align: middle;\n",
       "    }\n",
       "\n",
       "    .dataframe tbody tr th {\n",
       "        vertical-align: top;\n",
       "    }\n",
       "\n",
       "    .dataframe thead th {\n",
       "        text-align: right;\n",
       "    }\n",
       "</style>\n",
       "<table border=\"1\" class=\"dataframe\">\n",
       "  <thead>\n",
       "    <tr style=\"text-align: right;\">\n",
       "      <th></th>\n",
       "      <th></th>\n",
       "      <th>label</th>\n",
       "      <th>comment</th>\n",
       "      <th>parent_comment</th>\n",
       "    </tr>\n",
       "  </thead>\n",
       "  <tbody>\n",
       "    <tr>\n",
       "      <th rowspan=\"5\" valign=\"top\">0</th>\n",
       "      <th>679817</th>\n",
       "      <td>0</td>\n",
       "      <td>Like telling cops its OK to treat all people o...</td>\n",
       "      <td>He did a lot in the 90s and 2000s as the mayor...</td>\n",
       "    </tr>\n",
       "    <tr>\n",
       "      <th>629621</th>\n",
       "      <td>0</td>\n",
       "      <td>As someone who is deliberately celibate for qu...</td>\n",
       "      <td>let's acknowledge sexist bias in upbringing th...</td>\n",
       "    </tr>\n",
       "    <tr>\n",
       "      <th>186525</th>\n",
       "      <td>0</td>\n",
       "      <td>Never seen such signs here but people born in ...</td>\n",
       "      <td>In two years those signs will say 2000 where I...</td>\n",
       "    </tr>\n",
       "    <tr>\n",
       "      <th>38263</th>\n",
       "      <td>0</td>\n",
       "      <td>It could be a helluva way to introduce a new m...</td>\n",
       "      <td>Yeah there's no way they include a minor chara...</td>\n",
       "    </tr>\n",
       "    <tr>\n",
       "      <th>620138</th>\n",
       "      <td>0</td>\n",
       "      <td>F</td>\n",
       "      <td>Went to my friends house for a sleepover, some...</td>\n",
       "    </tr>\n",
       "  </tbody>\n",
       "</table>\n",
       "</div>"
      ],
      "text/plain": [
       "          label                                            comment  \\\n",
       "0 679817      0  Like telling cops its OK to treat all people o...   \n",
       "  629621      0  As someone who is deliberately celibate for qu...   \n",
       "  186525      0  Never seen such signs here but people born in ...   \n",
       "  38263       0  It could be a helluva way to introduce a new m...   \n",
       "  620138      0                                                  F   \n",
       "\n",
       "                                             parent_comment  \n",
       "0 679817  He did a lot in the 90s and 2000s as the mayor...  \n",
       "  629621  let's acknowledge sexist bias in upbringing th...  \n",
       "  186525  In two years those signs will say 2000 where I...  \n",
       "  38263   Yeah there's no way they include a minor chara...  \n",
       "  620138  Went to my friends house for a sleepover, some...  "
      ]
     },
     "execution_count": 117,
     "metadata": {},
     "output_type": "execute_result"
    }
   ],
   "source": [
    "# Determine size and replacement values\n",
    "size = int(len(data)*0.5/100)# sample size\n",
    "replace = True  # with replacement\n",
    "# Function used to pick random rows from the dataset\n",
    "# We used the groupby('label') function to choose equal numbers \n",
    "# of sarcastic and non-sarcastic comments\n",
    "fun = lambda obj: obj.loc[np.random.choice(obj.index, size, replace),:]\n",
    "chosen_data = data.groupby('label', as_index=False).apply(fun)\n",
    "chosen_data.head()"
   ]
  },
  {
   "cell_type": "code",
   "execution_count": 118,
   "metadata": {},
   "outputs": [
    {
     "data": {
      "text/html": [
       "<div>\n",
       "<style scoped>\n",
       "    .dataframe tbody tr th:only-of-type {\n",
       "        vertical-align: middle;\n",
       "    }\n",
       "\n",
       "    .dataframe tbody tr th {\n",
       "        vertical-align: top;\n",
       "    }\n",
       "\n",
       "    .dataframe thead th {\n",
       "        text-align: right;\n",
       "    }\n",
       "</style>\n",
       "<table border=\"1\" class=\"dataframe\">\n",
       "  <thead>\n",
       "    <tr style=\"text-align: right;\">\n",
       "      <th></th>\n",
       "      <th>label</th>\n",
       "      <th>comment</th>\n",
       "      <th>parent_comment</th>\n",
       "    </tr>\n",
       "  </thead>\n",
       "  <tbody>\n",
       "    <tr>\n",
       "      <th>0</th>\n",
       "      <td>0</td>\n",
       "      <td>Like telling cops its OK to treat all people o...</td>\n",
       "      <td>He did a lot in the 90s and 2000s as the mayor...</td>\n",
       "    </tr>\n",
       "    <tr>\n",
       "      <th>1</th>\n",
       "      <td>0</td>\n",
       "      <td>As someone who is deliberately celibate for qu...</td>\n",
       "      <td>let's acknowledge sexist bias in upbringing th...</td>\n",
       "    </tr>\n",
       "    <tr>\n",
       "      <th>2</th>\n",
       "      <td>0</td>\n",
       "      <td>Never seen such signs here but people born in ...</td>\n",
       "      <td>In two years those signs will say 2000 where I...</td>\n",
       "    </tr>\n",
       "    <tr>\n",
       "      <th>3</th>\n",
       "      <td>0</td>\n",
       "      <td>It could be a helluva way to introduce a new m...</td>\n",
       "      <td>Yeah there's no way they include a minor chara...</td>\n",
       "    </tr>\n",
       "    <tr>\n",
       "      <th>4</th>\n",
       "      <td>0</td>\n",
       "      <td>F</td>\n",
       "      <td>Went to my friends house for a sleepover, some...</td>\n",
       "    </tr>\n",
       "  </tbody>\n",
       "</table>\n",
       "</div>"
      ],
      "text/plain": [
       "   label                                            comment  \\\n",
       "0      0  Like telling cops its OK to treat all people o...   \n",
       "1      0  As someone who is deliberately celibate for qu...   \n",
       "2      0  Never seen such signs here but people born in ...   \n",
       "3      0  It could be a helluva way to introduce a new m...   \n",
       "4      0                                                  F   \n",
       "\n",
       "                                      parent_comment  \n",
       "0  He did a lot in the 90s and 2000s as the mayor...  \n",
       "1  let's acknowledge sexist bias in upbringing th...  \n",
       "2  In two years those signs will say 2000 where I...  \n",
       "3  Yeah there's no way they include a minor chara...  \n",
       "4  Went to my friends house for a sleepover, some...  "
      ]
     },
     "execution_count": 118,
     "metadata": {},
     "output_type": "execute_result"
    }
   ],
   "source": [
    "# Reset the indexes to remove the grouping into 0s and 1s\n",
    "chosen_data.reset_index(inplace = True)\n",
    "# Delete the columns that include the names of the indexes created from the groups\n",
    "chosen_data.drop(['level_0', 'level_1'], inplace = True, axis = 1)\n",
    "chosen_data.head()"
   ]
  },
  {
   "cell_type": "code",
   "execution_count": 119,
   "metadata": {},
   "outputs": [
    {
     "data": {
      "text/html": [
       "<div>\n",
       "<style scoped>\n",
       "    .dataframe tbody tr th:only-of-type {\n",
       "        vertical-align: middle;\n",
       "    }\n",
       "\n",
       "    .dataframe tbody tr th {\n",
       "        vertical-align: top;\n",
       "    }\n",
       "\n",
       "    .dataframe thead th {\n",
       "        text-align: right;\n",
       "    }\n",
       "</style>\n",
       "<table border=\"1\" class=\"dataframe\">\n",
       "  <thead>\n",
       "    <tr style=\"text-align: right;\">\n",
       "      <th></th>\n",
       "      <th>label</th>\n",
       "      <th>comment</th>\n",
       "      <th>parent_comment</th>\n",
       "    </tr>\n",
       "  </thead>\n",
       "  <tbody>\n",
       "    <tr>\n",
       "      <th>10101</th>\n",
       "      <td>1</td>\n",
       "      <td>Just move to Piedmont</td>\n",
       "      <td>Too late. We're already set to move. We had ou...</td>\n",
       "    </tr>\n",
       "    <tr>\n",
       "      <th>10102</th>\n",
       "      <td>1</td>\n",
       "      <td>Well fortunately he is in the minority of poli...</td>\n",
       "      <td>The real hoot about that is mitch's wife is cl...</td>\n",
       "    </tr>\n",
       "    <tr>\n",
       "      <th>10103</th>\n",
       "      <td>1</td>\n",
       "      <td>Tilian is rewriting history</td>\n",
       "      <td>DBM on spotify issue? Listened to Downtown Bat...</td>\n",
       "    </tr>\n",
       "    <tr>\n",
       "      <th>10104</th>\n",
       "      <td>1</td>\n",
       "      <td>But she hasn't gone to Milwaukee or said Blue ...</td>\n",
       "      <td>I suppose that NAACP invitation \"slipped his m...</td>\n",
       "    </tr>\n",
       "    <tr>\n",
       "      <th>10105</th>\n",
       "      <td>1</td>\n",
       "      <td>Gawker is a quality journalistic conglomerate ...</td>\n",
       "      <td>Deadspin likes to be \"edgy\" so they don't give...</td>\n",
       "    </tr>\n",
       "  </tbody>\n",
       "</table>\n",
       "</div>"
      ],
      "text/plain": [
       "       label                                            comment  \\\n",
       "10101      1                              Just move to Piedmont   \n",
       "10102      1  Well fortunately he is in the minority of poli...   \n",
       "10103      1                        Tilian is rewriting history   \n",
       "10104      1  But she hasn't gone to Milwaukee or said Blue ...   \n",
       "10105      1  Gawker is a quality journalistic conglomerate ...   \n",
       "\n",
       "                                          parent_comment  \n",
       "10101  Too late. We're already set to move. We had ou...  \n",
       "10102  The real hoot about that is mitch's wife is cl...  \n",
       "10103  DBM on spotify issue? Listened to Downtown Bat...  \n",
       "10104  I suppose that NAACP invitation \"slipped his m...  \n",
       "10105  Deadspin likes to be \"edgy\" so they don't give...  "
      ]
     },
     "execution_count": 119,
     "metadata": {},
     "output_type": "execute_result"
    }
   ],
   "source": [
    "chosen_data.tail()"
   ]
  },
  {
   "cell_type": "markdown",
   "metadata": {},
   "source": [
    "Part 3: Exploratory Analysis & Data Visualization\n",
    "\n",
    "We made sure we got equal number of sarcastic and non-sarcastic comments. From the following histogram, we notice we got 50,000 comments from each group."
   ]
  },
  {
   "cell_type": "code",
   "execution_count": 120,
   "metadata": {},
   "outputs": [
    {
     "data": {
      "image/png": "[encoded data removed]",
      "text/plain": [
       "<Figure size 432x288 with 1 Axes>"
      ]
     },
     "metadata": {
      "needs_background": "light"
     },
     "output_type": "display_data"
    }
   ],
   "source": [
    "# Explore distribution of the data by label (0 -> non-sarcastic, 1 -> sarcastic)\n",
    "plt.hist(chosen_data.label)\n",
    "plt.xlabel('Label')\n",
    "plt.ylabel('Count')\n",
    "plt.title('Distribution of Comments by Label')\n",
    "plt.show()"
   ]
  },
  {
   "cell_type": "code",
   "execution_count": 121,
   "metadata": {},
   "outputs": [
    {
     "data": {
      "text/html": [
       "<div>\n",
       "<style scoped>\n",
       "    .dataframe tbody tr th:only-of-type {\n",
       "        vertical-align: middle;\n",
       "    }\n",
       "\n",
       "    .dataframe tbody tr th {\n",
       "        vertical-align: top;\n",
       "    }\n",
       "\n",
       "    .dataframe thead tr th {\n",
       "        text-align: left;\n",
       "    }\n",
       "\n",
       "    .dataframe thead tr:last-of-type th {\n",
       "        text-align: right;\n",
       "    }\n",
       "</style>\n",
       "<table border=\"1\" class=\"dataframe\">\n",
       "  <thead>\n",
       "    <tr>\n",
       "      <th></th>\n",
       "      <th colspan=\"4\" halign=\"left\">comment</th>\n",
       "      <th colspan=\"4\" halign=\"left\">parent_comment</th>\n",
       "    </tr>\n",
       "    <tr>\n",
       "      <th></th>\n",
       "      <th>count</th>\n",
       "      <th>unique</th>\n",
       "      <th>top</th>\n",
       "      <th>freq</th>\n",
       "      <th>count</th>\n",
       "      <th>unique</th>\n",
       "      <th>top</th>\n",
       "      <th>freq</th>\n",
       "    </tr>\n",
       "    <tr>\n",
       "      <th>label</th>\n",
       "      <th></th>\n",
       "      <th></th>\n",
       "      <th></th>\n",
       "      <th></th>\n",
       "      <th></th>\n",
       "      <th></th>\n",
       "      <th></th>\n",
       "      <th></th>\n",
       "    </tr>\n",
       "  </thead>\n",
       "  <tbody>\n",
       "    <tr>\n",
       "      <th>0</th>\n",
       "      <td>5053</td>\n",
       "      <td>4966</td>\n",
       "      <td>Yes</td>\n",
       "      <td>7</td>\n",
       "      <td>5053</td>\n",
       "      <td>5015</td>\n",
       "      <td>Cat.</td>\n",
       "      <td>3</td>\n",
       "    </tr>\n",
       "    <tr>\n",
       "      <th>1</th>\n",
       "      <td>5053</td>\n",
       "      <td>4978</td>\n",
       "      <td>You forgot the</td>\n",
       "      <td>16</td>\n",
       "      <td>5053</td>\n",
       "      <td>5025</td>\n",
       "      <td>55-17 cumulative record</td>\n",
       "      <td>2</td>\n",
       "    </tr>\n",
       "  </tbody>\n",
       "</table>\n",
       "</div>"
      ],
      "text/plain": [
       "      comment                             parent_comment         \\\n",
       "        count unique             top freq          count unique   \n",
       "label                                                             \n",
       "0        5053   4966             Yes    7           5053   5015   \n",
       "1        5053   4978  You forgot the   16           5053   5025   \n",
       "\n",
       "                                     \n",
       "                           top freq  \n",
       "label                                \n",
       "0                         Cat.    3  \n",
       "1      55-17 cumulative record    2  "
      ]
     },
     "execution_count": 121,
     "metadata": {},
     "output_type": "execute_result"
    }
   ],
   "source": [
    "# Explore distribution of the data by label (0 -> non-sarcastic, 1 -> sarcastic)\n",
    "plt.hist(chosen_data.label)\n",
    "plt.xlabel('Label')\n",
    "plt.ylabel('Count')\n",
    "plt.title('Distribution of Comments by Label')\n",
    "plt.show()\n",
    "\n",
    "# Explore distribution of comments by label \n",
    "chosen_data.groupby('label').describe()"
   ]
  },
  {
   "cell_type": "code",
   "execution_count": 53,
   "metadata": {},
   "outputs": [
    {
     "name": "stdout",
     "output_type": "stream",
     "text": [
      "sh: 0: getcwd() failed: No such file or directory\n",
      "The folder you are executing pip from can no longer be found.\n"
     ]
    }
   ],
   "source": [
    "#Import NLTK library\n",
    "!pip install nltk"
   ]
  },
  {
   "cell_type": "code",
   "execution_count": 54,
   "metadata": {},
   "outputs": [],
   "source": [
    "import nltk"
   ]
  },
  {
   "cell_type": "code",
   "execution_count": 15,
   "metadata": {},
   "outputs": [],
   "source": [
    "nltk.download(\"all\")"
   ]
  },
  {
   "cell_type": "code",
   "execution_count": 55,
   "metadata": {},
   "outputs": [],
   "source": [
    "from nltk.corpus import stopwords #Use this to get rid of meaningless words like \"the, and, a\"\n",
    "from nltk.tokenize import word_tokenize #Split by word\n",
    "from nltk.tokenize import sent_tokenize #Split by sentence"
   ]
  },
  {
   "cell_type": "code",

   "execution_count": 123,
   "metadata": {},
   "outputs": [
    {
     "data": {
      "text/html": [
       "<div>\n",
       "<style scoped>\n",
       "    .dataframe tbody tr th:only-of-type {\n",
       "        vertical-align: middle;\n",
       "    }\n",
       "\n",
       "    .dataframe tbody tr th {\n",
       "        vertical-align: top;\n",
       "    }\n",
       "\n",
       "    .dataframe thead th {\n",
       "        text-align: right;\n",
       "    }\n",
       "</style>\n",
       "<table border=\"1\" class=\"dataframe\">\n",
       "  <thead>\n",
       "    <tr style=\"text-align: right;\">\n",
       "      <th></th>\n",
       "      <th>label</th>\n",
       "      <th>comment</th>\n",
       "      <th>parent_comment</th>\n",
       "      <th>tok_comment</th>\n",
       "      <th>POS_tag</th>\n",
       "    </tr>\n",
       "  </thead>\n",
       "  <tbody>\n",
       "    <tr>\n",
       "      <th>0</th>\n",
       "      <td>0</td>\n",
       "      <td>Like telling cops its OK to treat all people o...</td>\n",
       "      <td>He did a lot in the 90s and 2000s as the mayor...</td>\n",
       "      <td>[Like, telling, cops, its, OK, to, treat, all,...</td>\n",
       "      <td>[(Like, IN), (telling, VBG), (cops, VB), (its,...</td>\n",
       "    </tr>\n",
       "    <tr>\n",
       "      <th>1</th>\n",
       "      <td>0</td>\n",
       "      <td>As someone who is deliberately celibate for qu...</td>\n",
       "      <td>let's acknowledge sexist bias in upbringing th...</td>\n",
       "      <td>[As, someone, who, is, deliberately, celibate,...</td>\n",
       "      <td>[(As, IN), (someone, NN), (who, WP), (is, VBZ)...</td>\n",
       "    </tr>\n",
       "    <tr>\n",
       "      <th>2</th>\n",
       "      <td>0</td>\n",
       "      <td>Never seen such signs here but people born in ...</td>\n",
       "      <td>In two years those signs will say 2000 where I...</td>\n",
       "      <td>[Never, seen, such, signs, here, but, people, ...</td>\n",
       "      <td>[(Never, RB), (seen, VBN), (such, JJ), (signs,...</td>\n",
       "    </tr>\n",
       "    <tr>\n",
       "      <th>3</th>\n",
       "      <td>0</td>\n",
       "      <td>It could be a helluva way to introduce a new m...</td>\n",
       "      <td>Yeah there's no way they include a minor chara...</td>\n",
       "      <td>[It, could, be, a, helluva, way, to, introduce...</td>\n",
       "      <td>[(It, PRP), (could, MD), (be, VB), (a, DT), (h...</td>\n",
       "    </tr>\n",
       "    <tr>\n",
       "      <th>4</th>\n",
       "      <td>0</td>\n",
       "      <td>F</td>\n",
       "      <td>Went to my friends house for a sleepover, some...</td>\n",
       "      <td>[F]</td>\n",
       "      <td>[(F, NN)]</td>\n",
       "    </tr>\n",
       "  </tbody>\n",
       "</table>\n",
       "</div>"
      ],
      "text/plain": [
       "   label                                            comment  \\\n",
       "0      0  Like telling cops its OK to treat all people o...   \n",
       "1      0  As someone who is deliberately celibate for qu...   \n",
       "2      0  Never seen such signs here but people born in ...   \n",
       "3      0  It could be a helluva way to introduce a new m...   \n",
       "4      0                                                  F   \n",
       "\n",
       "                                      parent_comment  \\\n",
       "0  He did a lot in the 90s and 2000s as the mayor...   \n",
       "1  let's acknowledge sexist bias in upbringing th...   \n",
       "2  In two years those signs will say 2000 where I...   \n",
       "3  Yeah there's no way they include a minor chara...   \n",
       "4  Went to my friends house for a sleepover, some...   \n",
       "\n",
       "                                         tok_comment  \\\n",
       "0  [Like, telling, cops, its, OK, to, treat, all,...   \n",
       "1  [As, someone, who, is, deliberately, celibate,...   \n",
       "2  [Never, seen, such, signs, here, but, people, ...   \n",
       "3  [It, could, be, a, helluva, way, to, introduce...   \n",
       "4                                                [F]   \n",
       "\n",
       "                                             POS_tag  \n",
       "0  [(Like, IN), (telling, VBG), (cops, VB), (its,...  \n",
       "1  [(As, IN), (someone, NN), (who, WP), (is, VBZ)...  \n",
       "2  [(Never, RB), (seen, VBN), (such, JJ), (signs,...  \n",
       "3  [(It, PRP), (could, MD), (be, VB), (a, DT), (h...  \n",
       "4                                          [(F, NN)]  "
      ]
     },
     "execution_count": 123,
     "metadata": {},
     "output_type": "execute_result"
    }
   ],
   "source": [
    "#Make sure all the comment column is str data type\n",
    "chosen_data['comment'] = chosen_data['comment'].astype(str)\n",
    "chosen_data['parent_comment'] = chosen_data['parent_comment'].astype(str)\n",
    "\n",
    "# Split the comments into words\n",
    "chosen_data['tok_comment'] = chosen_data['comment'].apply(word_tokenize)\n",
    "# Apply Parts of Speech tagging on the words\n",
    "chosen_data['POS_tag'] = chosen_data['tok_comment'].apply(nltk.pos_tag)\n",
    "# chosen_data.head()\n",
    "\n",
    "# Apply stemming on the tokenized comments to get the roots of the words\n",
    "from nltk.stem.snowball import SnowballStemmer\n",
    "\n",
    "stemmer = SnowballStemmer(\"english\")\n",
    "\n",
    "chosen_data['stem'] = chosen_data['tok_comment'].apply(lambda x: [stemmer.stem(y) for y in x])\n",
    "chosen_data.head()"
   ]
  },
  {
   "cell_type": "markdown",
   "metadata": {},
   "source": [
    "After confirming our suspicions that using TF-IDF on the raw tokenized comments would yield very modest results, we decided to continue exploring how we can fix our models. First, we used chunking to break up the comments into more meaningful noun phrases. "
   ]
  },
  {
   "cell_type": "markdown",
   "metadata": {},
   "source": [
    "Notice how the chunked sentences column groups the nouns into groups with"
   ]
  },
  {
   "cell_type": "code",
   "execution_count": 125,
   "metadata": {},
   "outputs": [],
   "source": [
    "joined_tag = []\n",
    "for index, row in chosen_data.iterrows():\n",
    "    joined_tag.append(' '.join([word + \"_\" + pos for word, pos in row['POS_tag']]))\n",
    "chosen_data['joined_POS_tag'] = joined_tag.copy()"
   ]
  },
  {
   "cell_type": "code",
   "execution_count": 126,
   "metadata": {
    "scrolled": true
   },
   "outputs": [
    {
     "data": {
      "text/html": [
       "<div>\n",
       "<style scoped>\n",
       "    .dataframe tbody tr th:only-of-type {\n",
       "        vertical-align: middle;\n",
       "    }\n",
       "\n",
       "    .dataframe tbody tr th {\n",
       "        vertical-align: top;\n",
       "    }\n",
       "\n",
       "    .dataframe thead th {\n",
       "        text-align: right;\n",
       "    }\n",
       "</style>\n",
       "<table border=\"1\" class=\"dataframe\">\n",
       "  <thead>\n",
       "    <tr style=\"text-align: right;\">\n",
       "      <th></th>\n",
       "      <th>label</th>\n",
       "      <th>comment</th>\n",
       "      <th>parent_comment</th>\n",
       "      <th>tok_comment</th>\n",
       "      <th>POS_tag</th>\n",
       "      <th>stem</th>\n",
       "      <th>joined_POS_tag</th>\n",
       "    </tr>\n",
       "  </thead>\n",
       "  <tbody>\n",
       "    <tr>\n",
       "      <th>0</th>\n",
       "      <td>0</td>\n",
       "      <td>Like telling cops its OK to treat all people o...</td>\n",
       "      <td>He did a lot in the 90s and 2000s as the mayor...</td>\n",
       "      <td>[Like, telling, cops, its, OK, to, treat, all,...</td>\n",
       "      <td>[(Like, IN), (telling, VBG), (cops, VB), (its,...</td>\n",
       "      <td>[like, tell, cop, it, ok, to, treat, all, peop...</td>\n",
       "      <td>Like_IN telling_VBG cops_VB its_PRP$ OK_NNP to...</td>\n",
       "    </tr>\n",
       "    <tr>\n",
       "      <th>1</th>\n",
       "      <td>0</td>\n",
       "      <td>As someone who is deliberately celibate for qu...</td>\n",
       "      <td>let's acknowledge sexist bias in upbringing th...</td>\n",
       "      <td>[As, someone, who, is, deliberately, celibate,...</td>\n",
       "      <td>[(As, IN), (someone, NN), (who, WP), (is, VBZ)...</td>\n",
       "      <td>[as, someon, who, is, deliber, celib, for, qui...</td>\n",
       "      <td>As_IN someone_NN who_WP is_VBZ deliberately_RB...</td>\n",
       "    </tr>\n",
       "    <tr>\n",
       "      <th>2</th>\n",
       "      <td>0</td>\n",
       "      <td>Never seen such signs here but people born in ...</td>\n",
       "      <td>In two years those signs will say 2000 where I...</td>\n",
       "      <td>[Never, seen, such, signs, here, but, people, ...</td>\n",
       "      <td>[(Never, RB), (seen, VBN), (such, JJ), (signs,...</td>\n",
       "      <td>[never, seen, such, sign, here, but, peopl, bo...</td>\n",
       "      <td>Never_RB seen_VBN such_JJ signs_NNS here_RB bu...</td>\n",
       "    </tr>\n",
       "    <tr>\n",
       "      <th>3</th>\n",
       "      <td>0</td>\n",
       "      <td>It could be a helluva way to introduce a new m...</td>\n",
       "      <td>Yeah there's no way they include a minor chara...</td>\n",
       "      <td>[It, could, be, a, helluva, way, to, introduce...</td>\n",
       "      <td>[(It, PRP), (could, MD), (be, VB), (a, DT), (h...</td>\n",
       "      <td>[it, could, be, a, helluva, way, to, introduc,...</td>\n",
       "      <td>It_PRP could_MD be_VB a_DT helluva_JJ way_NN t...</td>\n",
       "    </tr>\n",
       "    <tr>\n",
       "      <th>4</th>\n",
       "      <td>0</td>\n",
       "      <td>F</td>\n",
       "      <td>Went to my friends house for a sleepover, some...</td>\n",
       "      <td>[F]</td>\n",
       "      <td>[(F, NN)]</td>\n",
       "      <td>[f]</td>\n",
       "      <td>F_NN</td>\n",
       "    </tr>\n",
       "  </tbody>\n",
       "</table>\n",
       "</div>"
      ],
      "text/plain": [
       "   label                                            comment  \\\n",
       "0      0  Like telling cops its OK to treat all people o...   \n",
       "1      0  As someone who is deliberately celibate for qu...   \n",
       "2      0  Never seen such signs here but people born in ...   \n",
       "3      0  It could be a helluva way to introduce a new m...   \n",
       "4      0                                                  F   \n",
       "\n",
       "                                      parent_comment  \\\n",
       "0  He did a lot in the 90s and 2000s as the mayor...   \n",
       "1  let's acknowledge sexist bias in upbringing th...   \n",
       "2  In two years those signs will say 2000 where I...   \n",
       "3  Yeah there's no way they include a minor chara...   \n",
       "4  Went to my friends house for a sleepover, some...   \n",
       "\n",
       "                                         tok_comment  \\\n",
       "0  [Like, telling, cops, its, OK, to, treat, all,...   \n",
       "1  [As, someone, who, is, deliberately, celibate,...   \n",
       "2  [Never, seen, such, signs, here, but, people, ...   \n",
       "3  [It, could, be, a, helluva, way, to, introduce...   \n",
       "4                                                [F]   \n",
       "\n",
       "                                             POS_tag  \\\n",
       "0  [(Like, IN), (telling, VBG), (cops, VB), (its,...   \n",
       "1  [(As, IN), (someone, NN), (who, WP), (is, VBZ)...   \n",
       "2  [(Never, RB), (seen, VBN), (such, JJ), (signs,...   \n",
       "3  [(It, PRP), (could, MD), (be, VB), (a, DT), (h...   \n",
       "4                                          [(F, NN)]   \n",
       "\n",
       "                                                stem  \\\n",
       "0  [like, tell, cop, it, ok, to, treat, all, peop...   \n",
       "1  [as, someon, who, is, deliber, celib, for, qui...   \n",
       "2  [never, seen, such, sign, here, but, peopl, bo...   \n",
       "3  [it, could, be, a, helluva, way, to, introduc,...   \n",
       "4                                                [f]   \n",
       "\n",
       "                                      joined_POS_tag  \n",
       "0  Like_IN telling_VBG cops_VB its_PRP$ OK_NNP to...  \n",
       "1  As_IN someone_NN who_WP is_VBZ deliberately_RB...  \n",
       "2  Never_RB seen_VBN such_JJ signs_NNS here_RB bu...  \n",
       "3  It_PRP could_MD be_VB a_DT helluva_JJ way_NN t...  \n",
       "4                                               F_NN  "
      ]
     },
     "execution_count": 126,
     "metadata": {},
     "output_type": "execute_result"
    }
   ],
   "source": [
    "chosen_data.head()"
   ]
  },
  {
   "cell_type": "code",
   "execution_count": null,
   "metadata": {},
   "outputs": [],
   "source": [
    "!pip install -U textblob\n",
    "from textblob import TextBlob\n"
   ]
  },
  {
   "cell_type": "code",
   "execution_count": 133,
   "metadata": {},
   "outputs": [
    {
     "name": "stdout",
     "output_type": "stream",
     "text": [
      "(10106,)\n"
     ]
    }
   ],
   "source": [
    "\n",
    "# Polarity for comment\n",
    "blob_list = []\n",
    "for index, row in chosen_data.iterrows():\n",
    "    blob_list.append(TextBlob(row['comment']))\n",
    "chosen_data['textblob'] = blob_list.copy()\n",
    "\n",
    "# chosen_data.head()\n",
    "\n",
    "polarity_list = []\n",
    "for index, row in chosen_data.iterrows():\n",
    "    polarity_list.append(row['textblob'].sentiment.polarity)\n",
    "\n",
    "chosen_data['polarity'] = polarity_list.copy()\n",
    "\n",
    "# chosen_data.head()\n",
    "\n",
    "print(chosen_data['polarity'].shape)"
   ]
  },
  {
   "cell_type": "code",
   "execution_count": 135,
   "metadata": {},
   "outputs": [
    {
     "name": "stdout",
     "output_type": "stream",
     "text": [
      "(10106,)\n"
     ]
    }
   ],
   "source": [
    "# Polarity for parent comment\n",
    "\n",
    "parent_blob_list = []\n",
    "for index, row in chosen_data.iterrows():\n",
    "    parent_blob_list.append(TextBlob(row['parent_comment']))\n",
    "chosen_data['parent_textblob'] = parent_blob_list.copy()\n",
    "\n",
    "\n",
    "# chosen_data.head()\n",
    "\n",
    "parent_polarity_list = []\n",
    "for index, row in chosen_data.iterrows():\n",
    "    parent_polarity_list.append(row['parent_textblob'].sentiment.polarity)\n",
    "\n",
    "chosen_data['parent_polarity'] = parent_polarity_list.copy()\n",
    "\n",
    "# chosen_data.head()\n",
    "\n",
    "print(chosen_data['parent_polarity'].shape)"
   ]
  },
  {
   "cell_type": "markdown",
   "metadata": {},
   "source": [
    "### Predicting Sarcasm\n",
    "\n",
    "We were interested in trying different models for predicting a sarcastic comment.\n",
    "To determine the features and labels for the analysis, we decided to look at the comment itself as a feature and use the given sarcastic vs non-sarcastic classification as our label.\n",
    "\n",
    "Various articles and studies looked at sarcasm and attempted to predict using different features. For instance, an online tutorial only looked at TF-IDF as a feature, so we decided we wanted to experiment with that and see if we would get anything remotely close to their findings. Worth noting, however, that they looked at tweets with the #sarcasm tag, their dataset was significantly smaller than ours (N= ), and their training vs test data split was slightly unusual (training = 95%, test = 5%). \n",
    "\n",
    "To create a more reliable model, we decided to split our data into the more common 80-20 split for training and test subsets respectively. We also chose three main models to compare, acknowledging that some of them might fare slightly more poorly compared to the others. We also assumed TF-IDF vectorization of the comments alone would not be a good predictor for whether a comment is sarcastic or not. \n",
    "\n",
    "The three models we picked were:\n",
    "1. Logistic regression\n",
    "2. Support Vector Machine\n",
    "3. Random forest"
   ]
  },
  {
   "cell_type": "code",
   "execution_count": 136,
   "metadata": {},
   "outputs": [],
   "source": [
    "from sklearn.model_selection import train_test_split\n",
    "from sklearn.metrics import confusion_matrix\n",
    "from sklearn.svm import LinearSVC\n",
    "from sklearn.model_selection import cross_val_score\n",
    "from sklearn.naive_bayes import GaussianNB\n",
    "from sklearn.linear_model import LogisticRegression\n",
    "from sklearn.ensemble import RandomForestClassifier"
   ]
  },
  {
   "cell_type": "code",
   "execution_count": 137,
   "metadata": {},
   "outputs": [
    {
     "data": {
      "text/html": [
       "<div>\n",
       "<style scoped>\n",
       "    .dataframe tbody tr th:only-of-type {\n",
       "        vertical-align: middle;\n",
       "    }\n",
       "\n",
       "    .dataframe tbody tr th {\n",
       "        vertical-align: top;\n",
       "    }\n",
       "\n",
       "    .dataframe thead th {\n",
       "        text-align: right;\n",
       "    }\n",
       "</style>\n",
       "<table border=\"1\" class=\"dataframe\">\n",
       "  <thead>\n",
       "    <tr style=\"text-align: right;\">\n",
       "      <th></th>\n",
       "      <th>label</th>\n",
       "      <th>comment</th>\n",
       "      <th>parent_comment</th>\n",
       "      <th>tok_comment</th>\n",
       "      <th>POS_tag</th>\n",
       "      <th>stem</th>\n",
       "      <th>joined_POS_tag</th>\n",
       "      <th>textblob</th>\n",
       "      <th>polarity</th>\n",
       "      <th>parent_textblob</th>\n",
       "      <th>parent_polarity</th>\n",
       "      <th>joined_stem</th>\n",
       "    </tr>\n",
       "  </thead>\n",
       "  <tbody>\n",
       "    <tr>\n",
       "      <th>0</th>\n",
       "      <td>0</td>\n",
       "      <td>Like telling cops its OK to treat all people o...</td>\n",
       "      <td>He did a lot in the 90s and 2000s as the mayor...</td>\n",
       "      <td>[Like, telling, cops, its, OK, to, treat, all,...</td>\n",
       "      <td>[(Like, IN), (telling, VBG), (cops, VB), (its,...</td>\n",
       "      <td>[like, tell, cop, it, ok, to, treat, all, peop...</td>\n",
       "      <td>Like_IN telling_VBG cops_VB its_PRP$ OK_NNP to...</td>\n",
       "      <td>(L, i, k, e,  , t, e, l, l, i, n, g,  , c, o, ...</td>\n",
       "      <td>0.500000</td>\n",
       "      <td>(H, e,  , d, i, d,  , a,  , l, o, t,  , i, n, ...</td>\n",
       "      <td>0.000000</td>\n",
       "      <td>like tell cop it ok to treat all peopl of colo...</td>\n",
       "    </tr>\n",
       "    <tr>\n",
       "      <th>1</th>\n",
       "      <td>0</td>\n",
       "      <td>As someone who is deliberately celibate for qu...</td>\n",
       "      <td>let's acknowledge sexist bias in upbringing th...</td>\n",
       "      <td>[As, someone, who, is, deliberately, celibate,...</td>\n",
       "      <td>[(As, IN), (someone, NN), (who, WP), (is, VBZ)...</td>\n",
       "      <td>[as, someon, who, is, deliber, celib, for, qui...</td>\n",
       "      <td>As_IN someone_NN who_WP is_VBZ deliberately_RB...</td>\n",
       "      <td>(A, s,  , s, o, m, e, o, n, e,  , w, h, o,  , ...</td>\n",
       "      <td>-0.181548</td>\n",
       "      <td>(l, e, t, ', s,  , a, c, k, n, o, w, l, e, d, ...</td>\n",
       "      <td>-0.625000</td>\n",
       "      <td>as someon who is deliber celib for quit some t...</td>\n",
       "    </tr>\n",
       "    <tr>\n",
       "      <th>2</th>\n",
       "      <td>0</td>\n",
       "      <td>Never seen such signs here but people born in ...</td>\n",
       "      <td>In two years those signs will say 2000 where I...</td>\n",
       "      <td>[Never, seen, such, signs, here, but, people, ...</td>\n",
       "      <td>[(Never, RB), (seen, VBN), (such, JJ), (signs,...</td>\n",
       "      <td>[never, seen, such, sign, here, but, peopl, bo...</td>\n",
       "      <td>Never_RB seen_VBN such_JJ signs_NNS here_RB bu...</td>\n",
       "      <td>(N, e, v, e, r,  , s, e, e, n,  , s, u, c, h, ...</td>\n",
       "      <td>0.000000</td>\n",
       "      <td>(I, n,  , t, w, o,  , y, e, a, r, s,  , t, h, ...</td>\n",
       "      <td>0.136364</td>\n",
       "      <td>never seen such sign here but peopl born in 20...</td>\n",
       "    </tr>\n",
       "    <tr>\n",
       "      <th>3</th>\n",
       "      <td>0</td>\n",
       "      <td>It could be a helluva way to introduce a new m...</td>\n",
       "      <td>Yeah there's no way they include a minor chara...</td>\n",
       "      <td>[It, could, be, a, helluva, way, to, introduce...</td>\n",
       "      <td>[(It, PRP), (could, MD), (be, VB), (a, DT), (h...</td>\n",
       "      <td>[it, could, be, a, helluva, way, to, introduc,...</td>\n",
       "      <td>It_PRP could_MD be_VB a_DT helluva_JJ way_NN t...</td>\n",
       "      <td>(I, t,  , c, o, u, l, d,  , b, e,  , a,  , h, ...</td>\n",
       "      <td>0.332955</td>\n",
       "      <td>(Y, e, a, h,  , t, h, e, r, e, ', s,  , n, o, ...</td>\n",
       "      <td>0.025000</td>\n",
       "      <td>it could be a helluva way to introduc a new ma...</td>\n",
       "    </tr>\n",
       "    <tr>\n",
       "      <th>4</th>\n",
       "      <td>0</td>\n",
       "      <td>F</td>\n",
       "      <td>Went to my friends house for a sleepover, some...</td>\n",
       "      <td>[F]</td>\n",
       "      <td>[(F, NN)]</td>\n",
       "      <td>[f]</td>\n",
       "      <td>F_NN</td>\n",
       "      <td>(F)</td>\n",
       "      <td>0.000000</td>\n",
       "      <td>(W, e, n, t,  , t, o,  , m, y,  , f, r, i, e, ...</td>\n",
       "      <td>-0.750000</td>\n",
       "      <td>f</td>\n",
       "    </tr>\n",
       "  </tbody>\n",
       "</table>\n",
       "</div>"
      ],
      "text/plain": [
       "   label                                            comment  \\\n",
       "0      0  Like telling cops its OK to treat all people o...   \n",
       "1      0  As someone who is deliberately celibate for qu...   \n",
       "2      0  Never seen such signs here but people born in ...   \n",
       "3      0  It could be a helluva way to introduce a new m...   \n",
       "4      0                                                  F   \n",
       "\n",
       "                                      parent_comment  \\\n",
       "0  He did a lot in the 90s and 2000s as the mayor...   \n",
       "1  let's acknowledge sexist bias in upbringing th...   \n",
       "2  In two years those signs will say 2000 where I...   \n",
       "3  Yeah there's no way they include a minor chara...   \n",
       "4  Went to my friends house for a sleepover, some...   \n",
       "\n",
       "                                         tok_comment  \\\n",
       "0  [Like, telling, cops, its, OK, to, treat, all,...   \n",
       "1  [As, someone, who, is, deliberately, celibate,...   \n",
       "2  [Never, seen, such, signs, here, but, people, ...   \n",
       "3  [It, could, be, a, helluva, way, to, introduce...   \n",
       "4                                                [F]   \n",
       "\n",
       "                                             POS_tag  \\\n",
       "0  [(Like, IN), (telling, VBG), (cops, VB), (its,...   \n",
       "1  [(As, IN), (someone, NN), (who, WP), (is, VBZ)...   \n",
       "2  [(Never, RB), (seen, VBN), (such, JJ), (signs,...   \n",
       "3  [(It, PRP), (could, MD), (be, VB), (a, DT), (h...   \n",
       "4                                          [(F, NN)]   \n",
       "\n",
       "                                                stem  \\\n",
       "0  [like, tell, cop, it, ok, to, treat, all, peop...   \n",
       "1  [as, someon, who, is, deliber, celib, for, qui...   \n",
       "2  [never, seen, such, sign, here, but, peopl, bo...   \n",
       "3  [it, could, be, a, helluva, way, to, introduc,...   \n",
       "4                                                [f]   \n",
       "\n",
       "                                      joined_POS_tag  \\\n",
       "0  Like_IN telling_VBG cops_VB its_PRP$ OK_NNP to...   \n",
       "1  As_IN someone_NN who_WP is_VBZ deliberately_RB...   \n",
       "2  Never_RB seen_VBN such_JJ signs_NNS here_RB bu...   \n",
       "3  It_PRP could_MD be_VB a_DT helluva_JJ way_NN t...   \n",
       "4                                               F_NN   \n",
       "\n",
       "                                            textblob  polarity  \\\n",
       "0  (L, i, k, e,  , t, e, l, l, i, n, g,  , c, o, ...  0.500000   \n",
       "1  (A, s,  , s, o, m, e, o, n, e,  , w, h, o,  , ... -0.181548   \n",
       "2  (N, e, v, e, r,  , s, e, e, n,  , s, u, c, h, ...  0.000000   \n",
       "3  (I, t,  , c, o, u, l, d,  , b, e,  , a,  , h, ...  0.332955   \n",
       "4                                                (F)  0.000000   \n",
       "\n",
       "                                     parent_textblob  parent_polarity  \\\n",
       "0  (H, e,  , d, i, d,  , a,  , l, o, t,  , i, n, ...         0.000000   \n",
       "1  (l, e, t, ', s,  , a, c, k, n, o, w, l, e, d, ...        -0.625000   \n",
       "2  (I, n,  , t, w, o,  , y, e, a, r, s,  , t, h, ...         0.136364   \n",
       "3  (Y, e, a, h,  , t, h, e, r, e, ', s,  , n, o, ...         0.025000   \n",
       "4  (W, e, n, t,  , t, o,  , m, y,  , f, r, i, e, ...        -0.750000   \n",
       "\n",
       "                                         joined_stem  \n",
       "0  like tell cop it ok to treat all peopl of colo...  \n",
       "1  as someon who is deliber celib for quit some t...  \n",
       "2  never seen such sign here but peopl born in 20...  \n",
       "3  it could be a helluva way to introduc a new ma...  \n",
       "4                                                  f  "
      ]
     },
     "execution_count": 137,
     "metadata": {},
     "output_type": "execute_result"
    }
   ],
   "source": [
    "# features\n",
    "chosen_data['joined_stem'] = chosen_data['stem'].apply(lambda x: ' '.join(x))\n",
    "chosen_data.head()"
   ]
  },
  {
   "cell_type": "code",
   "execution_count": 138,
   "metadata": {},
   "outputs": [],
   "source": [
    "X_train, X_test, y_train, y_test = train_test_split(chosen_data[['joined_POS_tag', 'joined_stem', 'polarity', 'parent_polarity']] , chosen_data.label, test_size=0.2, random_state=0)\n",
    "X_train.head()"
   ]
  },
  {
   "cell_type": "code",
   "execution_count": 142,
   "metadata": {},
   "outputs": [],
   "source": [
    "# TF-IDF to vectorize the data\n",
    "import scipy.sparse as sp\n",
    "from sklearn.feature_extraction.text import TfidfVectorizer\n",
    "stem_vectorizer = TfidfVectorizer(ngram_range = (1,3)) # ask about max features\n",
    "tfidf_stem = stem_vectorizer.fit_transform(X_train.joined_stem)\n",
    "\n",
    "pos_vectorizer = TfidfVectorizer(ngram_range = (1,3))\n",
    "tfidf_pos = pos_vectorizer.fit_transform(X_train.joined_POS_tag)\n",
    "\n",
    "combined_2 = sp.hstack([tfidf_stem, tfidf_pos], format = 'csr')\n",
    "\n",
    "# print(tfidf_stem.toarray())\n",
    "\n",
    "# print(tfidf_stem.shape)\n",
    "# print(tfidf_pos.shape)\n",
    "# print(combined_2.shape)\n",
    "\n",
    "# print(combined_2)\n",
    "\n",
    "combined_3 = sp.hstack((combined_2,np.array(X_train.polarity)[:,None]))\n",
    "\n",
    "combined_4 = sp.hstack((combined_3,np.array(X_train.parent_polarity)[:,None]))"
   ]
  },
  {
   "cell_type": "code",
   "execution_count": 146,
   "metadata": {},
   "outputs": [],
   "source": [
    "# test_stem_vectorizer = TfidfVectorizer(max_features = 10000) # ask about max features\n",
    "test_tfidf_stem = stem_vectorizer.transform(X_test.joined_stem)\n",
    "\n",
    "# test_pos_vectorizer = TfidfVectorizer(max_features = 10000)\n",
    "test_tfidf_pos = pos_vectorizer.transform(X_test.joined_POS_tag)\n",
    "\n",
    "test_combined_2 = sp.hstack([test_tfidf_stem, test_tfidf_pos], format = 'csr')\n",
    "test_combined_2.shape\n",
    "\n",
    "test_combined_3 = sp.hstack((test_combined_2,np.array(X_test.polarity)[:,None]))\n",
    "test_combined_4 = sp.hstack((test_combined_3,np.array(X_test.parent_polarity)[:,None]))"
   ]
  },
  {
   "cell_type": "code",
   "execution_count": 148,
   "metadata": {},
   "outputs": [
    {
     "name": "stdout",
     "output_type": "stream",
     "text": [
      "0.9889905987135081\n",
      "0.6404549950544016\n"
     ]
    }
   ],
   "source": [
    "# Logistic Regression\n",
    "\n",
    "log_clf = LogisticRegression(solver='lbfgs', max_iter = 300).fit(combined_4, y_train)\n",
    "\n",
    "# Logistic regression score\n",
    "print(log_clf.score(combined_4, y_train))\n",
    "print(log_clf.score(test_combined_4, y_test))"
   ]
  },
  {
   "cell_type": "code",
   "execution_count": 149,
   "metadata": {},
   "outputs": [
    {
     "name": "stdout",
     "output_type": "stream",
     "text": [
      "0.9976496783770411\n",
      "0.6488625123639961\n"
     ]
    }
   ],
   "source": [
    "# SVM model\n",
    "svm_clf = LinearSVC()\n",
    "\n",
    "# Training the model\n",
    "svm_clf.fit(combined_4, y_train)\n",
    "\n",
    "print(svm_clf.score(combined_4, y_train))\n",
    "print(svm_clf.score(test_combined_4, y_test))"
   ]
  },
  {
   "cell_type": "code",
   "execution_count": 150,
   "metadata": {},
   "outputs": [
    {
     "name": "stdout",
     "output_type": "stream",
     "text": [
      "0.9993814943097477\n",
      "0.6162215628090999\n"
     ]
    }
   ],
   "source": [
    "# Random Forest Classifier\n",
    "\n",
    "rf_clf = RandomForestClassifier(n_estimators = 100)\n",
    "\n",
    "rf_clf.fit(combined_4, y_train)\n",
    "\n",
    "print(rf_clf.score(combined_4, y_train))\n",
    "print(rf_clf.score(test_combined_4, y_test))"
   ]
  },
  {
   "cell_type": "code",
   "execution_count": 177,
   "metadata": {},
   "outputs": [
    {
     "data": {
      "image/png": "[encoded data removed]",
      "text/plain": [
       "<Figure size 792x432 with 1 Axes>"
      ]
     },
     "metadata": {
      "needs_background": "light"
     },
     "output_type": "display_data"
    }
   ],
   "source": [
    "# data to plot\n",
    "n_groups = 3\n",
    "train_score = [log_clf.score(combined_4, y_train), \n",
    "          svm_clf.score(combined_4, y_train),\n",
    "          rf_clf.score(combined_4, y_train)]\n",
    "test_score = [log_clf.score(test_combined_4, y_test), \n",
    "          svm_clf.score(test_combined_4, y_test),\n",
    "          rf_clf.score(test_combined_4, y_test)]\n",
    "\n",
    "# create plot\n",
    "fig, ax = plt.subplots(figsize=(11, 6))\n",
    "index = np.arange(n_groups)\n",
    "bar_width = 0.35\n",
    "opacity = 0.8\n",
    "\n",
    "rects1 = plt.bar(index, train_score, bar_width,\n",
    "alpha=opacity,\n",
    "color='b',\n",
    "label='Training Data')\n",
    "\n",
    "rects2 = plt.bar(index + bar_width, test_score, bar_width,\n",
    "alpha=opacity,\n",
    "color='c',\n",
    "label='Test Data')\n",
    "\n",
    "plt.xlabel('Model Used')\n",
    "plt.ylabel('Scores')\n",
    "plt.title('Scores by Model')\n",
    "plt.xticks(index + bar_width/2, ('Logistic Regression', 'SVM', 'Random Forest'))\n",
    "plt.legend()\n",
    "\n",
    "plt.tight_layout()\n",
    "plt.show()"
   ]
  }
 ],
 "metadata": {
  "kernelspec": {
   "display_name": "Python 3",
   "language": "python",
   "name": "python3"
  }
 },
 "nbformat": 4,
 "nbformat_minor": 2
}

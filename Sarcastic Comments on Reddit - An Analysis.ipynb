{
 "cells": [
  {
   "cell_type": "markdown",
   "metadata": {},
   "source": [
    "Nour Mansour and Juan Estrella"
   ]
  },
  {
   "cell_type": "code",
   "execution_count": 1,
   "metadata": {},
   "outputs": [],
   "source": [
    "import pandas as pd\n",
    "import numpy as np\n",
    "import matplotlib.pyplot as plt\n",
    "import sqlite3"
   ]
  },
  {
   "cell_type": "markdown",
   "metadata": {},
   "source": [
    "Part 1: Data Collection\n",
    "\n",
    "Step 1: Get the csv file and the sqlite database data"
   ]
  },
  {
   "cell_type": "code",
   "execution_count": 2,
   "metadata": {
    "scrolled": true
   },
   "outputs": [
    {
     "data": {
      "text/html": [
       "<div>\n",
       "<style scoped>\n",
       "    .dataframe tbody tr th:only-of-type {\n",
       "        vertical-align: middle;\n",
       "    }\n",
       "\n",
       "    .dataframe tbody tr th {\n",
       "        vertical-align: top;\n",
       "    }\n",
       "\n",
       "    .dataframe thead th {\n",
       "        text-align: right;\n",
       "    }\n",
       "</style>\n",
       "<table border=\"1\" class=\"dataframe\">\n",
       "  <thead>\n",
       "    <tr style=\"text-align: right;\">\n",
       "      <th></th>\n",
       "      <th>name</th>\n",
       "    </tr>\n",
       "  </thead>\n",
       "  <tbody>\n",
       "    <tr>\n",
       "      <th>0</th>\n",
       "      <td>auth_permission</td>\n",
       "    </tr>\n",
       "    <tr>\n",
       "      <th>1</th>\n",
       "      <td>auth_group_permissions</td>\n",
       "    </tr>\n",
       "    <tr>\n",
       "      <th>2</th>\n",
       "      <td>auth_group</td>\n",
       "    </tr>\n",
       "    <tr>\n",
       "      <th>3</th>\n",
       "      <td>auth_user_groups</td>\n",
       "    </tr>\n",
       "    <tr>\n",
       "      <th>4</th>\n",
       "      <td>auth_user_user_permissions</td>\n",
       "    </tr>\n",
       "    <tr>\n",
       "      <th>5</th>\n",
       "      <td>django_content_type</td>\n",
       "    </tr>\n",
       "    <tr>\n",
       "      <th>6</th>\n",
       "      <td>django_session</td>\n",
       "    </tr>\n",
       "    <tr>\n",
       "      <th>7</th>\n",
       "      <td>irony_comment</td>\n",
       "    </tr>\n",
       "    <tr>\n",
       "      <th>8</th>\n",
       "      <td>irony_commentsegment</td>\n",
       "    </tr>\n",
       "    <tr>\n",
       "      <th>9</th>\n",
       "      <td>irony_label</td>\n",
       "    </tr>\n",
       "    <tr>\n",
       "      <th>10</th>\n",
       "      <td>registration_registrationprofile</td>\n",
       "    </tr>\n",
       "  </tbody>\n",
       "</table>\n",
       "</div>"
      ],
      "text/plain": [
       "                                name\n",
       "0                    auth_permission\n",
       "1             auth_group_permissions\n",
       "2                         auth_group\n",
       "3                   auth_user_groups\n",
       "4         auth_user_user_permissions\n",
       "5                django_content_type\n",
       "6                     django_session\n",
       "7                      irony_comment\n",
       "8               irony_commentsegment\n",
       "9                        irony_label\n",
       "10  registration_registrationprofile"
      ]
     },
     "execution_count": 2,
     "metadata": {},
     "output_type": "execute_result"
    }
   ],
   "source": [
    "# Data is saved in the same folder as the project. Then read data from tsv file\n",
    "data = pd.read_csv(\"train-balanced-sarcasm.csv\")\n",
    "\n",
    "# This is the database file name\n",
    "sqlite_file = 'ironate.db'\n",
    "\n",
    "# Create the connection and cursor\n",
    "conn = sqlite3.connect(sqlite_file)\n",
    "cursor = conn.cursor()\n",
    "\n",
    "# List the tables in the database to see which ones we're interested in\n",
    "tables = pd.read_sql_query(\"SELECT name FROM sqlite_master WHERE type='table'\", conn)\n",
    "tables"
   ]
  },
  {
   "cell_type": "code",
   "execution_count": 3,
   "metadata": {},
   "outputs": [
    {
     "data": {
      "text/html": [
       "<div>\n",
       "<style scoped>\n",
       "    .dataframe tbody tr th:only-of-type {\n",
       "        vertical-align: middle;\n",
       "    }\n",
       "\n",
       "    .dataframe tbody tr th {\n",
       "        vertical-align: top;\n",
       "    }\n",
       "\n",
       "    .dataframe thead th {\n",
       "        text-align: right;\n",
       "    }\n",
       "</style>\n",
       "<table border=\"1\" class=\"dataframe\">\n",
       "  <thead>\n",
       "    <tr style=\"text-align: right;\">\n",
       "      <th></th>\n",
       "      <th>id</th>\n",
       "      <th>comment_id</th>\n",
       "      <th>segment_index</th>\n",
       "      <th>text</th>\n",
       "    </tr>\n",
       "  </thead>\n",
       "  <tbody>\n",
       "    <tr>\n",
       "      <th>0</th>\n",
       "      <td>1</td>\n",
       "      <td>1</td>\n",
       "      <td>0</td>\n",
       "      <td>I suspect atheists are projecting their desire...</td>\n",
       "    </tr>\n",
       "    <tr>\n",
       "      <th>1</th>\n",
       "      <td>2</td>\n",
       "      <td>1</td>\n",
       "      <td>1</td>\n",
       "      <td>Does anyone remember the crazy preacher with ...</td>\n",
       "    </tr>\n",
       "    <tr>\n",
       "      <th>2</th>\n",
       "      <td>3</td>\n",
       "      <td>1</td>\n",
       "      <td>2</td>\n",
       "      <td>\\nhttp://www.</td>\n",
       "    </tr>\n",
       "    <tr>\n",
       "      <th>3</th>\n",
       "      <td>4</td>\n",
       "      <td>1</td>\n",
       "      <td>3</td>\n",
       "      <td>examiner.</td>\n",
       "    </tr>\n",
       "    <tr>\n",
       "      <th>4</th>\n",
       "      <td>5</td>\n",
       "      <td>1</td>\n",
       "      <td>4</td>\n",
       "      <td>com/article/obama-and-wright-throw-each-other-...</td>\n",
       "    </tr>\n",
       "  </tbody>\n",
       "</table>\n",
       "</div>"
      ],
      "text/plain": [
       "   id  comment_id  segment_index  \\\n",
       "0   1           1              0   \n",
       "1   2           1              1   \n",
       "2   3           1              2   \n",
       "3   4           1              3   \n",
       "4   5           1              4   \n",
       "\n",
       "                                                text  \n",
       "0  I suspect atheists are projecting their desire...  \n",
       "1   Does anyone remember the crazy preacher with ...  \n",
       "2                                      \\nhttp://www.  \n",
       "3                                          examiner.  \n",
       "4  com/article/obama-and-wright-throw-each-other-...  "
      ]
     },
     "execution_count": 3,
     "metadata": {},
     "output_type": "execute_result"
    }
   ],
   "source": [
    "# Data from the sqlite db\n",
    "data_2 = pd.read_sql_query(\"SELECT * FROM irony_commentsegment\", conn)\n",
    "data_2.head()"
   ]
  },
  {
   "cell_type": "code",
   "execution_count": 4,
   "metadata": {},
   "outputs": [
    {
     "data": {
      "text/html": [
       "<div>\n",
       "<style scoped>\n",
       "    .dataframe tbody tr th:only-of-type {\n",
       "        vertical-align: middle;\n",
       "    }\n",
       "\n",
       "    .dataframe tbody tr th {\n",
       "        vertical-align: top;\n",
       "    }\n",
       "\n",
       "    .dataframe thead th {\n",
       "        text-align: right;\n",
       "    }\n",
       "</style>\n",
       "<table border=\"1\" class=\"dataframe\">\n",
       "  <thead>\n",
       "    <tr style=\"text-align: right;\">\n",
       "      <th></th>\n",
       "      <th>id</th>\n",
       "      <th>segment_id</th>\n",
       "      <th>comment_id</th>\n",
       "      <th>labeler_id</th>\n",
       "      <th>label</th>\n",
       "      <th>confidence</th>\n",
       "      <th>time_given</th>\n",
       "      <th>viewed_thread</th>\n",
       "      <th>viewed_page</th>\n",
       "      <th>forced_decision</th>\n",
       "    </tr>\n",
       "  </thead>\n",
       "  <tbody>\n",
       "    <tr>\n",
       "      <th>0</th>\n",
       "      <td>1</td>\n",
       "      <td>1.0</td>\n",
       "      <td>1</td>\n",
       "      <td>2</td>\n",
       "      <td>-1</td>\n",
       "      <td>2</td>\n",
       "      <td>2013-12-05</td>\n",
       "      <td>0</td>\n",
       "      <td>0</td>\n",
       "      <td>0</td>\n",
       "    </tr>\n",
       "    <tr>\n",
       "      <th>1</th>\n",
       "      <td>2</td>\n",
       "      <td>2.0</td>\n",
       "      <td>1</td>\n",
       "      <td>2</td>\n",
       "      <td>-1</td>\n",
       "      <td>2</td>\n",
       "      <td>2013-12-05</td>\n",
       "      <td>0</td>\n",
       "      <td>0</td>\n",
       "      <td>0</td>\n",
       "    </tr>\n",
       "    <tr>\n",
       "      <th>2</th>\n",
       "      <td>3</td>\n",
       "      <td>3.0</td>\n",
       "      <td>1</td>\n",
       "      <td>2</td>\n",
       "      <td>-1</td>\n",
       "      <td>2</td>\n",
       "      <td>2013-12-05</td>\n",
       "      <td>0</td>\n",
       "      <td>0</td>\n",
       "      <td>0</td>\n",
       "    </tr>\n",
       "    <tr>\n",
       "      <th>3</th>\n",
       "      <td>4</td>\n",
       "      <td>4.0</td>\n",
       "      <td>1</td>\n",
       "      <td>2</td>\n",
       "      <td>-1</td>\n",
       "      <td>2</td>\n",
       "      <td>2013-12-05</td>\n",
       "      <td>0</td>\n",
       "      <td>0</td>\n",
       "      <td>0</td>\n",
       "    </tr>\n",
       "    <tr>\n",
       "      <th>4</th>\n",
       "      <td>5</td>\n",
       "      <td>5.0</td>\n",
       "      <td>1</td>\n",
       "      <td>2</td>\n",
       "      <td>-1</td>\n",
       "      <td>2</td>\n",
       "      <td>2013-12-05</td>\n",
       "      <td>0</td>\n",
       "      <td>0</td>\n",
       "      <td>0</td>\n",
       "    </tr>\n",
       "  </tbody>\n",
       "</table>\n",
       "</div>"
      ],
      "text/plain": [
       "   id  segment_id  comment_id  labeler_id  label  confidence  time_given  \\\n",
       "0   1         1.0           1           2     -1           2  2013-12-05   \n",
       "1   2         2.0           1           2     -1           2  2013-12-05   \n",
       "2   3         3.0           1           2     -1           2  2013-12-05   \n",
       "3   4         4.0           1           2     -1           2  2013-12-05   \n",
       "4   5         5.0           1           2     -1           2  2013-12-05   \n",
       "\n",
       "   viewed_thread  viewed_page  forced_decision  \n",
       "0              0            0                0  \n",
       "1              0            0                0  \n",
       "2              0            0                0  \n",
       "3              0            0                0  \n",
       "4              0            0                0  "
      ]
     },
     "execution_count": 4,
     "metadata": {},
     "output_type": "execute_result"
    }
   ],
   "source": [
    "# Read the table containing the labels (sarcastic vs not) \n",
    "# into another dataframe\n",
    "\n",
    "labels = pd.read_sql_query(\"SELECT * FROM irony_label\", conn)\n",
    "labels.head()"
   ]
  },
  {
   "cell_type": "code",
   "execution_count": 5,
   "metadata": {},
   "outputs": [
    {
     "data": {
      "text/html": [
       "<div>\n",
       "<style scoped>\n",
       "    .dataframe tbody tr th:only-of-type {\n",
       "        vertical-align: middle;\n",
       "    }\n",
       "\n",
       "    .dataframe tbody tr th {\n",
       "        vertical-align: top;\n",
       "    }\n",
       "\n",
       "    .dataframe thead th {\n",
       "        text-align: right;\n",
       "    }\n",
       "</style>\n",
       "<table border=\"1\" class=\"dataframe\">\n",
       "  <thead>\n",
       "    <tr style=\"text-align: right;\">\n",
       "      <th></th>\n",
       "      <th>id</th>\n",
       "      <th>text</th>\n",
       "      <th>label</th>\n",
       "    </tr>\n",
       "  </thead>\n",
       "  <tbody>\n",
       "    <tr>\n",
       "      <th>0</th>\n",
       "      <td>1</td>\n",
       "      <td>I suspect atheists are projecting their desire...</td>\n",
       "      <td>-1</td>\n",
       "    </tr>\n",
       "    <tr>\n",
       "      <th>1</th>\n",
       "      <td>2</td>\n",
       "      <td>Does anyone remember the crazy preacher with ...</td>\n",
       "      <td>-1</td>\n",
       "    </tr>\n",
       "    <tr>\n",
       "      <th>2</th>\n",
       "      <td>3</td>\n",
       "      <td>\\nhttp://www.</td>\n",
       "      <td>-1</td>\n",
       "    </tr>\n",
       "    <tr>\n",
       "      <th>3</th>\n",
       "      <td>4</td>\n",
       "      <td>examiner.</td>\n",
       "      <td>-1</td>\n",
       "    </tr>\n",
       "    <tr>\n",
       "      <th>4</th>\n",
       "      <td>5</td>\n",
       "      <td>com/article/obama-and-wright-throw-each-other-...</td>\n",
       "      <td>-1</td>\n",
       "    </tr>\n",
       "  </tbody>\n",
       "</table>\n",
       "</div>"
      ],
      "text/plain": [
       "   id                                               text  label\n",
       "0   1  I suspect atheists are projecting their desire...     -1\n",
       "1   2   Does anyone remember the crazy preacher with ...     -1\n",
       "2   3                                      \\nhttp://www.     -1\n",
       "3   4                                          examiner.     -1\n",
       "4   5  com/article/obama-and-wright-throw-each-other-...     -1"
      ]
     },
     "execution_count": 5,
     "metadata": {},
     "output_type": "execute_result"
    }
   ],
   "source": [
    "# Merge the two dataframes so we have the label and the comment\n",
    "# in the same dataframe\n",
    "\n",
    "data_2 = pd.merge(left=data_2,right=labels, left_on='id', right_on='id')\n",
    "data_2.drop(['segment_id', 'comment_id_y', 'labeler_id', 'confidence', \n",
    "             'time_given', 'viewed_thread', 'viewed_page', 'forced_decision', \n",
    "             'comment_id_x', 'segment_index'], inplace = True, axis = 1)\n",
    "\n",
    "data_2.head()"
   ]
  },
  {
   "cell_type": "markdown",
   "metadata": {},
   "source": [
    "Part 2: Data Processing\n",
    "\n",
    "Step 1: Columns required: Label, Comments, subreddit, parent comment\n",
    "\n",
    "Step 2: Create a Dataframe containing an even amount of sarcastic and non sarcastic \n",
    "comments, amount of data is 505413 each. "
   ]
  },
  {
   "cell_type": "code",
   "execution_count": 6,
   "metadata": {},
   "outputs": [
    {
     "name": "stdout",
     "output_type": "stream",
     "text": [
      "(28759, 3)\n"
     ]
    },
    {
     "data": {
      "text/html": [
       "<div>\n",
       "<style scoped>\n",
       "    .dataframe tbody tr th:only-of-type {\n",
       "        vertical-align: middle;\n",
       "    }\n",
       "\n",
       "    .dataframe tbody tr th {\n",
       "        vertical-align: top;\n",
       "    }\n",
       "\n",
       "    .dataframe thead th {\n",
       "        text-align: right;\n",
       "    }\n",
       "</style>\n",
       "<table border=\"1\" class=\"dataframe\">\n",
       "  <thead>\n",
       "    <tr style=\"text-align: right;\">\n",
       "      <th></th>\n",
       "      <th>id</th>\n",
       "      <th>text</th>\n",
       "      <th>label</th>\n",
       "    </tr>\n",
       "  </thead>\n",
       "  <tbody>\n",
       "    <tr>\n",
       "      <th>0</th>\n",
       "      <td>1</td>\n",
       "      <td>I suspect atheists are projecting their desire...</td>\n",
       "      <td>-1</td>\n",
       "    </tr>\n",
       "    <tr>\n",
       "      <th>1</th>\n",
       "      <td>2</td>\n",
       "      <td>Does anyone remember the crazy preacher with ...</td>\n",
       "      <td>-1</td>\n",
       "    </tr>\n",
       "    <tr>\n",
       "      <th>2</th>\n",
       "      <td>3</td>\n",
       "      <td>\\nhttp://www.</td>\n",
       "      <td>-1</td>\n",
       "    </tr>\n",
       "    <tr>\n",
       "      <th>3</th>\n",
       "      <td>4</td>\n",
       "      <td>examiner.</td>\n",
       "      <td>-1</td>\n",
       "    </tr>\n",
       "    <tr>\n",
       "      <th>4</th>\n",
       "      <td>5</td>\n",
       "      <td>com/article/obama-and-wright-throw-each-other-...</td>\n",
       "      <td>-1</td>\n",
       "    </tr>\n",
       "  </tbody>\n",
       "</table>\n",
       "</div>"
      ],
      "text/plain": [
       "   id                                               text  label\n",
       "0   1  I suspect atheists are projecting their desire...     -1\n",
       "1   2   Does anyone remember the crazy preacher with ...     -1\n",
       "2   3                                      \\nhttp://www.     -1\n",
       "3   4                                          examiner.     -1\n",
       "4   5  com/article/obama-and-wright-throw-each-other-...     -1"
      ]
     },
     "execution_count": 6,
     "metadata": {},
     "output_type": "execute_result"
    }
   ],
   "source": [
    "# Reset the indices after rows with NA values are dropped\n",
    "data.dropna(inplace=True)\n",
    "data.drop(['author', 'score', 'ups', 'downs', 'date', 'created_utc', 'subreddit'], axis = 1, inplace = True)\n",
    "data.reset_index(inplace = True)\n",
    "data.drop(['index'], axis = 1, inplace = True)\n",
    "# print(data.head())\n",
    "\n",
    "# Same process for the database dataset\n",
    "data_2.dropna(inplace=True)\n",
    "data_2.reset_index(inplace = True)\n",
    "data_2.drop(['index'], axis = 1, inplace = True)\n",
    "# label == 0 means \"i don't know\" so we dropped those to have\n",
    "# two clear categories\n",
    "data_2.drop(data_2[data_2.label == 0].index, inplace=True)\n",
    "print(data_2.shape)\n",
    "data_2.head()"
   ]
  },
  {
   "cell_type": "code",
   "execution_count": 7,
   "metadata": {},
   "outputs": [
    {
     "data": {
      "text/html": [
       "<div>\n",
       "<style scoped>\n",
       "    .dataframe tbody tr th:only-of-type {\n",
       "        vertical-align: middle;\n",
       "    }\n",
       "\n",
       "    .dataframe tbody tr th {\n",
       "        vertical-align: top;\n",
       "    }\n",
       "\n",
       "    .dataframe thead tr th {\n",
       "        text-align: left;\n",
       "    }\n",
       "\n",
       "    .dataframe thead tr:last-of-type th {\n",
       "        text-align: right;\n",
       "    }\n",
       "</style>\n",
       "<table border=\"1\" class=\"dataframe\">\n",
       "  <thead>\n",
       "    <tr>\n",
       "      <th></th>\n",
       "      <th colspan=\"4\" halign=\"left\">comment</th>\n",
       "      <th colspan=\"4\" halign=\"left\">parent_comment</th>\n",
       "    </tr>\n",
       "    <tr>\n",
       "      <th></th>\n",
       "      <th>count</th>\n",
       "      <th>unique</th>\n",
       "      <th>top</th>\n",
       "      <th>freq</th>\n",
       "      <th>count</th>\n",
       "      <th>unique</th>\n",
       "      <th>top</th>\n",
       "      <th>freq</th>\n",
       "    </tr>\n",
       "    <tr>\n",
       "      <th>label</th>\n",
       "      <th></th>\n",
       "      <th></th>\n",
       "      <th></th>\n",
       "      <th></th>\n",
       "      <th></th>\n",
       "      <th></th>\n",
       "      <th></th>\n",
       "      <th></th>\n",
       "    </tr>\n",
       "  </thead>\n",
       "  <tbody>\n",
       "    <tr>\n",
       "      <th>0</th>\n",
       "      <td>505405</td>\n",
       "      <td>479850</td>\n",
       "      <td>Yes</td>\n",
       "      <td>406</td>\n",
       "      <td>505405</td>\n",
       "      <td>495453</td>\n",
       "      <td>me irl</td>\n",
       "      <td>228</td>\n",
       "    </tr>\n",
       "    <tr>\n",
       "      <th>1</th>\n",
       "      <td>505368</td>\n",
       "      <td>486357</td>\n",
       "      <td>You forgot the</td>\n",
       "      <td>1451</td>\n",
       "      <td>505368</td>\n",
       "      <td>495295</td>\n",
       "      <td>Why?</td>\n",
       "      <td>148</td>\n",
       "    </tr>\n",
       "  </tbody>\n",
       "</table>\n",
       "</div>"
      ],
      "text/plain": [
       "      comment                               parent_comment                  \\\n",
       "        count  unique             top  freq          count  unique     top   \n",
       "label                                                                        \n",
       "0      505405  479850             Yes   406         505405  495453  me irl   \n",
       "1      505368  486357  You forgot the  1451         505368  495295    Why?   \n",
       "\n",
       "            \n",
       "      freq  \n",
       "label       \n",
       "0      228  \n",
       "1      148  "
      ]
     },
     "execution_count": 7,
     "metadata": {},
     "output_type": "execute_result"
    }
   ],
   "source": [
    "data.groupby('label').describe()"
   ]
  },
  {
   "cell_type": "code",
   "execution_count": 8,
   "metadata": {},
   "outputs": [
    {
     "data": {
      "image/png": "[encoded data removed]",
      "text/plain": [
       "<Figure size 360x216 with 1 Axes>"
      ]
     },
     "metadata": {
      "needs_background": "light"
     },
     "output_type": "display_data"
    }
   ],
   "source": [
    "# Explore distribution of the data by label (0 -> non-sarcastic, 1 -> sarcastic)\n",
    "# data to plot\n",
    "values = [data.groupby('label').agg('count').comment[1], \n",
    "          data.groupby('label').agg('count').comment[0]]\n",
    "labels = ['Sarcastic', 'Non Sarcastic']\n",
    "\n",
    "label_pos = [i for i, _ in enumerate(labels)]\n",
    "\n",
    "# create plot\n",
    "fig, ax = plt.subplots(figsize=(5, 3))\n",
    "plt.bar(label_pos, values, color = 'c', width=0.3)\n",
    "plt.xlabel('Labels')\n",
    "plt.ylabel('Frequency')\n",
    "plt.title('Frequency of each Label')\n",
    "plt.xticks(label_pos, labels)\n",
    "\n",
    "plt.show()"
   ]
  },
  {
   "cell_type": "code",
   "execution_count": 9,
   "metadata": {},
   "outputs": [
    {
     "data": {
      "text/html": [
       "<div>\n",
       "<style scoped>\n",
       "    .dataframe tbody tr th:only-of-type {\n",
       "        vertical-align: middle;\n",
       "    }\n",
       "\n",
       "    .dataframe tbody tr th {\n",
       "        vertical-align: top;\n",
       "    }\n",
       "\n",
       "    .dataframe thead tr th {\n",
       "        text-align: left;\n",
       "    }\n",
       "\n",
       "    .dataframe thead tr:last-of-type th {\n",
       "        text-align: right;\n",
       "    }\n",
       "</style>\n",
       "<table border=\"1\" class=\"dataframe\">\n",
       "  <thead>\n",
       "    <tr>\n",
       "      <th></th>\n",
       "      <th colspan=\"8\" halign=\"left\">id</th>\n",
       "    </tr>\n",
       "    <tr>\n",
       "      <th></th>\n",
       "      <th>count</th>\n",
       "      <th>mean</th>\n",
       "      <th>std</th>\n",
       "      <th>min</th>\n",
       "      <th>25%</th>\n",
       "      <th>50%</th>\n",
       "      <th>75%</th>\n",
       "      <th>max</th>\n",
       "    </tr>\n",
       "    <tr>\n",
       "      <th>label</th>\n",
       "      <th></th>\n",
       "      <th></th>\n",
       "      <th></th>\n",
       "      <th></th>\n",
       "      <th></th>\n",
       "      <th></th>\n",
       "      <th></th>\n",
       "      <th></th>\n",
       "    </tr>\n",
       "  </thead>\n",
       "  <tbody>\n",
       "    <tr>\n",
       "      <th>-1</th>\n",
       "      <td>26186.0</td>\n",
       "      <td>14419.248453</td>\n",
       "      <td>8344.231889</td>\n",
       "      <td>1.0</td>\n",
       "      <td>7187.25</td>\n",
       "      <td>14483.5</td>\n",
       "      <td>21691.75</td>\n",
       "      <td>28759.0</td>\n",
       "    </tr>\n",
       "    <tr>\n",
       "      <th>1</th>\n",
       "      <td>2573.0</td>\n",
       "      <td>13980.559658</td>\n",
       "      <td>7851.490657</td>\n",
       "      <td>21.0</td>\n",
       "      <td>7229.00</td>\n",
       "      <td>13401.0</td>\n",
       "      <td>19976.00</td>\n",
       "      <td>28757.0</td>\n",
       "    </tr>\n",
       "  </tbody>\n",
       "</table>\n",
       "</div>"
      ],
      "text/plain": [
       "            id                                                               \\\n",
       "         count          mean          std   min      25%      50%       75%   \n",
       "label                                                                         \n",
       "-1     26186.0  14419.248453  8344.231889   1.0  7187.25  14483.5  21691.75   \n",
       " 1      2573.0  13980.559658  7851.490657  21.0  7229.00  13401.0  19976.00   \n",
       "\n",
       "                \n",
       "           max  \n",
       "label           \n",
       "-1     28759.0  \n",
       " 1     28757.0  "
      ]
     },
     "execution_count": 9,
     "metadata": {},
     "output_type": "execute_result"
    }
   ],
   "source": [
    "data_2.groupby('label').describe()"
   ]
  },
  {
   "cell_type": "code",
   "execution_count": 10,
   "metadata": {},
   "outputs": [
    {
     "data": {
      "image/png": "[encoded data removed]",
      "text/plain": [
       "<Figure size 360x216 with 1 Axes>"
      ]
     },
     "metadata": {
      "needs_background": "light"
     },
     "output_type": "display_data"
    }
   ],
   "source": [
    "# Explore distribution of the data by label (-1 -> non-sarcastic, 1 -> sarcastic)\n",
    "# data to plot\n",
    "values = [data_2.groupby('label').agg('count').id[1], \n",
    "          data_2.groupby('label').agg('count').id[-1]]\n",
    "labels = ['Sarcastic', 'Non Sarcastic']\n",
    "\n",
    "label_pos = [i for i, _ in enumerate(labels)]\n",
    "\n",
    "# create plot\n",
    "fig, ax = plt.subplots(figsize=(5, 3))\n",
    "plt.bar(label_pos, values, color = 'c', width=0.3)\n",
    "plt.xlabel('Labels')\n",
    "plt.ylabel('Frequency')\n",
    "plt.title('Frequency of each Label')\n",
    "plt.xticks(label_pos, labels)\n",
    "\n",
    "plt.show()"
   ]
  },
  {
   "cell_type": "markdown",
   "metadata": {},
   "source": [
    "We really wanted to use the entire dataset, unfortunately our laptops weren't strong enough to perform the different types of data manipulation and analysis we wanted. \n",
    "As a solution, we decided to sample 10% of the dataset each time we ran the program. 10% was actually the largest sample we could get without our Jupyter kernel dying from overflowing Docker's allocated memory resources (we set the memory for Docker to the max value possible given our laptops' specs!). "
   ]
  },
  {
   "cell_type": "code",
   "execution_count": 11,
   "metadata": {},
   "outputs": [],
   "source": [
    "data.drop(data[data.comment =='You forgot the'].index, inplace=True)\n",
    "data.drop(data[data.comment =='you forgot the'].index, inplace=True)\n",
    "data.drop(data[data.comment =='you dropped this:'].index, inplace=True)\n",
    "data.drop(data[data.comment =='You dropped this:'].index, inplace=True)\n",
    "data.drop(data[data.comment =='Forgot the'].index, inplace=True)\n",
    "data.drop(data[data.comment =='You forgot'].index, inplace=True)\n",
    "data.drop(data[data.comment =='You forgot your'].index, inplace=True)\n",
    "data.drop(data[data.comment =='You dropped this'].index, inplace=True)\n",
    "data.drop(data[data.comment =='I think you forgot the'].index, inplace=True)\n",
    "data.drop(data[data.comment =='You forgot this:'].index, inplace=True)\n",
    "data.drop(data[data.comment =='You dropped your'].index, inplace=True)\n",
    "data.drop(data[data.comment =='I forgot the'].index, inplace=True)\n",
    "data.drop(data[data.comment =='you forgot'].index, inplace=True)"
   ]
  },
  {
   "cell_type": "code",
   "execution_count": 12,
   "metadata": {},
   "outputs": [
    {
     "data": {
      "text/html": [
       "<div>\n",
       "<style scoped>\n",
       "    .dataframe tbody tr th:only-of-type {\n",
       "        vertical-align: middle;\n",
       "    }\n",
       "\n",
       "    .dataframe tbody tr th {\n",
       "        vertical-align: top;\n",
       "    }\n",
       "\n",
       "    .dataframe thead th {\n",
       "        text-align: right;\n",
       "    }\n",
       "</style>\n",
       "<table border=\"1\" class=\"dataframe\">\n",
       "  <thead>\n",
       "    <tr style=\"text-align: right;\">\n",
       "      <th></th>\n",
       "      <th></th>\n",
       "      <th>label</th>\n",
       "      <th>comment</th>\n",
       "      <th>parent_comment</th>\n",
       "    </tr>\n",
       "  </thead>\n",
       "  <tbody>\n",
       "    <tr>\n",
       "      <th rowspan=\"5\" valign=\"top\">0</th>\n",
       "      <th>524981</th>\n",
       "      <td>0</td>\n",
       "      <td>You can adjust the 3d touch sensitivity</td>\n",
       "      <td>Just got mine. Pin- I mean Rose Gold. I'm a gu...</td>\n",
       "    </tr>\n",
       "    <tr>\n",
       "      <th>867610</th>\n",
       "      <td>0</td>\n",
       "      <td>Welcome to the surveillance state.</td>\n",
       "      <td>US District court confirms that that federal a...</td>\n",
       "    </tr>\n",
       "    <tr>\n",
       "      <th>786315</th>\n",
       "      <td>0</td>\n",
       "      <td>Yes, yes it does.</td>\n",
       "      <td>This needs to be in the sidebar.</td>\n",
       "    </tr>\n",
       "    <tr>\n",
       "      <th>131968</th>\n",
       "      <td>0</td>\n",
       "      <td>That was brutally honest....</td>\n",
       "      <td>That's something I'd want to go see the doctor...</td>\n",
       "    </tr>\n",
       "    <tr>\n",
       "      <th>250293</th>\n",
       "      <td>0</td>\n",
       "      <td>5 k/b seems to work well for me.</td>\n",
       "      <td>I see the point of people saying block the por...</td>\n",
       "    </tr>\n",
       "  </tbody>\n",
       "</table>\n",
       "</div>"
      ],
      "text/plain": [
       "          label                                  comment  \\\n",
       "0 524981      0  You can adjust the 3d touch sensitivity   \n",
       "  867610      0       Welcome to the surveillance state.   \n",
       "  786315      0                        Yes, yes it does.   \n",
       "  131968      0             That was brutally honest....   \n",
       "  250293      0         5 k/b seems to work well for me.   \n",
       "\n",
       "                                             parent_comment  \n",
       "0 524981  Just got mine. Pin- I mean Rose Gold. I'm a gu...  \n",
       "  867610  US District court confirms that that federal a...  \n",
       "  786315                   This needs to be in the sidebar.  \n",
       "  131968  That's something I'd want to go see the doctor...  \n",
       "  250293  I see the point of people saying block the por...  "
      ]
     },
     "execution_count": 12,
     "metadata": {},
     "output_type": "execute_result"
    }
   ],
   "source": [
    "# Determine size and replacement values\n",
    "size = int(len(data)*0.5/100)# sample size\n",
    "replace = True  # with replacement\n",
    "# Function used to pick random rows from the dataset\n",
    "# We used the groupby('label') function to choose equal numbers \n",
    "# of sarcastic and non-sarcastic comments\n",
    "fun = lambda obj: obj.loc[np.random.choice(obj.index, size, replace),:]\n",
    "chosen_data = data.groupby('label', as_index=False).apply(fun)\n",
    "chosen_data.head()"
   ]
  },
  {
   "cell_type": "code",
   "execution_count": 13,
   "metadata": {},
   "outputs": [
    {
     "data": {
      "text/html": [
       "<div>\n",
       "<style scoped>\n",
       "    .dataframe tbody tr th:only-of-type {\n",
       "        vertical-align: middle;\n",
       "    }\n",
       "\n",
       "    .dataframe tbody tr th {\n",
       "        vertical-align: top;\n",
       "    }\n",
       "\n",
       "    .dataframe thead th {\n",
       "        text-align: right;\n",
       "    }\n",
       "</style>\n",
       "<table border=\"1\" class=\"dataframe\">\n",
       "  <thead>\n",
       "    <tr style=\"text-align: right;\">\n",
       "      <th></th>\n",
       "      <th></th>\n",
       "      <th>id</th>\n",
       "      <th>text</th>\n",
       "      <th>label</th>\n",
       "    </tr>\n",
       "  </thead>\n",
       "  <tbody>\n",
       "    <tr>\n",
       "      <th rowspan=\"5\" valign=\"top\">0</th>\n",
       "      <th>7372</th>\n",
       "      <td>7373</td>\n",
       "      <td>this president is clearly a saint.</td>\n",
       "      <td>-1</td>\n",
       "    </tr>\n",
       "    <tr>\n",
       "      <th>913</th>\n",
       "      <td>914</td>\n",
       "      <td>Each day I feel the distance between me and an...</td>\n",
       "      <td>-1</td>\n",
       "    </tr>\n",
       "    <tr>\n",
       "      <th>4269</th>\n",
       "      <td>4270</td>\n",
       "      <td>Until the next office suite.</td>\n",
       "      <td>-1</td>\n",
       "    </tr>\n",
       "    <tr>\n",
       "      <th>6671</th>\n",
       "      <td>6672</td>\n",
       "      <td>**\\n\\nComputer experts are unanimous in demand...</td>\n",
       "      <td>-1</td>\n",
       "    </tr>\n",
       "    <tr>\n",
       "      <th>6457</th>\n",
       "      <td>6458</td>\n",
       "      <td>w=474).</td>\n",
       "      <td>-1</td>\n",
       "    </tr>\n",
       "  </tbody>\n",
       "</table>\n",
       "</div>"
      ],
      "text/plain": [
       "          id                                               text  label\n",
       "0 7372  7373                 this president is clearly a saint.     -1\n",
       "  913    914  Each day I feel the distance between me and an...     -1\n",
       "  4269  4270                       Until the next office suite.     -1\n",
       "  6671  6672  **\\n\\nComputer experts are unanimous in demand...     -1\n",
       "  6457  6458                                            w=474).     -1"
      ]
     },
     "execution_count": 13,
     "metadata": {},
     "output_type": "execute_result"
    }
   ],
   "source": [
    "# Select equal number of sarcastic and non-sarcastic comments\n",
    "# Determine size and replacement values\n",
    "size = 2573# sample size of each group being selected\n",
    "replace = True  # with replacement\n",
    "data_2 = data_2.groupby('label', as_index=False).apply(fun)\n",
    "data_2.head()"
   ]
  },
  {
   "cell_type": "code",
   "execution_count": 14,
   "metadata": {},
   "outputs": [
    {
     "data": {
      "text/html": [
       "<div>\n",
       "<style scoped>\n",
       "    .dataframe tbody tr th:only-of-type {\n",
       "        vertical-align: middle;\n",
       "    }\n",
       "\n",
       "    .dataframe tbody tr th {\n",
       "        vertical-align: top;\n",
       "    }\n",
       "\n",
       "    .dataframe thead th {\n",
       "        text-align: right;\n",
       "    }\n",
       "</style>\n",
       "<table border=\"1\" class=\"dataframe\">\n",
       "  <thead>\n",
       "    <tr style=\"text-align: right;\">\n",
       "      <th></th>\n",
       "      <th>label</th>\n",
       "      <th>comment</th>\n",
       "      <th>parent_comment</th>\n",
       "    </tr>\n",
       "  </thead>\n",
       "  <tbody>\n",
       "    <tr>\n",
       "      <th>0</th>\n",
       "      <td>0</td>\n",
       "      <td>You can adjust the 3d touch sensitivity</td>\n",
       "      <td>Just got mine. Pin- I mean Rose Gold. I'm a gu...</td>\n",
       "    </tr>\n",
       "    <tr>\n",
       "      <th>1</th>\n",
       "      <td>0</td>\n",
       "      <td>Welcome to the surveillance state.</td>\n",
       "      <td>US District court confirms that that federal a...</td>\n",
       "    </tr>\n",
       "    <tr>\n",
       "      <th>2</th>\n",
       "      <td>0</td>\n",
       "      <td>Yes, yes it does.</td>\n",
       "      <td>This needs to be in the sidebar.</td>\n",
       "    </tr>\n",
       "    <tr>\n",
       "      <th>3</th>\n",
       "      <td>0</td>\n",
       "      <td>That was brutally honest....</td>\n",
       "      <td>That's something I'd want to go see the doctor...</td>\n",
       "    </tr>\n",
       "    <tr>\n",
       "      <th>4</th>\n",
       "      <td>0</td>\n",
       "      <td>5 k/b seems to work well for me.</td>\n",
       "      <td>I see the point of people saying block the por...</td>\n",
       "    </tr>\n",
       "  </tbody>\n",
       "</table>\n",
       "</div>"
      ],
      "text/plain": [
       "   label                                  comment  \\\n",
       "0      0  You can adjust the 3d touch sensitivity   \n",
       "1      0       Welcome to the surveillance state.   \n",
       "2      0                        Yes, yes it does.   \n",
       "3      0             That was brutally honest....   \n",
       "4      0         5 k/b seems to work well for me.   \n",
       "\n",
       "                                      parent_comment  \n",
       "0  Just got mine. Pin- I mean Rose Gold. I'm a gu...  \n",
       "1  US District court confirms that that federal a...  \n",
       "2                   This needs to be in the sidebar.  \n",
       "3  That's something I'd want to go see the doctor...  \n",
       "4  I see the point of people saying block the por...  "
      ]
     },
     "execution_count": 14,
     "metadata": {},
     "output_type": "execute_result"
    }
   ],
   "source": [
    "# CSV file: Reset the indexes to remove the grouping into 0s and 1s\n",
    "chosen_data.reset_index(inplace = True)\n",
    "# Delete the columns that include the names of the indexes created from the groups\n",
    "chosen_data.drop(['level_0', 'level_1'], inplace = True, axis = 1)\n",
    "chosen_data.head()"
   ]
  },
  {
   "cell_type": "code",
   "execution_count": 15,
   "metadata": {},
   "outputs": [
    {
     "data": {
      "text/html": [
       "<div>\n",
       "<style scoped>\n",
       "    .dataframe tbody tr th:only-of-type {\n",
       "        vertical-align: middle;\n",
       "    }\n",
       "\n",
       "    .dataframe tbody tr th {\n",
       "        vertical-align: top;\n",
       "    }\n",
       "\n",
       "    .dataframe thead th {\n",
       "        text-align: right;\n",
       "    }\n",
       "</style>\n",
       "<table border=\"1\" class=\"dataframe\">\n",
       "  <thead>\n",
       "    <tr style=\"text-align: right;\">\n",
       "      <th></th>\n",
       "      <th>id</th>\n",
       "      <th>text</th>\n",
       "      <th>label</th>\n",
       "    </tr>\n",
       "  </thead>\n",
       "  <tbody>\n",
       "    <tr>\n",
       "      <th>0</th>\n",
       "      <td>7373</td>\n",
       "      <td>this president is clearly a saint.</td>\n",
       "      <td>-1</td>\n",
       "    </tr>\n",
       "    <tr>\n",
       "      <th>1</th>\n",
       "      <td>914</td>\n",
       "      <td>Each day I feel the distance between me and an...</td>\n",
       "      <td>-1</td>\n",
       "    </tr>\n",
       "    <tr>\n",
       "      <th>2</th>\n",
       "      <td>4270</td>\n",
       "      <td>Until the next office suite.</td>\n",
       "      <td>-1</td>\n",
       "    </tr>\n",
       "    <tr>\n",
       "      <th>3</th>\n",
       "      <td>6672</td>\n",
       "      <td>**\\n\\nComputer experts are unanimous in demand...</td>\n",
       "      <td>-1</td>\n",
       "    </tr>\n",
       "    <tr>\n",
       "      <th>4</th>\n",
       "      <td>6458</td>\n",
       "      <td>w=474).</td>\n",
       "      <td>-1</td>\n",
       "    </tr>\n",
       "  </tbody>\n",
       "</table>\n",
       "</div>"
      ],
      "text/plain": [
       "     id                                               text  label\n",
       "0  7373                 this president is clearly a saint.     -1\n",
       "1   914  Each day I feel the distance between me and an...     -1\n",
       "2  4270                       Until the next office suite.     -1\n",
       "3  6672  **\\n\\nComputer experts are unanimous in demand...     -1\n",
       "4  6458                                            w=474).     -1"
      ]
     },
     "execution_count": 15,
     "metadata": {},
     "output_type": "execute_result"
    }
   ],
   "source": [
    "# DB data: Reset the indexes to remove the grouping into -1s and 1s\n",
    "data_2.reset_index(inplace = True)\n",
    "# Delete the columns that include the names of the indexes created from the groups\n",
    "data_2.drop(['level_0', 'level_1'], inplace = True, axis = 1)\n",
    "data_2.head()"
   ]
  },
  {
   "cell_type": "code",
   "execution_count": 16,
   "metadata": {},
   "outputs": [
    {
     "data": {
      "text/html": [
       "<div>\n",
       "<style scoped>\n",
       "    .dataframe tbody tr th:only-of-type {\n",
       "        vertical-align: middle;\n",
       "    }\n",
       "\n",
       "    .dataframe tbody tr th {\n",
       "        vertical-align: top;\n",
       "    }\n",
       "\n",
       "    .dataframe thead tr th {\n",
       "        text-align: left;\n",
       "    }\n",
       "\n",
       "    .dataframe thead tr:last-of-type th {\n",
       "        text-align: right;\n",
       "    }\n",
       "</style>\n",
       "<table border=\"1\" class=\"dataframe\">\n",
       "  <thead>\n",
       "    <tr>\n",
       "      <th></th>\n",
       "      <th colspan=\"4\" halign=\"left\">comment</th>\n",
       "      <th colspan=\"4\" halign=\"left\">parent_comment</th>\n",
       "    </tr>\n",
       "    <tr>\n",
       "      <th></th>\n",
       "      <th>count</th>\n",
       "      <th>unique</th>\n",
       "      <th>top</th>\n",
       "      <th>freq</th>\n",
       "      <th>count</th>\n",
       "      <th>unique</th>\n",
       "      <th>top</th>\n",
       "      <th>freq</th>\n",
       "    </tr>\n",
       "    <tr>\n",
       "      <th>label</th>\n",
       "      <th></th>\n",
       "      <th></th>\n",
       "      <th></th>\n",
       "      <th></th>\n",
       "      <th></th>\n",
       "      <th></th>\n",
       "      <th></th>\n",
       "      <th></th>\n",
       "    </tr>\n",
       "  </thead>\n",
       "  <tbody>\n",
       "    <tr>\n",
       "      <th>0</th>\n",
       "      <td>505405</td>\n",
       "      <td>479850</td>\n",
       "      <td>Yes</td>\n",
       "      <td>406</td>\n",
       "      <td>505405</td>\n",
       "      <td>495453</td>\n",
       "      <td>me irl</td>\n",
       "      <td>228</td>\n",
       "    </tr>\n",
       "    <tr>\n",
       "      <th>1</th>\n",
       "      <td>501218</td>\n",
       "      <td>486344</td>\n",
       "      <td>Who?</td>\n",
       "      <td>149</td>\n",
       "      <td>501218</td>\n",
       "      <td>491218</td>\n",
       "      <td>Why?</td>\n",
       "      <td>147</td>\n",
       "    </tr>\n",
       "  </tbody>\n",
       "</table>\n",
       "</div>"
      ],
      "text/plain": [
       "      comment                    parent_comment                     \n",
       "        count  unique   top freq          count  unique     top freq\n",
       "label                                                               \n",
       "0      505405  479850   Yes  406         505405  495453  me irl  228\n",
       "1      501218  486344  Who?  149         501218  491218    Why?  147"
      ]
     },
     "execution_count": 16,
     "metadata": {},
     "output_type": "execute_result"
    }
   ],
   "source": [
    "data.groupby('label').describe()"
   ]
  },
  {
   "cell_type": "code",
   "execution_count": 17,
   "metadata": {},
   "outputs": [
    {
     "data": {
      "text/html": [
       "<div>\n",
       "<style scoped>\n",
       "    .dataframe tbody tr th:only-of-type {\n",
       "        vertical-align: middle;\n",
       "    }\n",
       "\n",
       "    .dataframe tbody tr th {\n",
       "        vertical-align: top;\n",
       "    }\n",
       "\n",
       "    .dataframe thead tr th {\n",
       "        text-align: left;\n",
       "    }\n",
       "\n",
       "    .dataframe thead tr:last-of-type th {\n",
       "        text-align: right;\n",
       "    }\n",
       "</style>\n",
       "<table border=\"1\" class=\"dataframe\">\n",
       "  <thead>\n",
       "    <tr>\n",
       "      <th></th>\n",
       "      <th colspan=\"8\" halign=\"left\">id</th>\n",
       "    </tr>\n",
       "    <tr>\n",
       "      <th></th>\n",
       "      <th>count</th>\n",
       "      <th>mean</th>\n",
       "      <th>std</th>\n",
       "      <th>min</th>\n",
       "      <th>25%</th>\n",
       "      <th>50%</th>\n",
       "      <th>75%</th>\n",
       "      <th>max</th>\n",
       "    </tr>\n",
       "    <tr>\n",
       "      <th>label</th>\n",
       "      <th></th>\n",
       "      <th></th>\n",
       "      <th></th>\n",
       "      <th></th>\n",
       "      <th></th>\n",
       "      <th></th>\n",
       "      <th></th>\n",
       "      <th></th>\n",
       "    </tr>\n",
       "  </thead>\n",
       "  <tbody>\n",
       "    <tr>\n",
       "      <th>-1</th>\n",
       "      <td>2573.0</td>\n",
       "      <td>14580.788574</td>\n",
       "      <td>8304.915368</td>\n",
       "      <td>11.0</td>\n",
       "      <td>7525.0</td>\n",
       "      <td>14640.0</td>\n",
       "      <td>21874.0</td>\n",
       "      <td>28759.0</td>\n",
       "    </tr>\n",
       "    <tr>\n",
       "      <th>1</th>\n",
       "      <td>2573.0</td>\n",
       "      <td>14145.984065</td>\n",
       "      <td>7886.457663</td>\n",
       "      <td>22.0</td>\n",
       "      <td>7473.0</td>\n",
       "      <td>13457.0</td>\n",
       "      <td>20086.0</td>\n",
       "      <td>28757.0</td>\n",
       "    </tr>\n",
       "  </tbody>\n",
       "</table>\n",
       "</div>"
      ],
      "text/plain": [
       "           id                                                             \\\n",
       "        count          mean          std   min     25%      50%      75%   \n",
       "label                                                                      \n",
       "-1     2573.0  14580.788574  8304.915368  11.0  7525.0  14640.0  21874.0   \n",
       " 1     2573.0  14145.984065  7886.457663  22.0  7473.0  13457.0  20086.0   \n",
       "\n",
       "                \n",
       "           max  \n",
       "label           \n",
       "-1     28759.0  \n",
       " 1     28757.0  "
      ]
     },
     "execution_count": 17,
     "metadata": {},
     "output_type": "execute_result"
    }
   ],
   "source": [
    "data_2.groupby('label').describe()"
   ]
  },
  {
   "cell_type": "markdown",
   "metadata": {},
   "source": [
    "Part 3: Exploratory Analysis & Data Visualization\n",
    "\n",
    "We made sure we got equal number of sarcastic and non-sarcastic comments. From the following histogram, we notice we got 50,000 comments from each group."
   ]
  },
  {
   "cell_type": "code",
   "execution_count": 18,
   "metadata": {},
   "outputs": [
    {
     "data": {
      "text/plain": [
       "5033"
      ]
     },
     "execution_count": 18,
     "metadata": {},
     "output_type": "execute_result"
    }
   ],
   "source": [
    "# data_2.groupby('label').agg('count').id[-1]\n",
    "chosen_data.groupby('label').agg('count').comment[1]"
   ]
  },
  {
   "cell_type": "code",
   "execution_count": 19,
   "metadata": {},
   "outputs": [
    {
     "data": {
      "image/png": "[encoded data removed]",
      "text/plain": [
       "<Figure size 360x216 with 1 Axes>"
      ]
     },
     "metadata": {
      "needs_background": "light"
     },
     "output_type": "display_data"
    }
   ],
   "source": [
    "# Explore distribution of the data by label (0 -> non-sarcastic, 1 -> sarcastic)\n",
    "# data to plot\n",
    "values = [chosen_data.groupby('label').agg('count').comment[1], \n",
    "          chosen_data.groupby('label').agg('count').comment[0]]\n",
    "labels = ['Sarcastic', 'Non Sarcastic']\n",
    "\n",
    "label_pos = [i for i, _ in enumerate(labels)]\n",
    "\n",
    "# create plot\n",
    "fig, ax = plt.subplots(figsize=(5, 3))\n",
    "plt.bar(label_pos, values, color = 'c', width=0.3)\n",
    "plt.xlabel('Labels')\n",
    "plt.ylabel('Frequency')\n",
    "plt.title('Frequency of each Label')\n",
    "plt.xticks(label_pos, labels)\n",
    "\n",
    "plt.show()"
   ]
  },
  {
   "cell_type": "code",
   "execution_count": 20,
   "metadata": {},
   "outputs": [
    {
     "data": {
      "image/png": "[encoded data removed]",
      "text/plain": [
       "<Figure size 360x216 with 1 Axes>"
      ]
     },
     "metadata": {
      "needs_background": "light"
     },
     "output_type": "display_data"
    }
   ],
   "source": [
    "# Explore distribution of the data by label (-1 -> non-sarcastic, 1 -> sarcastic)\n",
    "# plt.hist(data_2.label)\n",
    "# plt.xlabel('Label')\n",
    "# plt.ylabel('Count')\n",
    "# plt.title('Distribution of Comments by Label')\n",
    "# plt.show()\n",
    "\n",
    "# Explore distribution of the data by label (-1 -> non-sarcastic, 1 -> sarcastic)\n",
    "# data to plot\n",
    "values = [data_2.groupby('label').agg('count').id[1], \n",
    "          data_2.groupby('label').agg('count').id[-1]]\n",
    "labels = ['Sarcastic', 'Non Sarcastic']\n",
    "\n",
    "label_pos = [i for i, _ in enumerate(labels)]\n",
    "\n",
    "# create plot\n",
    "fig, ax = plt.subplots(figsize=(5, 3))\n",
    "plt.bar(label_pos, values, color = 'c', width=0.3)\n",
    "plt.xlabel('Labels')\n",
    "plt.ylabel('Frequency')\n",
    "plt.title('Frequency of each Label')\n",
    "plt.xticks(label_pos, labels)\n",
    "\n",
    "plt.show()"
   ]
  },
  {
   "cell_type": "code",
   "execution_count": 21,
   "metadata": {},
   "outputs": [
    {
     "name": "stdout",
     "output_type": "stream",
     "text": [
      "Collecting nltk\n",
      "\u001b[?25l  Downloading https://files.pythonhosted.org/packages/87/16/4d247e27c55a7b6412e7c4c86f2500ae61afcbf5932b9e3491f8462f8d9e/nltk-3.4.4.zip (1.5MB)\n",
      "\u001b[K     |████████████████████████████████| 1.5MB 3.3MB/s eta 0:00:01\n",
      "\u001b[?25hRequirement already satisfied: six in /opt/conda/lib/python3.7/site-packages (from nltk) (1.12.0)\n",
      "Building wheels for collected packages: nltk\n",
      "  Building wheel for nltk (setup.py) ... \u001b[?25ldone\n",
      "\u001b[?25h  Stored in directory: /home/jovyan/.cache/pip/wheels/41/c8/31/48ace4468e236e0e8435f30d33e43df48594e4d53e367cf061\n",
      "Successfully built nltk\n",
      "Installing collected packages: nltk\n",
      "Successfully installed nltk-3.4.4\n"
     ]
    }
   ],
   "source": [
    "# Import NLTK library\n",
    "!pip install nltk"
   ]
  },
  {
   "cell_type": "code",
   "execution_count": 22,
   "metadata": {},
   "outputs": [],
   "source": [
    "import nltk"
   ]
  },
  {
   "cell_type": "code",
   "execution_count": 28,
   "metadata": {},
   "outputs": [],
   "source": [
    "# nltk.download(\"all\")"
   ]
  },
  {
   "cell_type": "code",
   "execution_count": 29,
   "metadata": {},
   "outputs": [],
   "source": [
    "from nltk.corpus import stopwords #Use this to get rid of meaningless words like \"the, and, a\"\n",
    "from nltk.tokenize import word_tokenize #Split by word\n",
    "from nltk.tokenize import sent_tokenize #Split by sentence"
   ]
  },
  {
   "cell_type": "code",
   "execution_count": 30,
   "metadata": {},
   "outputs": [],
   "source": [
    "#Make sure all the comment column is str data type\n",
    "chosen_data['comment'] = chosen_data['comment'].astype(str)\n",
    "chosen_data['parent_comment'] = chosen_data['parent_comment'].astype(str)\n",
    "data_2['text'] = data_2['text'].astype(str)\n",
    "\n",
    "# Split the comments into words\n",
    "chosen_data['tok_comment'] = chosen_data['comment'].apply(word_tokenize)\n",
    "data_2['tok_comment'] = data_2['text'].apply(word_tokenize)\n",
    "# Apply Parts of Speech tagging on the words\n",
    "chosen_data['POS_tag'] = chosen_data['tok_comment'].apply(nltk.pos_tag)\n",
    "data_2['POS_tag'] = data_2['tok_comment'].apply(nltk.pos_tag)\n",
    "# chosen_data.head()\n",
    "\n",
    "# Apply stemming on the tokenized comments to get the roots of the words\n",
    "from nltk.stem.snowball import SnowballStemmer\n",
    "\n",
    "stemmer = SnowballStemmer(\"english\")\n",
    "\n",
    "chosen_data['stem'] = chosen_data['tok_comment'].apply(lambda x: [stemmer.stem(y) for y in x])\n",
    "data_2['stem'] = data_2['tok_comment'].apply(lambda x: [stemmer.stem(y) for y in x])\n"
   ]
  },
  {
   "cell_type": "markdown",
   "metadata": {},
   "source": [
    "After confirming our suspicions that using TF-IDF on the raw tokenized comments would yield very modest results, we decided to continue exploring how we can fix our models. First, we used chunking to break up the comments into more meaningful noun phrases. "
   ]
  },
  {
   "cell_type": "markdown",
   "metadata": {},
   "source": [
    "Notice how the chunked sentences column groups the nouns into groups with"
   ]
  },
  {
   "cell_type": "code",
   "execution_count": 31,
   "metadata": {},
   "outputs": [],
   "source": [
    "joined_tag = []\n",
    "for index, row in chosen_data.iterrows():\n",
    "    joined_tag.append(' '.join([word + \"_\" + pos for word, pos in row['POS_tag']]))\n",
    "chosen_data['joined_POS_tag'] = joined_tag.copy()\n",
    "\n",
    "# For DB data\n",
    "joined_tag = []\n",
    "for index, row in data_2.iterrows():\n",
    "    joined_tag.append(' '.join([word + \"_\" + pos for word, pos in row['POS_tag']]))\n",
    "data_2['joined_POS_tag'] = joined_tag.copy()\n"
   ]
  },
  {
   "cell_type": "code",
   "execution_count": 32,
   "metadata": {},
   "outputs": [
    {
     "name": "stdout",
     "output_type": "stream",
     "text": [
      "Collecting textblob\n",
      "\u001b[?25l  Downloading https://files.pythonhosted.org/packages/60/f0/1d9bfcc8ee6b83472ec571406bd0dd51c0e6330ff1a51b2d29861d389e85/textblob-0.15.3-py2.py3-none-any.whl (636kB)\n",
      "\u001b[K     |████████████████████████████████| 645kB 5.3MB/s eta 0:00:01\n",
      "\u001b[?25hRequirement already satisfied, skipping upgrade: nltk>=3.1 in /opt/conda/lib/python3.7/site-packages (from textblob) (3.4.4)\n",
      "Requirement already satisfied, skipping upgrade: six in /opt/conda/lib/python3.7/site-packages (from nltk>=3.1->textblob) (1.12.0)\n",
      "Installing collected packages: textblob\n",
      "Successfully installed textblob-0.15.3\n"
     ]
    }
   ],
   "source": [
    "!pip install -U textblob\n",
    "from textblob import TextBlob"
   ]
  },
  {
   "cell_type": "code",
   "execution_count": 33,
   "metadata": {},
   "outputs": [],
   "source": [
    "\n",
    "# Polarity for comment\n",
    "blob_list = []\n",
    "for index, row in chosen_data.iterrows():\n",
    "    blob_list.append(TextBlob(row['comment']))\n",
    "chosen_data['textblob'] = blob_list.copy()\n",
    "\n",
    "# chosen_data.head()\n",
    "\n",
    "polarity_list = []\n",
    "for index, row in chosen_data.iterrows():\n",
    "    polarity_list.append(row['textblob'].sentiment.polarity)\n",
    "\n",
    "chosen_data['polarity'] = polarity_list.copy()\n",
    "\n",
    "# chosen_data.head()\n",
    "\n",
    "# print(chosen_data['polarity'].shape)"
   ]
  },
  {
   "cell_type": "code",
   "execution_count": 34,
   "metadata": {},
   "outputs": [],
   "source": [
    "# Polarity for parent comment\n",
    "\n",
    "parent_blob_list = []\n",
    "for index, row in chosen_data.iterrows():\n",
    "    parent_blob_list.append(TextBlob(row['parent_comment']))\n",
    "chosen_data['parent_textblob'] = parent_blob_list.copy()\n",
    "\n",
    "\n",
    "# chosen_data.head()\n",
    "\n",
    "parent_polarity_list = []\n",
    "for index, row in chosen_data.iterrows():\n",
    "    parent_polarity_list.append(row['parent_textblob'].sentiment.polarity)\n",
    "\n",
    "chosen_data['parent_polarity'] = parent_polarity_list.copy()\n",
    "\n",
    "# chosen_data.head()\n",
    "\n",
    "# print(chosen_data['parent_polarity'].shape)"
   ]
  },
  {
   "cell_type": "code",
   "execution_count": 35,
   "metadata": {},
   "outputs": [],
   "source": [
    "# Polarity for comment\n",
    "blob_list = []\n",
    "for index, row in data_2.iterrows():\n",
    "    blob_list.append(TextBlob(row['text']))\n",
    "data_2['textblob'] = blob_list.copy()\n",
    "\n",
    "# chosen_data.head()\n",
    "\n",
    "polarity_list = []\n",
    "for index, row in data_2.iterrows():\n",
    "    polarity_list.append(row['textblob'].sentiment.polarity)\n",
    "\n",
    "data_2['polarity'] = polarity_list.copy()\n",
    "\n",
    "# print(data_2['polarity'].shape)\n",
    "# data_2.head()"
   ]
  },
  {
   "cell_type": "code",
   "execution_count": 36,
   "metadata": {},
   "outputs": [],
   "source": [
    "\n",
    "chosen_data['joined_stem'] = chosen_data['stem'].apply(lambda x: ' '.join(x))\n",
    "data_2['joined_stem'] = data_2['stem'].apply(lambda x: ' '.join(x))\n",
    "# chosen_data.head()"
   ]
  },
  {
   "cell_type": "code",
   "execution_count": 37,
   "metadata": {},
   "outputs": [
    {
     "data": {
      "image/png": "[encoded data removed]",
      "text/plain": [
       "<Figure size 1080x720 with 1 Axes>"
      ]
     },
     "metadata": {
      "needs_background": "light"
     },
     "output_type": "display_data"
    }
   ],
   "source": [
    "# chosen_data.groupby('label').get_group(0)['polarity']\n",
    "g1 = (chosen_data.groupby('label').get_group(0)['polarity'],\n",
    "     chosen_data.groupby('label').get_group(0)['parent_polarity'])\n",
    "\n",
    "g2 = (chosen_data.groupby('label').get_group(1)['polarity'],\n",
    "     chosen_data.groupby('label').get_group(1)['parent_polarity'])\n",
    "\n",
    "data = (g1, g2)\n",
    "colors = (\"red\", \"cyan\")\n",
    "groups = ('Non sarcastic', 'Sarcastic')\n",
    "\n",
    "fig = plt.figure(figsize = (15, 10))\n",
    "ax = fig.add_subplot(111)\n",
    "\n",
    "for data, color, group in zip(data, colors, groups):\n",
    "    x, y = data\n",
    "    ax.scatter(x, y, alpha = 0.5, c = color, \n",
    "               edgecolors = 'none', s = 30, label = group)\n",
    "    \n",
    "plt.title(\"Comment vs Parent Comment Polarity\", fontsize = 30)\n",
    "plt.xlabel(\"Comment Polarity\", fontsize = 20)\n",
    "plt.ylabel(\"Parent Comment Polarity\", fontsize = 20)\n",
    "plt.legend(loc = 2)\n",
    "plt.show()"
   ]
  },
  {
   "cell_type": "code",
   "execution_count": 38,
   "metadata": {},
   "outputs": [
    {
     "data": {
      "text/html": [
       "<div>\n",
       "<style scoped>\n",
       "    .dataframe tbody tr th:only-of-type {\n",
       "        vertical-align: middle;\n",
       "    }\n",
       "\n",
       "    .dataframe tbody tr th {\n",
       "        vertical-align: top;\n",
       "    }\n",
       "\n",
       "    .dataframe thead th {\n",
       "        text-align: right;\n",
       "    }\n",
       "</style>\n",
       "<table border=\"1\" class=\"dataframe\">\n",
       "  <thead>\n",
       "    <tr style=\"text-align: right;\">\n",
       "      <th></th>\n",
       "      <th>id</th>\n",
       "      <th>text</th>\n",
       "      <th>label</th>\n",
       "      <th>tok_comment</th>\n",
       "      <th>POS_tag</th>\n",
       "      <th>stem</th>\n",
       "      <th>joined_POS_tag</th>\n",
       "      <th>textblob</th>\n",
       "      <th>polarity</th>\n",
       "      <th>joined_stem</th>\n",
       "    </tr>\n",
       "  </thead>\n",
       "  <tbody>\n",
       "    <tr>\n",
       "      <th>0</th>\n",
       "      <td>7373</td>\n",
       "      <td>this president is clearly a saint.</td>\n",
       "      <td>-1</td>\n",
       "      <td>[this, president, is, clearly, a, saint, .]</td>\n",
       "      <td>[(this, DT), (president, NN), (is, VBZ), (clea...</td>\n",
       "      <td>[this, presid, is, clear, a, saint, .]</td>\n",
       "      <td>this_DT president_NN is_VBZ clearly_RB a_DT sa...</td>\n",
       "      <td>(t, h, i, s,  , p, r, e, s, i, d, e, n, t,  , ...</td>\n",
       "      <td>0.1</td>\n",
       "      <td>this presid is clear a saint .</td>\n",
       "    </tr>\n",
       "    <tr>\n",
       "      <th>1</th>\n",
       "      <td>914</td>\n",
       "      <td>Each day I feel the distance between me and an...</td>\n",
       "      <td>-1</td>\n",
       "      <td>[Each, day, I, feel, the, distance, between, m...</td>\n",
       "      <td>[(Each, DT), (day, NN), (I, PRP), (feel, VBP),...</td>\n",
       "      <td>[each, day, i, feel, the, distanc, between, me...</td>\n",
       "      <td>Each_DT day_NN I_PRP feel_VBP the_DT distance_...</td>\n",
       "      <td>(E, a, c, h,  , d, a, y,  , I,  , f, e, e, l, ...</td>\n",
       "      <td>0.0</td>\n",
       "      <td>each day i feel the distanc between me and ani...</td>\n",
       "    </tr>\n",
       "    <tr>\n",
       "      <th>2</th>\n",
       "      <td>4270</td>\n",
       "      <td>Until the next office suite.</td>\n",
       "      <td>-1</td>\n",
       "      <td>[Until, the, next, office, suite, .]</td>\n",
       "      <td>[(Until, IN), (the, DT), (next, JJ), (office, ...</td>\n",
       "      <td>[until, the, next, offic, suit, .]</td>\n",
       "      <td>Until_IN the_DT next_JJ office_NN suite_NN ._.</td>\n",
       "      <td>(U, n, t, i, l,  , t, h, e,  , n, e, x, t,  , ...</td>\n",
       "      <td>0.0</td>\n",
       "      <td>until the next offic suit .</td>\n",
       "    </tr>\n",
       "    <tr>\n",
       "      <th>3</th>\n",
       "      <td>6672</td>\n",
       "      <td>**\\n\\nComputer experts are unanimous in demand...</td>\n",
       "      <td>-1</td>\n",
       "      <td>[**, Computer, experts, are, unanimous, in, de...</td>\n",
       "      <td>[(**, JJ), (Computer, NNP), (experts, NNS), (a...</td>\n",
       "      <td>[**, comput, expert, are, unanim, in, demand, ...</td>\n",
       "      <td>**_JJ Computer_NNP experts_NNS are_VBP unanimo...</td>\n",
       "      <td>(*, *, \\n, \\n, C, o, m, p, u, t, e, r,  , e, x...</td>\n",
       "      <td>0.0</td>\n",
       "      <td>** comput expert are unanim in demand a return...</td>\n",
       "    </tr>\n",
       "    <tr>\n",
       "      <th>4</th>\n",
       "      <td>6458</td>\n",
       "      <td>w=474).</td>\n",
       "      <td>-1</td>\n",
       "      <td>[w=474, ), .]</td>\n",
       "      <td>[(w=474, NN), (), )), (., .)]</td>\n",
       "      <td>[w=474, ), .]</td>\n",
       "      <td>w=474_NN )_) ._.</td>\n",
       "      <td>(w, =, 4, 7, 4, ), .)</td>\n",
       "      <td>0.0</td>\n",
       "      <td>w=474 ) .</td>\n",
       "    </tr>\n",
       "  </tbody>\n",
       "</table>\n",
       "</div>"
      ],
      "text/plain": [
       "     id                                               text  label  \\\n",
       "0  7373                 this president is clearly a saint.     -1   \n",
       "1   914  Each day I feel the distance between me and an...     -1   \n",
       "2  4270                       Until the next office suite.     -1   \n",
       "3  6672  **\\n\\nComputer experts are unanimous in demand...     -1   \n",
       "4  6458                                            w=474).     -1   \n",
       "\n",
       "                                         tok_comment  \\\n",
       "0        [this, president, is, clearly, a, saint, .]   \n",
       "1  [Each, day, I, feel, the, distance, between, m...   \n",
       "2               [Until, the, next, office, suite, .]   \n",
       "3  [**, Computer, experts, are, unanimous, in, de...   \n",
       "4                                      [w=474, ), .]   \n",
       "\n",
       "                                             POS_tag  \\\n",
       "0  [(this, DT), (president, NN), (is, VBZ), (clea...   \n",
       "1  [(Each, DT), (day, NN), (I, PRP), (feel, VBP),...   \n",
       "2  [(Until, IN), (the, DT), (next, JJ), (office, ...   \n",
       "3  [(**, JJ), (Computer, NNP), (experts, NNS), (a...   \n",
       "4                      [(w=474, NN), (), )), (., .)]   \n",
       "\n",
       "                                                stem  \\\n",
       "0             [this, presid, is, clear, a, saint, .]   \n",
       "1  [each, day, i, feel, the, distanc, between, me...   \n",
       "2                 [until, the, next, offic, suit, .]   \n",
       "3  [**, comput, expert, are, unanim, in, demand, ...   \n",
       "4                                      [w=474, ), .]   \n",
       "\n",
       "                                      joined_POS_tag  \\\n",
       "0  this_DT president_NN is_VBZ clearly_RB a_DT sa...   \n",
       "1  Each_DT day_NN I_PRP feel_VBP the_DT distance_...   \n",
       "2     Until_IN the_DT next_JJ office_NN suite_NN ._.   \n",
       "3  **_JJ Computer_NNP experts_NNS are_VBP unanimo...   \n",
       "4                                   w=474_NN )_) ._.   \n",
       "\n",
       "                                            textblob  polarity  \\\n",
       "0  (t, h, i, s,  , p, r, e, s, i, d, e, n, t,  , ...       0.1   \n",
       "1  (E, a, c, h,  , d, a, y,  , I,  , f, e, e, l, ...       0.0   \n",
       "2  (U, n, t, i, l,  , t, h, e,  , n, e, x, t,  , ...       0.0   \n",
       "3  (*, *, \\n, \\n, C, o, m, p, u, t, e, r,  , e, x...       0.0   \n",
       "4                              (w, =, 4, 7, 4, ), .)       0.0   \n",
       "\n",
       "                                         joined_stem  \n",
       "0                     this presid is clear a saint .  \n",
       "1  each day i feel the distanc between me and ani...  \n",
       "2                        until the next offic suit .  \n",
       "3  ** comput expert are unanim in demand a return...  \n",
       "4                                          w=474 ) .  "
      ]
     },
     "execution_count": 38,
     "metadata": {},
     "output_type": "execute_result"
    }
   ],
   "source": [
    "data_2.head()"
   ]
  },
  {
   "cell_type": "code",
   "execution_count": 72,
   "metadata": {},
   "outputs": [
    {
     "name": "stdout",
     "output_type": "stream",
     "text": [
      "5146\n",
      "10066\n"
     ]
    }
   ],
   "source": [
    "print(len(data_2))\n",
    "print(len(chosen_data))"
   ]
  },
  {
   "cell_type": "markdown",
   "metadata": {},
   "source": [
    "### Predicting Sarcasm\n",
    "\n",
    "We were interested in trying different models for predicting a sarcastic comment.\n",
    "To determine the features and labels for the analysis, we decided to look at the comment itself as a feature and use the given sarcastic vs non-sarcastic classification as our label.\n",
    "\n",
    "Various articles and studies looked at sarcasm and attempted to predict using different features. For instance, an online tutorial only looked at TF-IDF as a feature, so we decided we wanted to experiment with that and see if we would get anything remotely close to their findings. Worth noting, however, that they looked at tweets with the #sarcasm tag, their dataset was significantly smaller than ours (N= ), and their training vs test data split was slightly unusual (training = 95%, test = 5%). \n",
    "\n",
    "To create a more reliable model, we decided to split our data into the more common 80-20 split for training and test subsets respectively. We also chose three main models to compare, acknowledging that some of them might fare slightly more poorly compared to the others. We also assumed TF-IDF vectorization of the comments alone would not be a good predictor for whether a comment is sarcastic or not. \n",
    "\n",
    "The three models we picked were:\n",
    "1. Logistic regression\n",
    "2. Support Vector Machine\n",
    "3. Random forest"
   ]
  },
  {
   "cell_type": "code",
   "execution_count": 39,
   "metadata": {},
   "outputs": [],
   "source": [
    "from sklearn.model_selection import train_test_split\n",
    "from sklearn.svm import LinearSVC\n",
    "from sklearn.linear_model import LogisticRegression\n",
    "from sklearn.ensemble import RandomForestClassifier\n",
    "from sklearn.linear_model import LogisticRegressionCV"
   ]
  },
  {
   "cell_type": "code",
   "execution_count": 40,
   "metadata": {},
   "outputs": [
    {
     "data": {
      "text/html": [
       "<div>\n",
       "<style scoped>\n",
       "    .dataframe tbody tr th:only-of-type {\n",
       "        vertical-align: middle;\n",
       "    }\n",
       "\n",
       "    .dataframe tbody tr th {\n",
       "        vertical-align: top;\n",
       "    }\n",
       "\n",
       "    .dataframe thead th {\n",
       "        text-align: right;\n",
       "    }\n",
       "</style>\n",
       "<table border=\"1\" class=\"dataframe\">\n",
       "  <thead>\n",
       "    <tr style=\"text-align: right;\">\n",
       "      <th></th>\n",
       "      <th>joined_POS_tag</th>\n",
       "      <th>joined_stem</th>\n",
       "      <th>polarity</th>\n",
       "      <th>parent_polarity</th>\n",
       "    </tr>\n",
       "  </thead>\n",
       "  <tbody>\n",
       "    <tr>\n",
       "      <th>787</th>\n",
       "      <td>Fight_NNP or_CC fuck_VBN ?_.</td>\n",
       "      <td>fight or fuck ?</td>\n",
       "      <td>-0.40</td>\n",
       "      <td>0.000000</td>\n",
       "    </tr>\n",
       "    <tr>\n",
       "      <th>4007</th>\n",
       "      <td>GTX_NN 1060_CD</td>\n",
       "      <td>gtx 1060</td>\n",
       "      <td>0.00</td>\n",
       "      <td>0.568182</td>\n",
       "    </tr>\n",
       "    <tr>\n",
       "      <th>3188</th>\n",
       "      <td>This_DT whole_JJ article_NN was_VBD weird_JJ ._.</td>\n",
       "      <td>this whole articl was weird .</td>\n",
       "      <td>-0.15</td>\n",
       "      <td>0.071111</td>\n",
       "    </tr>\n",
       "    <tr>\n",
       "      <th>4763</th>\n",
       "      <td>Leaf_NNP comes_VBZ thru_RB with_IN the_DT top-...</td>\n",
       "      <td>leaf come thru with the top-tier bantz !</td>\n",
       "      <td>0.00</td>\n",
       "      <td>0.000000</td>\n",
       "    </tr>\n",
       "    <tr>\n",
       "      <th>8120</th>\n",
       "      <td>Take_VB you_PRP 're_VBP logic_JJ and_CC shove_...</td>\n",
       "      <td>take you re logic and shove it , shitlord</td>\n",
       "      <td>0.00</td>\n",
       "      <td>0.000000</td>\n",
       "    </tr>\n",
       "  </tbody>\n",
       "</table>\n",
       "</div>"
      ],
      "text/plain": [
       "                                         joined_POS_tag  \\\n",
       "787                        Fight_NNP or_CC fuck_VBN ?_.   \n",
       "4007                                     GTX_NN 1060_CD   \n",
       "3188   This_DT whole_JJ article_NN was_VBD weird_JJ ._.   \n",
       "4763  Leaf_NNP comes_VBZ thru_RB with_IN the_DT top-...   \n",
       "8120  Take_VB you_PRP 're_VBP logic_JJ and_CC shove_...   \n",
       "\n",
       "                                    joined_stem  polarity  parent_polarity  \n",
       "787                             fight or fuck ?     -0.40         0.000000  \n",
       "4007                                   gtx 1060      0.00         0.568182  \n",
       "3188              this whole articl was weird .     -0.15         0.071111  \n",
       "4763   leaf come thru with the top-tier bantz !      0.00         0.000000  \n",
       "8120  take you re logic and shove it , shitlord      0.00         0.000000  "
      ]
     },
     "execution_count": 40,
     "metadata": {},
     "output_type": "execute_result"
    }
   ],
   "source": [
    "X_train, X_test, y_train, y_test = train_test_split(chosen_data[['joined_POS_tag', 'joined_stem', 'polarity', 'parent_polarity']] , chosen_data.label, test_size=0.2, random_state=0)\n",
    "X_train.head()"
   ]
  },
  {
   "cell_type": "code",
   "execution_count": 41,
   "metadata": {},
   "outputs": [
    {
     "data": {
      "text/html": [
       "<div>\n",
       "<style scoped>\n",
       "    .dataframe tbody tr th:only-of-type {\n",
       "        vertical-align: middle;\n",
       "    }\n",
       "\n",
       "    .dataframe tbody tr th {\n",
       "        vertical-align: top;\n",
       "    }\n",
       "\n",
       "    .dataframe thead th {\n",
       "        text-align: right;\n",
       "    }\n",
       "</style>\n",
       "<table border=\"1\" class=\"dataframe\">\n",
       "  <thead>\n",
       "    <tr style=\"text-align: right;\">\n",
       "      <th></th>\n",
       "      <th>joined_POS_tag</th>\n",
       "      <th>joined_stem</th>\n",
       "      <th>polarity</th>\n",
       "    </tr>\n",
       "  </thead>\n",
       "  <tbody>\n",
       "    <tr>\n",
       "      <th>1936</th>\n",
       "      <td>Whaples_NNS found_VBD that_IN 37_CD ._.</td>\n",
       "      <td>whapl found that 37 .</td>\n",
       "      <td>0.000000</td>\n",
       "    </tr>\n",
       "    <tr>\n",
       "      <th>2509</th>\n",
       "      <td>&amp;_CC gt_NN ;_: ''_'' It_PRP is_VBZ spreading_V...</td>\n",
       "      <td>&amp; gt ; '' it is spread like bushfir becaus it ...</td>\n",
       "      <td>0.000000</td>\n",
       "    </tr>\n",
       "    <tr>\n",
       "      <th>872</th>\n",
       "      <td>washingtonpost_NN ._.</td>\n",
       "      <td>washingtonpost .</td>\n",
       "      <td>0.000000</td>\n",
       "    </tr>\n",
       "    <tr>\n",
       "      <th>831</th>\n",
       "      <td>It_PRP 's_VBZ more_RBR efficient_JJ and_CC mor...</td>\n",
       "      <td>it 's more effici and more effect .</td>\n",
       "      <td>0.533333</td>\n",
       "    </tr>\n",
       "    <tr>\n",
       "      <th>1813</th>\n",
       "      <td>``_`` which_WDT would_MD be_VB awesome_VBN in_...</td>\n",
       "      <td>`` which would be awesom in my eye .</td>\n",
       "      <td>1.000000</td>\n",
       "    </tr>\n",
       "  </tbody>\n",
       "</table>\n",
       "</div>"
      ],
      "text/plain": [
       "                                         joined_POS_tag  \\\n",
       "1936            Whaples_NNS found_VBD that_IN 37_CD ._.   \n",
       "2509  &_CC gt_NN ;_: ''_'' It_PRP is_VBZ spreading_V...   \n",
       "872                               washingtonpost_NN ._.   \n",
       "831   It_PRP 's_VBZ more_RBR efficient_JJ and_CC mor...   \n",
       "1813  ``_`` which_WDT would_MD be_VB awesome_VBN in_...   \n",
       "\n",
       "                                            joined_stem  polarity  \n",
       "1936                              whapl found that 37 .  0.000000  \n",
       "2509  & gt ; '' it is spread like bushfir becaus it ...  0.000000  \n",
       "872                                    washingtonpost .  0.000000  \n",
       "831                 it 's more effici and more effect .  0.533333  \n",
       "1813               `` which would be awesom in my eye .  1.000000  "
      ]
     },
     "execution_count": 41,
     "metadata": {},
     "output_type": "execute_result"
    }
   ],
   "source": [
    "# For the database\n",
    "db_X_train, db_X_test, db_y_train, db_y_test = train_test_split(data_2[['joined_POS_tag', 'joined_stem', 'polarity']] , data_2.label, test_size=0.2, random_state=0)\n",
    "db_X_train.head()"
   ]
  },
  {
   "cell_type": "code",
   "execution_count": 102,
   "metadata": {},
   "outputs": [],
   "source": [
    "# TF-IDF to vectorize the data\n",
    "import scipy.sparse as sp\n",
    "from sklearn.feature_extraction.text import TfidfVectorizer\n",
    "\n",
    "# Vectorize the stemmed comments\n",
    "# Set ngram range to (1, 3) to capture longer combinations of words\n",
    "stem_vectorizer = TfidfVectorizer(ngram_range = (1,3))\n",
    "tfidf_stem = stem_vectorizer.fit_transform(X_train.joined_stem)\n",
    "\n",
    "# Vectorize POS tagged comments\n",
    "pos_vectorizer = TfidfVectorizer(ngram_range = (1,3))\n",
    "tfidf_pos = pos_vectorizer.fit_transform(X_train.joined_POS_tag)\n",
    "\n",
    "# Combine the first 2 features x1 = tfidf(stemmed) and x2 = tfidf(POS tagged)\n",
    "combined_2 = sp.hstack([tfidf_stem, tfidf_pos], format = 'csr')\n",
    "# Combine previous 2 features with x3 = comment polarity\n",
    "combined_3 = sp.hstack((combined_2,np.array(X_train.polarity)[:,None]))\n",
    "# Combine previous 2 features with x3 = parent polarity\n",
    "combined_3_parent = sp.hstack((combined_2, np.array(X_train.parent_polarity)[:,None]))\n",
    "# Combine previous 3 features with x4 = parent comment polarity\n",
    "combined_4 = sp.hstack((combined_3,np.array(X_train.parent_polarity)[:,None]))\n",
    "\n",
    "# Same process follow for the test data\n",
    "test_tfidf_stem = stem_vectorizer.transform(X_test.joined_stem)\n",
    "test_tfidf_pos = pos_vectorizer.transform(X_test.joined_POS_tag)\n",
    "\n",
    "# x1 = tfidf(stemmed) and x2 = tfidf(POS tagged)\n",
    "test_combined_2 = sp.hstack([test_tfidf_stem, test_tfidf_pos], format = 'csr')\n",
    "# previous 2 with x3 = comment polarity\n",
    "test_combined_3 = sp.hstack((test_combined_2,np.array(X_test.polarity)[:,None]))\n",
    "# Combine previous 2 features with x3 = parent polarity\n",
    "test_combined_3_parent = sp.hstack((test_combined_2, np.array(X_test.parent_polarity)[:,None]))\n",
    "# previous 3 with x4 = parent comment polarity\n",
    "test_combined_4 = sp.hstack((test_combined_3,np.array(X_test.parent_polarity)[:,None]))\n",
    "\n",
    "# Vectorizing the data for the database dataset\n",
    "# Vectorized stemmed comment\n",
    "db_stem_vectorizer = TfidfVectorizer(ngram_range = (1,3)) # ask about max features\n",
    "db_tfidf_stem = db_stem_vectorizer.fit_transform(db_X_train.joined_stem)\n",
    "\n",
    "# Vectorized Parts of Speech tagged comments\n",
    "db_pos_vectorizer = TfidfVectorizer(ngram_range = (1,3))\n",
    "db_tfidf_pos = db_pos_vectorizer.fit_transform(db_X_train.joined_POS_tag)\n",
    "\n",
    "# Combining the 2 features into 1 matrix x1 = tfidf(stemmed) and x2 = tfidf(POS tagged)\n",
    "db_combined_2 = sp.hstack([db_tfidf_stem, db_tfidf_pos], format = 'csr')\n",
    "\n",
    "# Combining the 3 features into 1 matrix x1 = tfidf(stemmed), x2 = tfidf(POS tagged),\n",
    "# and comment polarity\n",
    "db_combined_3 = sp.hstack((db_combined_2,np.array(db_X_train.polarity)[:,None]))\n",
    "\n",
    "## Test data vectorizing, Same method as for the training data\n",
    "\n",
    "# Transforming stemmed data in the test dataset to match the dimensions of the vectorized\n",
    "# training data. Allowing this to be passed into the model produced from the training data\n",
    "db_test_tfidf_stem = db_stem_vectorizer.transform(db_X_test.joined_stem)\n",
    "\n",
    "# Transforming Parts of speech tagged data to vectorized data\n",
    "db_test_tfidf_pos = db_pos_vectorizer.transform(db_X_test.joined_POS_tag)\n",
    "\n",
    "# Combining the 2 tfidf vectorized features x1 = tfidf(stemmed) and x2 = tfidf(POS tagged)\n",
    "db_test_combined_2 = sp.hstack([db_test_tfidf_stem, db_test_tfidf_pos], format = 'csr')\n",
    "\n",
    "# Combining the previous 2 features with the 3rd features x3 = comment polarity\n",
    "db_test_combined_3 = sp.hstack((db_test_combined_2,np.array(db_X_test.polarity)[:,None]))"
   ]
  },
  {
   "cell_type": "code",
   "execution_count": 132,
   "metadata": {},
   "outputs": [],
   "source": [
    "# Trying squared features for the model\n",
    "squared_tfidf_stem = sp.csr_matrix(tfidf_stem).copy()\n",
    "squared_tfidf_stem.data **= 2\n",
    "\n",
    "squared_tfidf_pos = sp.csr_matrix(tfidf_pos).copy()\n",
    "squared_tfidf_pos.data **= 2\n",
    "\n",
    "squared_polarity = np.square(X_train.polarity)\n",
    "squared_parent_polarity = np.square(X_train.parent_polarity)\n",
    "\n",
    "# Combine the first 2 features x1 = tfidf(stemmed) and x2 = tfidf(POS tagged)\n",
    "squared_combined_2 = sp.hstack([squared_tfidf_stem, squared_tfidf_pos], format = 'csr')\n",
    "# Combine previous 2 features with x3 = comment polarity\n",
    "squared_combined_3 = sp.hstack((combined_2,np.array(squared_polarity)[:,None]))\n",
    "# Combine previous 2 features with x3 = parent polarity\n",
    "squared_combined_3_parent = sp.hstack((combined_2, np.array(squared_parent_polarity)[:,None]))\n",
    "# Combine previous 3 features with x4 = parent comment polarity\n",
    "squared_combined_4 = sp.hstack((combined_3,np.array(squared_parent_polarity)[:,None]))\n",
    "\n",
    "# Same process follow for the test data\n",
    "squared_test_tfidf_stem = sp.csr_matrix(test_tfidf_stem).copy()\n",
    "squared_test_tfidf_stem.data **= 2\n",
    "squared_test_tfidf_pos = sp.csr_matrix(test_tfidf_pos).copy()\n",
    "squared_test_tfidf_pos.data **= 2\n",
    "squared_test_polarity = np.square(X_test.polarity)\n",
    "squared_test_parent_polarity = np.square(X_test.parent_polarity)\n",
    "\n",
    "# x1 = tfidf(stemmed) and x2 = tfidf(POS tagged)\n",
    "squared_test_combined_2 = sp.hstack([squared_test_tfidf_stem, squared_test_tfidf_pos], format = 'csr')\n",
    "# previous 2 with x3 = comment polarity\n",
    "squared_test_combined_3 = sp.hstack((squared_test_combined_2,np.array(squared_test_polarity)[:,None]))\n",
    "# Combine previous 2 features with x3 = parent polarity\n",
    "test_combined_3_parent = sp.hstack((test_combined_2, np.array(squared_test_parent_polarity)[:,None]))\n",
    "# previous 3 with x4 = parent comment polarity\n",
    "test_combined_4 = sp.hstack((test_combined_3,np.array(squared_test_parent_polarity)[:,None]))\n",
    "\n",
    "\n",
    "# Trying squared features for the model\n",
    "squared_db_tfidf_stem = sp.csr_matrix(db_tfidf_stem).copy()\n",
    "squared_db_tfidf_stem.data **= 2\n",
    "\n",
    "squared_db_tfidf_pos = sp.csr_matrix(db_tfidf_pos).copy()\n",
    "squared_db_tfidf_pos.data **= 2\n",
    "\n",
    "squared_db_polarity = np.square(db_X_train.polarity)\n",
    "\n",
    "# Combine the first 2 features x1 = tfidf(stemmed) and x2 = tfidf(POS tagged)\n",
    "squared_db_combined_2 = sp.hstack([squared_db_tfidf_stem, squared_db_tfidf_pos], format = 'csr')\n",
    "# Combine previous 2 features with x3 = comment polarity\n",
    "squared_db_combined_3 = sp.hstack((squared_db_combined_2,np.array(squared_db_polarity)[:,None]))\n",
    "\n",
    "# Same process followed for the test data\n",
    "squared_db_test_tfidf_stem = sp.csr_matrix(db_test_tfidf_stem).copy()\n",
    "squared_db_test_tfidf_stem.data **= 2\n",
    "squared_db_test_tfidf_pos = sp.csr_matrix(db_test_tfidf_pos).copy()\n",
    "squared_db_test_tfidf_pos.data **= 2\n",
    "squared_db_test_polarity = np.square(db_X_test.polarity)\n",
    "\n",
    "# x1 = tfidf(stemmed) and x2 = tfidf(POS tagged)\n",
    "squared_db_test_combined_2 = sp.hstack([squared_db_test_tfidf_stem, squared_db_test_tfidf_pos], format = 'csr')\n",
    "# previous 2 with x3 = comment polarity\n",
    "squared_db_test_combined_3 = sp.hstack((squared_db_test_combined_2,np.array(squared_db_test_polarity)[:,None]))\n"
   ]
  },
  {
   "cell_type": "code",
   "execution_count": 126,
   "metadata": {},
   "outputs": [
    {
     "name": "stdout",
     "output_type": "stream",
     "text": [
      "Logistic regression: x1 = stemmed comments, x2 = POS\n",
      "Training score:  0.9978887232985594\n",
      "Test score:  0.6434955312810328\n"
     ]
    }
   ],
   "source": [
    "cv_log_clf = LogisticRegressionCV(cv = 10, solver='lbfgs', max_iter = 500).fit(squared_combined_4, y_train)\n",
    "\n",
    "# Logistic regression score\n",
    "print(\"Logistic regression: x1 = stemmed comments, x2 = POS\")\n",
    "print(\"Training score: \", cv_log_clf.score(squared_combined_4, y_train))\n",
    "print(\"Test score: \", cv_log_clf.score(test_combined_4, y_test))"
   ]
  },
  {
   "cell_type": "markdown",
   "metadata": {},
   "source": [
    "After specifying the features we are interested in looking at, we considered several models to explore which model would classify a comment with highest accuracy.\n",
    "The first method we implemented was Logistic Regression from the Scikit module. Logistic Regression is a method used to classify data with a categorical outcome. In our case, those categories would be sarcastic vs non-sarcastic. \n",
    "\n",
    "The following equation, known as the sigmoid function, is the hypothesis function of the logistic regression.\n",
    "\n",
    "$ h_ \\theta (X) =  \\frac{\\mathrm{1} }{\\mathrm{1} + e^{- \\theta^TX} }  $ where $\\theta\\$ represents the parameters being trained by the model and x represents the features used to train the model. Based on this concept, we decided to experiment with several different combinations of the properties of the X matrix.\n",
    "\n",
    "To address the issue of overfitting, we used the built-in Cross Validation option, with k = 10 to perform 10 fold cross validation on the following models:\n",
    "\n",
    "1. Model that uses 2 features (Stemmed comments and POS tagged comments)\n",
    "2. Model that uses 3 features (Stemmed comments, POS tagged comments, and comment polarity)\n",
    "3. Model that uses 3 features (Stemmed comments, POS tagged comments, and parent comment polarity)\n",
    "4. Model that uses all 4 features (Stemmed comments, POS tagged comments, comment polarity, and parent comment polarity)\n",
    "5. Model that uses the first 2 features (Stemmed comments and POS tagged comments) and a third features that is an interaction of the 2 latter features (Comment polarity and parent comment polarity)"
   ]
  },
  {
   "cell_type": "code",
   "execution_count": null,
   "metadata": {},
   "outputs": [],
   "source": [
    "# Model 1:\n",
    "# Logistic regression using 2 features x1 = stemmed comments, x2 = POS tagged comments\n",
    "\n",
    "cv_log_clf = LogisticRegressionCV(cv = 10, solver='lbfgs', max_iter = 00).fit(combined_2, y_train)\n",
    "\n",
    "# Logistic regression score\n",
    "print(\"Logistic regression: x1 = stemmed comments, x2 = POS\")\n",
    "print(\"Training score: \", cv_log_clf.score(combined_2, y_train))\n",
    "print(\"Test score: \", cv_log_clf.score(test_combined_2, y_test))"
   ]
  },
  {
   "cell_type": "code",
   "execution_count": 101,
   "metadata": {},
   "outputs": [
    {
     "name": "stdout",
     "output_type": "stream",
     "text": [
      "Training score:  0.9978887232985594\n",
      "Test score:  0.6434955312810328\n"
     ]
    }
   ],
   "source": [
    "# Model 2:\n",
    "# Logistic regression using 3 features x1 = stemmed comments, x2 = POS tagged comments,\n",
    "# and x3 = comment polarity\n",
    "\n",
    "cv_log_clf = LogisticRegressionCV(cv = 10, solver='lbfgs', max_iter = 300).fit(combined_3, y_train)\n",
    "\n",
    "# Logistic regression score\n",
    "print(\"Logistic regression: x1 = stemmed comments, x2 = POS, x3 = polarity\")\n",
    "print(\"Training score: \", cv_log_clf.score(combined_3, y_train))\n",
    "print(\"Test score: \", cv_log_clf.score(test_combined_3, y_test))"
   ]
  },
  {
   "cell_type": "code",
   "execution_count": 104,
   "metadata": {},
   "outputs": [
    {
     "name": "stdout",
     "output_type": "stream",
     "text": [
      "Logistic regression: x1 = stemmed comments, x2 = POS, x3 = parent polarity\n",
      "Training score:  0.9978887232985594\n",
      "Test score:  0.6439920556107249\n"
     ]
    }
   ],
   "source": [
    "# Model 3:\n",
    "# Logistic regression using 3 features x1 = stemmed comments, x2 = POS tagged comments,\n",
    "# and x3 = parent comment polarity --> combined_3_parent and test_combined_3_parent\n",
    "\n",
    "cv_log_clf = LogisticRegressionCV(cv = 10, solver='lbfgs', max_iter = 300).fit(combined_3_parent, y_train)\n",
    "\n",
    "# Logistic regression score\n",
    "print(\"Logistic regression: x1 = stemmed comments, x2 = POS, x3 = parent polarity\")\n",
    "print(\"Training score: \", cv_log_clf.score(combined_3_parent, y_train))\n",
    "print(\"Test score: \", cv_log_clf.score(test_combined_3_parent, y_test))"
   ]
  },
  {
   "cell_type": "code",
   "execution_count": 100,
   "metadata": {},
   "outputs": [
    {
     "name": "stdout",
     "output_type": "stream",
     "text": [
      "Training score:  0.9978887232985594\n",
      "Test score:  0.6434955312810328\n"
     ]
    }
   ],
   "source": [
    "# Model 4:\n",
    "# Logistic Regression with all 4 features\n",
    "# log_clf = LogisticRegression(solver='lbfgs', max_iter = 300).fit(combined_4, y_train)\n",
    "\n",
    "# # Logistic regression score\n",
    "# print(\"Training score: \", log_clf.score(combined_4, y_train))\n",
    "# print(\"Test score: \", log_clf.score(test_combined_4, y_test))\n",
    "\n",
    "# Model using all 4 features on the sarcasm data from the csv file\n",
    "cv_log_clf = LogisticRegressionCV(cv = 10, solver='lbfgs', max_iter = 300).fit(combined_4, y_train)\n",
    "\n",
    "# Logistic regression score\n",
    "print(\"Training score: \", cv_log_clf.score(combined_4, y_train))\n",
    "print(\"Test score: \", cv_log_clf.score(test_combined_4, y_test))"
   ]
  },
  {
   "cell_type": "code",
   "execution_count": 99,
   "metadata": {},
   "outputs": [
    {
     "name": "stdout",
     "output_type": "stream",
     "text": [
      "Logistic Regression: x1, x2, x3*x4\n",
      "Training score:  0.9978887232985594\n",
      "Test score:  0.6434955312810328\n"
     ]
    }
   ],
   "source": [
    "# Model 5:\n",
    "# Logistic Regression with child polarity x parent polarity interaction\n",
    "\n",
    "pol_train = np.array(X_train.polarity).reshape(-1, 1)\n",
    "pol_test = np.array(X_test.polarity).reshape(-1, 1)\n",
    "\n",
    "parent_pol_train = np.array(X_train.parent_polarity).reshape(-1, 1)\n",
    "parent_pol_test = np.array(X_test.parent_polarity).reshape(-1, 1)\n",
    "\n",
    "pol_interaction = np.multiply(pol_train, parent_pol_train)\n",
    "test_pol_interaction = np.multiply(pol_test, parent_pol_test)\n",
    "# pol_interaction.shape\n",
    "# combined_2.shape\n",
    "pol_combined_3 = sp.hstack((combined_2, pol_interaction))\n",
    "test_pol_combined_3 = sp.hstack((test_combined_2, test_pol_interaction))\n",
    "# pol_combined = sp.hstack((combined_2, np.array(pol_interaction)[:,None]))\n",
    "\n",
    "# Logistic Regression for CSV data using x1 = stemmed, x2 = POS, \n",
    "# x3 = polarity interaction between parent and child\n",
    "\n",
    "cv_log_clf = LogisticRegressionCV(cv=5,solver='lbfgs', max_iter = 500).fit(pol_combined_3, y_train)\n",
    "\n",
    "# Logistic regression score\n",
    "print(\"Logistic Regression: x1, x2, x3*x4\")\n",
    "print(\"Training score: \", cv_log_clf.score(pol_combined_3, y_train))\n",
    "print(\"Test score: \", cv_log_clf.score(test_pol_combined_3, y_test))\n",
    "# print(\"Test score: \", cv_log_clf.score(X_test, y_test))\n"
   ]
  },
  {
   "cell_type": "markdown",
   "metadata": {},
   "source": [
    "We also performed the analysis on the data from the database. "
   ]
  },
  {
   "cell_type": "code",
   "execution_count": 52,
   "metadata": {},
   "outputs": [
    {
     "name": "stdout",
     "output_type": "stream",
     "text": [
      "Training score:  0.9786200194363459\n",
      "Test score:  0.7126213592233009\n",
      "Training score:  0.9810495626822158\n",
      "Test score:  0.7106796116504854\n"
     ]
    }
   ],
   "source": [
    "# Logistic Regression for DB data\n",
    "\n",
    "db_log_clf = LogisticRegression(solver='lbfgs', max_iter = 300).fit(db_combined_3, db_y_train)\n",
    "\n",
    "# Logistic regression score\n",
    "print(\"Training score: \", db_log_clf.score(db_combined_3, db_y_train))\n",
    "print(\"Test score: \", db_log_clf.score(db_test_combined_3, db_y_test))\n",
    "\n",
    "# Logistic Regression for DB data\n",
    "\n",
    "cv_db_log_clf = LogisticRegressionCV(cv=10,solver='lbfgs', max_iter = 500).fit(db_combined_3, db_y_train)\n",
    "\n",
    "# Logistic regression score\n",
    "print(\"Training score: \", cv_db_log_clf.score(db_combined_3, db_y_train))\n",
    "print(\"Test score: \", cv_db_log_clf.score(db_test_combined_3, db_y_test))"
   ]
  },
  {
   "cell_type": "code",
   "execution_count": 134,
   "metadata": {},
   "outputs": [
    {
     "name": "stdout",
     "output_type": "stream",
     "text": [
      "Training score:  0.978377065111759\n",
      "Test score:  0.7029126213592233\n"
     ]
    }
   ],
   "source": [
    "# Logistic Regression for DB data\n",
    "\n",
    "cv_db_log_clf = LogisticRegressionCV(cv=10,solver='lbfgs', max_iter = 700).fit(squared_db_combined_3, db_y_train)\n",
    "\n",
    "# Logistic regression score\n",
    "print(\"Training score: \", cv_db_log_clf.score(squared_db_combined_3, db_y_train))\n",
    "print(\"Test score: \", cv_db_log_clf.score(squared_db_test_combined_3, db_y_test))"
   ]
  },
  {
   "cell_type": "code",
   "execution_count": 75,
   "metadata": {},
   "outputs": [
    {
     "name": "stdout",
     "output_type": "stream",
     "text": [
      "Training score:  0.9735179786200194\n",
      "Test score:  0.7106796116504854\n"
     ]
    }
   ],
   "source": [
    "# Logistic Regression for DB data\n",
    "\n",
    "cv_db_log_clf = LogisticRegressionCV(cv=5,solver='lbfgs', max_iter = 500).fit(db_combined_2, db_y_train)\n",
    "\n",
    "# Logistic regression score\n",
    "print(\"Training score: \", cv_db_log_clf.score(db_combined_2, db_y_train))\n",
    "print(\"Test score: \", cv_db_log_clf.score(db_test_combined_2, db_y_test))"
   ]
  },
  {
   "cell_type": "code",
   "execution_count": 79,
   "metadata": {},
   "outputs": [
    {
     "name": "stdout",
     "output_type": "stream",
     "text": [
      "Training score:  0.5029154518950437\n",
      "Test score:  0.4883495145631068\n"
     ]
    }
   ],
   "source": [
    "# Logistic Regression for DB data using only polarity as a feature\n",
    "# Obviously not expecting much from this\n",
    "pol_train = np.array(db_X_train.polarity).reshape(-1, 1)\n",
    "pol_test = np.array(db_X_test.polarity).reshape(-1, 1)\n",
    "\n",
    "cv_db_log_clf = LogisticRegressionCV(cv=5,solver='lbfgs', max_iter = 500).fit(pol_train, db_y_train)\n",
    "\n",
    "# Logistic regression score\n",
    "print(\"Training score: \", cv_db_log_clf.score(pol_train, db_y_train))\n",
    "print(\"Test score: \", cv_db_log_clf.score(pol_test, db_y_test))"
   ]
  },
  {
   "cell_type": "code",
   "execution_count": 106,
   "metadata": {},
   "outputs": [],
   "source": [
    "# X_squared = np.multiply(db_combined_3, db_combined_3.T)\n",
    "# cv_db_log_clf_squared = LogisticRegressionCV(cv = 5, solver='lbfgs', max_iter = 1000).fit(X_squared, db_y_train)\n",
    "\n",
    "# # Logistic regression score\n",
    "# print(\"Training score: \", cv_db_log_clf_squared.score(X_squared, db_y_train))\n",
    "# print(\"Test score: \", cv_db_log_clf_squared.score(db_test_combined_3, db_y_test))"
   ]
  },
  {
   "cell_type": "code",
   "execution_count": 46,
   "metadata": {},
   "outputs": [
    {
     "name": "stdout",
     "output_type": "stream",
     "text": [
      "Training score:  0.9990064580228515\n",
      "Test score:  0.6429990069513406\n"
     ]
    }
   ],
   "source": [
    "# SVM model\n",
    "svm_clf = LinearSVC()\n",
    "\n",
    "# Training the model\n",
    "svm_clf.fit(combined_4, y_train)\n",
    "\n",
    "print(\"Training score: \", svm_clf.score(combined_4, y_train))\n",
    "print(\"Test score: \", svm_clf.score(test_combined_4, y_test))"
   ]
  },
  {
   "cell_type": "code",
   "execution_count": 47,
   "metadata": {},
   "outputs": [
    {
     "name": "stdout",
     "output_type": "stream",
     "text": [
      "Training score:  0.9808066083576288\n",
      "Test score:  0.7048543689320388\n"
     ]
    }
   ],
   "source": [
    "# SVM model\n",
    "db_svm_clf = LinearSVC()\n",
    "\n",
    "# Training the model\n",
    "db_svm_clf.fit(db_combined_3, db_y_train)\n",
    "\n",
    "print(\"Training score: \", db_svm_clf.score(db_combined_3, db_y_train))\n",
    "print(\"Test score: \", db_svm_clf.score(db_test_combined_3, db_y_test))"
   ]
  },
  {
   "cell_type": "code",
   "execution_count": 127,
   "metadata": {},
   "outputs": [
    {
     "name": "stdout",
     "output_type": "stream",
     "text": [
      "Training score:  0.9996274217585693\n",
      "Test score:  0.6300893743793445\n"
     ]
    }
   ],
   "source": [
    "# Random Forest Classifier\n",
    "\n",
    "rf_clf = RandomForestClassifier(n_estimators = 1000)\n",
    "\n",
    "rf_clf.fit(combined_4, y_train)\n",
    "\n",
    "print(\"Training score: \", rf_clf.score(combined_4, y_train))\n",
    "print(\"Test score: \", rf_clf.score(test_combined_4, y_test))"
   ]
  },
  {
   "cell_type": "code",
   "execution_count": 128,
   "metadata": {},
   "outputs": [
    {
     "name": "stdout",
     "output_type": "stream",
     "text": [
      "Training score:  0.9812925170068028\n",
      "Test score:  0.7359223300970874\n"
     ]
    }
   ],
   "source": [
    "# Random Forest Classifier\n",
    "\n",
    "db_rf_clf = RandomForestClassifier(n_estimators = 1000)\n",
    "\n",
    "db_rf_clf.fit(db_combined_3, db_y_train)\n",
    "\n",
    "print(\"Training score: \", db_rf_clf.score(db_combined_3, db_y_train))\n",
    "print(\"Test score: \", db_rf_clf.score(db_test_combined_3, db_y_test))"
   ]
  },
  {
   "cell_type": "code",
   "execution_count": 50,
   "metadata": {},
   "outputs": [
    {
     "data": {
      "image/png": "[encoded data removed]",
      "text/plain": [
       "<Figure size 792x432 with 1 Axes>"
      ]
     },
     "metadata": {
      "needs_background": "light"
     },
     "output_type": "display_data"
    }
   ],
   "source": [
    "# data to plot\n",
    "n_groups = 3\n",
    "train_score = [log_clf.score(combined_4, y_train), \n",
    "          svm_clf.score(combined_4, y_train),\n",
    "          rf_clf.score(combined_4, y_train)]\n",
    "test_score = [log_clf.score(test_combined_4, y_test), \n",
    "          svm_clf.score(test_combined_4, y_test),\n",
    "          rf_clf.score(test_combined_4, y_test)]\n",
    "\n",
    "# create plot\n",
    "fig, ax = plt.subplots(figsize=(11, 6))\n",
    "index = np.arange(n_groups)\n",
    "bar_width = 0.35\n",
    "opacity = 0.8\n",
    "\n",
    "rects1 = plt.bar(index, train_score, bar_width,\n",
    "alpha=opacity,\n",
    "color='b',\n",
    "label='Training Data')\n",
    "\n",
    "rects2 = plt.bar(index + bar_width, test_score, bar_width,\n",
    "alpha=opacity,\n",
    "color='c',\n",
    "label='Test Data')\n",
    "\n",
    "plt.xlabel('Method Used')\n",
    "plt.ylabel('Scores')\n",
    "plt.title('Scores by Model')\n",
    "plt.xticks(index + bar_width/2, ('Logistic Regression', 'SVM', 'Random Forest'))\n",
    "plt.legend()\n",
    "\n",
    "plt.tight_layout()\n",
    "plt.show()"
   ]
  },
  {
   "cell_type": "code",
   "execution_count": 51,
   "metadata": {},
   "outputs": [
    {
     "data": {
      "image/png": "[encoded data removed]",
      "text/plain": [
       "<Figure size 792x432 with 1 Axes>"
      ]
     },
     "metadata": {
      "needs_background": "light"
     },
     "output_type": "display_data"
    }
   ],
   "source": [
    "# data to plot\n",
    "n_groups = 3\n",
    "train_score = [db_log_clf.score(db_combined_3, db_y_train), \n",
    "          db_svm_clf.score(db_combined_3, db_y_train),\n",
    "          db_rf_clf.score(db_combined_3, db_y_train)]\n",
    "test_score = [db_log_clf.score(db_test_combined_3, db_y_test), \n",
    "          db_svm_clf.score(db_test_combined_3, db_y_test),\n",
    "          db_rf_clf.score(db_test_combined_3, db_y_test)]\n",
    "\n",
    "# create plot\n",
    "fig, ax = plt.subplots(figsize=(11, 6))\n",
    "index = np.arange(n_groups)\n",
    "bar_width = 0.35\n",
    "opacity = 0.8\n",
    "\n",
    "rects1 = plt.bar(index, train_score, bar_width,\n",
    "alpha=opacity,\n",
    "color='b',\n",
    "label='Training Data')\n",
    "\n",
    "rects2 = plt.bar(index + bar_width, test_score, bar_width,\n",
    "alpha=opacity,\n",
    "color='c',\n",
    "label='Test Data')\n",
    "\n",
    "plt.xlabel('Method Used')\n",
    "plt.ylabel('Scores')\n",
    "plt.title('Scores by Model')\n",
    "plt.xticks(index + bar_width/2, ('Logistic Regression', 'SVM', 'Random Forest'))\n",
    "plt.legend()\n",
    "\n",
    "plt.tight_layout()\n",
    "plt.show()"
   ]
  },
  {
   "cell_type": "code",
   "execution_count": null,
   "metadata": {},
   "outputs": [],
   "source": []
  }
 ],
 "metadata": {
  "kernelspec": {
   "display_name": "Python 3",
   "language": "python",
   "name": "python3"
  },
  "language_info": {
   "codemirror_mode": {
    "name": "ipython",
    "version": 3
   },
   "file_extension": ".py",
   "mimetype": "text/x-python",
   "name": "python",
   "nbconvert_exporter": "python",
   "pygments_lexer": "ipython3",
   "version": "3.7.3"
  }
 },
 "nbformat": 4,
 "nbformat_minor": 2
}

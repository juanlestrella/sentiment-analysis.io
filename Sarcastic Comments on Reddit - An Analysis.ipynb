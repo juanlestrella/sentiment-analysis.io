{
 "cells": [
  {
   "cell_type": "markdown",
   "metadata": {},
   "source": [
    "## Sarcastic and Ironic Comments on Reddit - Sentiment Analysis\n",
    "#### By: Nour Mansour and Juan Estrella\n",
    "\n",
    "### Introduction\n",
    "    \n",
    "   Sentiment analysis provides [useful information](https://www.reputation.com/resources/blog/5-real-world-sentiment-analysis-use-cases/) to companies, government, and developers. Many businesses use sentiment analysis on their product’s online reviews to get some perspective on their customer’s likes or dislikes about the product they are providing. For example, Amazon and Yelp have online reviews to help businesses improve their products or establishments. On the other hand, government can use social media to help understand their citizens’ point of view about politicians or policies. Sentiment analysis can detect people’s real opinion from their social media comments. As for developers, teaching machines to learn and interpret language is difficult, and computer scientists are researching sarcasm specifically due to machines’ difficulty classifying it. \n"
   ]
  },
  {
   "cell_type": "code",
   "execution_count": 143,
   "metadata": {},
   "outputs": [],
   "source": [
    "import pandas as pd\n",
    "import numpy as np\n",
    "import matplotlib.pyplot as plt\n",
    "import sqlite3"
   ]
  },
  {
   "cell_type": "markdown",
   "metadata": {},
   "source": [
    "### Data Collection\n",
    "\n",
    "We used pandas to retrieve the sarcastic dataset that was stored in a .csv file, and sqlite3 for the irony database.\n",
    "[Sarcastic dataset](https://www.kaggle.com/sherinclaudia/sarcastic-comments-on-reddit) &\n",
    "[Irony  database](https://github.com/bwallace/ACL-2014-irony)"
   ]
  },
  {
   "cell_type": "code",
   "execution_count": 144,
   "metadata": {
    "scrolled": true
   },
   "outputs": [],
   "source": [
    "# Data is saved in the same folder as the project. Then read data from tsv file\n",
    "sarcasm_data = pd.read_csv(\"train-balanced-sarcasm.csv\")\n",
    "\n",
    "# This is the database file name\n",
    "sqlite_file = 'ironate.db'\n",
    "\n",
    "# Create the connection and cursor\n",
    "conn = sqlite3.connect(sqlite_file)\n",
    "cursor = conn.cursor()\n",
    "\n",
    "# List the tables in the database to see which ones we're interested in\n",
    "tables = pd.read_sql_query(\"SELECT name FROM sqlite_master WHERE type='table'\", conn)\n",
    "# tables\n",
    "\n",
    "# Data from the sqlite db\n",
    "irony_data = pd.read_sql_query(\"SELECT * FROM irony_commentsegment\", conn)\n",
    "\n",
    "# Read the table containing the labels (sarcastic vs not) \n",
    "# into another dataframe\n",
    "\n",
    "labels = pd.read_sql_query(\"SELECT * FROM irony_label\", conn)\n",
    "\n",
    "# Merge the two dataframes so we have the label and the comment\n",
    "# in the same dataframe\n",
    "\n",
    "irony_data = pd.merge(left=irony_data,right=labels, left_on='id', right_on='id')\n",
    "irony_data.drop(['segment_id', 'comment_id_y', 'labeler_id', 'confidence', \n",
    "             'time_given', 'viewed_thread', 'viewed_page', 'forced_decision', \n",
    "             'comment_id_x', 'segment_index'], inplace = True, axis = 1)\n",
    "\n",
    "# irony_data.head()"
   ]
  },
  {
   "cell_type": "markdown",
   "metadata": {},
   "source": [
    "### Data Processing\n",
    "\n",
    "Datasets\n",
    "\n",
    "Sarcastic and Ironic. \n",
    "Initially, we started with one dataset containing over 1 million evenly split sarcastic and non-sarcastic comments from reddit. Although we intended to use the whole dataset for our analysis, we ran into memory issues on our laptops with our kernel dying during the data preprocessing stage. As we were running our later analyses on this dataset, we had some concerns about its reliability as it was mostly based on using the ‘/s’ tag on reddit (‘/s’ is used in a comment to indicate that it is sarcastic). \n",
    "This concern pushed us to search a little more, and we found a dataset of reddit comments that was vetted by a team of scientists and rated on irony. The second dataset contained around 20 thousand ironic and non-ironic comments from reddit. However, it did not have an equal split between ironic (N = 2573) and non-ironic comments (N = 2573).\n",
    "As a result we used random sampling to select two datasets. The sarcasm dataset (N = 10,066) and irony dataset (N = 5146).\n",
    "\n",
    "What’s in the dataset? \n",
    "The first dataset we found is in a .csv file which contains the sarcastic comments on reddit as mentioned earlier. This dataset contains 10 columns: label, comment, author, subreddit, score, ups, downs, date, created_utc, and parent_comment. In this project, we will be focusing on the label, comment, and parent_comment columns. The label column contains 0 as non-sarcastic and 1 as sarcastic. The comment column shows the sarcastic or non-sarcastic comments that this project will mainly focus on. Lastly, the parent_comment column provides the text of which the sarcastic or non-sarcastic comments are replying toward.\n",
    "The second dataset is a database which contains three tables: irony_comment, irony_commentsegment, and label. We used SQL to obtain the data and merged the irony_commentsegments and label tables using their unique identifier columns called “id”. The columns we used for this dataset are the id, text, and label. The text column shows the ironic or unironic comments on reddit. The label column describes the text column with -1, 0, 1 to show unironic, unsure, and ironic, respectively.\n",
    "\n",
    "In the irony dataset, we dropped the rows with label 0 because these rows are neither ironic or unironic. "
   ]
  },
  {
   "cell_type": "code",
   "execution_count": 145,
   "metadata": {},
   "outputs": [],
   "source": [
    "# Reset the indices after rows with NA values are dropped\n",
    "sarcasm_data.dropna(inplace=True)\n",
    "sarcasm_data.drop(['author', 'score', 'ups', 'downs', 'date', 'created_utc', 'subreddit'], axis = 1, inplace = True)\n",
    "sarcasm_data.reset_index(inplace = True)\n",
    "sarcasm_data.drop(['index'], axis = 1, inplace = True)\n",
    "# print(data.head())\n",
    "\n",
    "# Same process for the database dataset\n",
    "irony_data.dropna(inplace=True)\n",
    "irony_data.reset_index(inplace = True)\n",
    "irony_data.drop(['index'], axis = 1, inplace = True)\n",
    "# label == 0 means \"i don't know\" so we dropped those to have\n",
    "# two clear categories\n",
    "irony_data.drop(irony_data[irony_data.label == 0].index, inplace=True)\n",
    "# print(irony_data.shape)\n",
    "# irony_data.head()"
   ]
  },
  {
   "cell_type": "code",
   "execution_count": 146,
   "metadata": {},
   "outputs": [
    {
     "data": {
      "text/html": [
       "<div>\n",
       "<style scoped>\n",
       "    .dataframe tbody tr th:only-of-type {\n",
       "        vertical-align: middle;\n",
       "    }\n",
       "\n",
       "    .dataframe tbody tr th {\n",
       "        vertical-align: top;\n",
       "    }\n",
       "\n",
       "    .dataframe thead tr th {\n",
       "        text-align: left;\n",
       "    }\n",
       "\n",
       "    .dataframe thead tr:last-of-type th {\n",
       "        text-align: right;\n",
       "    }\n",
       "</style>\n",
       "<table border=\"1\" class=\"dataframe\">\n",
       "  <thead>\n",
       "    <tr>\n",
       "      <th></th>\n",
       "      <th colspan=\"4\" halign=\"left\">comment</th>\n",
       "      <th colspan=\"4\" halign=\"left\">parent_comment</th>\n",
       "    </tr>\n",
       "    <tr>\n",
       "      <th></th>\n",
       "      <th>count</th>\n",
       "      <th>unique</th>\n",
       "      <th>top</th>\n",
       "      <th>freq</th>\n",
       "      <th>count</th>\n",
       "      <th>unique</th>\n",
       "      <th>top</th>\n",
       "      <th>freq</th>\n",
       "    </tr>\n",
       "    <tr>\n",
       "      <th>label</th>\n",
       "      <th></th>\n",
       "      <th></th>\n",
       "      <th></th>\n",
       "      <th></th>\n",
       "      <th></th>\n",
       "      <th></th>\n",
       "      <th></th>\n",
       "      <th></th>\n",
       "    </tr>\n",
       "  </thead>\n",
       "  <tbody>\n",
       "    <tr>\n",
       "      <th>0</th>\n",
       "      <td>505405</td>\n",
       "      <td>479850</td>\n",
       "      <td>Yes</td>\n",
       "      <td>406</td>\n",
       "      <td>505405</td>\n",
       "      <td>495453</td>\n",
       "      <td>me irl</td>\n",
       "      <td>228</td>\n",
       "    </tr>\n",
       "    <tr>\n",
       "      <th>1</th>\n",
       "      <td>505368</td>\n",
       "      <td>486357</td>\n",
       "      <td>You forgot the</td>\n",
       "      <td>1451</td>\n",
       "      <td>505368</td>\n",
       "      <td>495295</td>\n",
       "      <td>Why?</td>\n",
       "      <td>148</td>\n",
       "    </tr>\n",
       "  </tbody>\n",
       "</table>\n",
       "</div>"
      ],
      "text/plain": [
       "      comment                               parent_comment                  \\\n",
       "        count  unique             top  freq          count  unique     top   \n",
       "label                                                                        \n",
       "0      505405  479850             Yes   406         505405  495453  me irl   \n",
       "1      505368  486357  You forgot the  1451         505368  495295    Why?   \n",
       "\n",
       "            \n",
       "      freq  \n",
       "label       \n",
       "0      228  \n",
       "1      148  "
      ]
     },
     "execution_count": 146,
     "metadata": {},
     "output_type": "execute_result"
    }
   ],
   "source": [
    "sarcasm_data.groupby('label').describe()"
   ]
  },
  {
   "cell_type": "code",
   "execution_count": 147,
   "metadata": {},
   "outputs": [
    {
     "data": {
      "image/png": "[encoded data removed]",
      "text/plain": [
       "<Figure size 360x216 with 1 Axes>"
      ]
     },
     "metadata": {
      "needs_background": "light"
     },
     "output_type": "display_data"
    }
   ],
   "source": [
    "# Explore distribution of the data by label (0 -> non-sarcastic, 1 -> sarcastic)\n",
    "# data to plot\n",
    "values = [sarcasm_data.groupby('label').agg('count').comment[1], \n",
    "          sarcasm_data.groupby('label').agg('count').comment[0]]\n",
    "labels = ['Sarcastic', 'Non Sarcastic']\n",
    "\n",
    "label_pos = [i for i, _ in enumerate(labels)]\n",
    "\n",
    "# create plot\n",
    "fig, ax = plt.subplots(figsize=(5, 3))\n",
    "plt.bar(label_pos, values, color = 'c', width=0.3)\n",
    "plt.xlabel('Labels')\n",
    "plt.ylabel('Frequency')\n",
    "plt.title('Frequency of each Label')\n",
    "plt.xticks(label_pos, labels)\n",
    "\n",
    "plt.show()"
   ]
  },
  {
   "cell_type": "code",
   "execution_count": 148,
   "metadata": {},
   "outputs": [
    {
     "data": {
      "text/html": [
       "<div>\n",
       "<style scoped>\n",
       "    .dataframe tbody tr th:only-of-type {\n",
       "        vertical-align: middle;\n",
       "    }\n",
       "\n",
       "    .dataframe tbody tr th {\n",
       "        vertical-align: top;\n",
       "    }\n",
       "\n",
       "    .dataframe thead tr th {\n",
       "        text-align: left;\n",
       "    }\n",
       "\n",
       "    .dataframe thead tr:last-of-type th {\n",
       "        text-align: right;\n",
       "    }\n",
       "</style>\n",
       "<table border=\"1\" class=\"dataframe\">\n",
       "  <thead>\n",
       "    <tr>\n",
       "      <th></th>\n",
       "      <th colspan=\"8\" halign=\"left\">id</th>\n",
       "    </tr>\n",
       "    <tr>\n",
       "      <th></th>\n",
       "      <th>count</th>\n",
       "      <th>mean</th>\n",
       "      <th>std</th>\n",
       "      <th>min</th>\n",
       "      <th>25%</th>\n",
       "      <th>50%</th>\n",
       "      <th>75%</th>\n",
       "      <th>max</th>\n",
       "    </tr>\n",
       "    <tr>\n",
       "      <th>label</th>\n",
       "      <th></th>\n",
       "      <th></th>\n",
       "      <th></th>\n",
       "      <th></th>\n",
       "      <th></th>\n",
       "      <th></th>\n",
       "      <th></th>\n",
       "      <th></th>\n",
       "    </tr>\n",
       "  </thead>\n",
       "  <tbody>\n",
       "    <tr>\n",
       "      <th>-1</th>\n",
       "      <td>26186.0</td>\n",
       "      <td>14419.248453</td>\n",
       "      <td>8344.231889</td>\n",
       "      <td>1.0</td>\n",
       "      <td>7187.25</td>\n",
       "      <td>14483.5</td>\n",
       "      <td>21691.75</td>\n",
       "      <td>28759.0</td>\n",
       "    </tr>\n",
       "    <tr>\n",
       "      <th>1</th>\n",
       "      <td>2573.0</td>\n",
       "      <td>13980.559658</td>\n",
       "      <td>7851.490657</td>\n",
       "      <td>21.0</td>\n",
       "      <td>7229.00</td>\n",
       "      <td>13401.0</td>\n",
       "      <td>19976.00</td>\n",
       "      <td>28757.0</td>\n",
       "    </tr>\n",
       "  </tbody>\n",
       "</table>\n",
       "</div>"
      ],
      "text/plain": [
       "            id                                                               \\\n",
       "         count          mean          std   min      25%      50%       75%   \n",
       "label                                                                         \n",
       "-1     26186.0  14419.248453  8344.231889   1.0  7187.25  14483.5  21691.75   \n",
       " 1      2573.0  13980.559658  7851.490657  21.0  7229.00  13401.0  19976.00   \n",
       "\n",
       "                \n",
       "           max  \n",
       "label           \n",
       "-1     28759.0  \n",
       " 1     28757.0  "
      ]
     },
     "execution_count": 148,
     "metadata": {},
     "output_type": "execute_result"
    }
   ],
   "source": [
    "irony_data.groupby('label').describe()"
   ]
  },
  {
   "cell_type": "code",
   "execution_count": 149,
   "metadata": {},
   "outputs": [
    {
     "data": {
      "image/png": "[encoded data removed]",
      "text/plain": [
       "<Figure size 360x216 with 1 Axes>"
      ]
     },
     "metadata": {
      "needs_background": "light"
     },
     "output_type": "display_data"
    }
   ],
   "source": [
    "# Explore distribution of the data by label (-1 -> non-sarcastic, 1 -> sarcastic)\n",
    "# data to plot\n",
    "values = [irony_data.groupby('label').agg('count').id[1], \n",
    "          irony_data.groupby('label').agg('count').id[-1]]\n",
    "labels = ['Sarcastic', 'Non Sarcastic']\n",
    "\n",
    "label_pos = [i for i, _ in enumerate(labels)]\n",
    "\n",
    "# create plot\n",
    "fig, ax = plt.subplots(figsize=(5, 3))\n",
    "plt.bar(label_pos, values, color = 'c', width=0.3)\n",
    "plt.xlabel('Labels')\n",
    "plt.ylabel('Frequency')\n",
    "plt.title('Frequency of each Label')\n",
    "plt.xticks(label_pos, labels)\n",
    "\n",
    "plt.show()"
   ]
  },
  {
   "cell_type": "markdown",
   "metadata": {},
   "source": [
    "We really wanted to use the entire dataset, unfortunately our laptops weren't strong enough to perform the different types of data manipulation and analysis we wanted. \n",
    "As a solution, we decided to sample 10% of the dataset each time we ran the program. 10% was actually the largest sample we could get without our Jupyter kernel dying from overflowing Docker's allocated memory resources (we set the memory for Docker to the max value possible given our laptops' specs!). \n",
    "\n",
    "In the sarcastic dataset, we dropped these comments because they do not contribute to detecting if a comment is sarcastic or not. In our assumption, these comments suggest that their parent comment is sarcastic."
   ]
  },
  {
   "cell_type": "code",
   "execution_count": 150,
   "metadata": {},
   "outputs": [],
   "source": [
    "sarcasm_data.drop(sarcasm_data[sarcasm_data.comment =='You forgot the'].index, inplace=True)\n",
    "sarcasm_data.drop(sarcasm_data[sarcasm_data.comment =='you forgot the'].index, inplace=True)\n",
    "sarcasm_data.drop(sarcasm_data[sarcasm_data.comment =='you dropped this:'].index, inplace=True)\n",
    "sarcasm_data.drop(sarcasm_data[sarcasm_data.comment =='You dropped this:'].index, inplace=True)\n",
    "sarcasm_data.drop(sarcasm_data[sarcasm_data.comment =='Forgot the'].index, inplace=True)\n",
    "sarcasm_data.drop(sarcasm_data[sarcasm_data.comment =='You forgot'].index, inplace=True)\n",
    "sarcasm_data.drop(sarcasm_data[sarcasm_data.comment =='You forgot your'].index, inplace=True)\n",
    "sarcasm_data.drop(sarcasm_data[sarcasm_data.comment =='You dropped this'].index, inplace=True)\n",
    "sarcasm_data.drop(sarcasm_data[sarcasm_data.comment =='I think you forgot the'].index, inplace=True)\n",
    "sarcasm_data.drop(sarcasm_data[sarcasm_data.comment =='You forgot this:'].index, inplace=True)\n",
    "sarcasm_data.drop(sarcasm_data[sarcasm_data.comment =='You dropped your'].index, inplace=True)\n",
    "sarcasm_data.drop(sarcasm_data[sarcasm_data.comment =='I forgot the'].index, inplace=True)\n",
    "sarcasm_data.drop(sarcasm_data[sarcasm_data.comment =='you forgot'].index, inplace=True)"
   ]
  },
  {
   "cell_type": "markdown",
   "metadata": {},
   "source": [
    "##### Distribution of the datasets between sarcastic and non-sarcastic comments\n",
    "\n",
    "   This graph shows the amount of data we will be using for the sarcastic dataset which is evenly split, 5033 each, between sarcastic and non-sarcastic comments. We were able to retrieve this amount of data from the original data set by using the np.random.choice to randomly choose the data we want. The size of the data for both the sarcastic and non sarcastic data was defined as ((the length of the original data set)*0.5 / 100). Finally, we used the groupby(‘label’) function to choose equal numbers of sarcastic and non-sarcastic comments."
   ]
  },
  {
   "cell_type": "code",
   "execution_count": 151,
   "metadata": {},
   "outputs": [
    {
     "data": {
      "text/html": [
       "<div>\n",
       "<style scoped>\n",
       "    .dataframe tbody tr th:only-of-type {\n",
       "        vertical-align: middle;\n",
       "    }\n",
       "\n",
       "    .dataframe tbody tr th {\n",
       "        vertical-align: top;\n",
       "    }\n",
       "\n",
       "    .dataframe thead th {\n",
       "        text-align: right;\n",
       "    }\n",
       "</style>\n",
       "<table border=\"1\" class=\"dataframe\">\n",
       "  <thead>\n",
       "    <tr style=\"text-align: right;\">\n",
       "      <th></th>\n",
       "      <th>label</th>\n",
       "      <th>comment</th>\n",
       "      <th>parent_comment</th>\n",
       "    </tr>\n",
       "  </thead>\n",
       "  <tbody>\n",
       "    <tr>\n",
       "      <th>0</th>\n",
       "      <td>0</td>\n",
       "      <td>are you sure?</td>\n",
       "      <td>Guess I called it right, from the jump. #sensi...</td>\n",
       "    </tr>\n",
       "    <tr>\n",
       "      <th>1</th>\n",
       "      <td>0</td>\n",
       "      <td>The new weapons have the \"reforge ready\" perk ...</td>\n",
       "      <td>Can you point me to where this was confirmed? ...</td>\n",
       "    </tr>\n",
       "    <tr>\n",
       "      <th>2</th>\n",
       "      <td>0</td>\n",
       "      <td>Stefan Molyneux should read more texts aloud.</td>\n",
       "      <td>Looking for some clarity on the George Zimmerm...</td>\n",
       "    </tr>\n",
       "    <tr>\n",
       "      <th>3</th>\n",
       "      <td>0</td>\n",
       "      <td>$36,000+</td>\n",
       "      <td>Bunch of TitanX' at gamescom ;)</td>\n",
       "    </tr>\n",
       "    <tr>\n",
       "      <th>4</th>\n",
       "      <td>0</td>\n",
       "      <td>More like little to no research by the report.</td>\n",
       "      <td>\"little to no blood spatter in his home\"?? try...</td>\n",
       "    </tr>\n",
       "  </tbody>\n",
       "</table>\n",
       "</div>"
      ],
      "text/plain": [
       "   label                                            comment  \\\n",
       "0      0                                      are you sure?   \n",
       "1      0  The new weapons have the \"reforge ready\" perk ...   \n",
       "2      0      Stefan Molyneux should read more texts aloud.   \n",
       "3      0                                           $36,000+   \n",
       "4      0     More like little to no research by the report.   \n",
       "\n",
       "                                      parent_comment  \n",
       "0  Guess I called it right, from the jump. #sensi...  \n",
       "1  Can you point me to where this was confirmed? ...  \n",
       "2  Looking for some clarity on the George Zimmerm...  \n",
       "3                    Bunch of TitanX' at gamescom ;)  \n",
       "4  \"little to no blood spatter in his home\"?? try...  "
      ]
     },
     "execution_count": 151,
     "metadata": {},
     "output_type": "execute_result"
    }
   ],
   "source": [
    "# Determine size and replacement values\n",
    "size = int(len(sarcasm_data)*0.5/100)# sample size\n",
    "replace = True  # with replacement\n",
    "# Function used to pick random rows from the dataset\n",
    "# We used the groupby('label') function to choose equal numbers \n",
    "# of sarcastic and non-sarcastic comments\n",
    "fun = lambda obj: obj.loc[np.random.choice(obj.index, size, replace),:]\n",
    "sarcasm_prep_data = sarcasm_data.groupby('label', as_index=False).apply(fun)\n",
    "# sarcasm_prep_data.head()\n",
    "\n",
    "# Select equal number of sarcastic and non-sarcastic comments\n",
    "# Determine size and replacement values\n",
    "size = 2573# sample size of each group being selected\n",
    "replace = True  # with replacement\n",
    "irony_data = irony_data.groupby('label', as_index=False).apply(fun)\n",
    "# irony_data.head()\n",
    "\n",
    "# CSV file: Reset the indexes to remove the grouping into 0s and 1s\n",
    "sarcasm_prep_data.reset_index(inplace = True)\n",
    "# Delete the columns that include the names of the indexes created from the groups\n",
    "sarcasm_prep_data.drop(['level_0', 'level_1'], inplace = True, axis = 1)\n",
    "sarcasm_prep_data.head()"
   ]
  },
  {
   "cell_type": "code",
   "execution_count": 152,
   "metadata": {},
   "outputs": [
    {
     "data": {
      "text/html": [
       "<div>\n",
       "<style scoped>\n",
       "    .dataframe tbody tr th:only-of-type {\n",
       "        vertical-align: middle;\n",
       "    }\n",
       "\n",
       "    .dataframe tbody tr th {\n",
       "        vertical-align: top;\n",
       "    }\n",
       "\n",
       "    .dataframe thead th {\n",
       "        text-align: right;\n",
       "    }\n",
       "</style>\n",
       "<table border=\"1\" class=\"dataframe\">\n",
       "  <thead>\n",
       "    <tr style=\"text-align: right;\">\n",
       "      <th></th>\n",
       "      <th>id</th>\n",
       "      <th>text</th>\n",
       "      <th>label</th>\n",
       "    </tr>\n",
       "  </thead>\n",
       "  <tbody>\n",
       "    <tr>\n",
       "      <th>0</th>\n",
       "      <td>23135</td>\n",
       "      <td>Let's assume that the way this man interprets...</td>\n",
       "      <td>-1</td>\n",
       "    </tr>\n",
       "    <tr>\n",
       "      <th>1</th>\n",
       "      <td>1902</td>\n",
       "      <td>\\n\\nAnd, 20% of the population eats it right up.</td>\n",
       "      <td>-1</td>\n",
       "    </tr>\n",
       "    <tr>\n",
       "      <th>2</th>\n",
       "      <td>21096</td>\n",
       "      <td>What if I want to say something horrible abo...</td>\n",
       "      <td>-1</td>\n",
       "    </tr>\n",
       "    <tr>\n",
       "      <th>3</th>\n",
       "      <td>11892</td>\n",
       "      <td>So I can use my vagina to clean up the dog hai...</td>\n",
       "      <td>-1</td>\n",
       "    </tr>\n",
       "    <tr>\n",
       "      <th>4</th>\n",
       "      <td>19596</td>\n",
       "      <td>Just a minor detail.</td>\n",
       "      <td>-1</td>\n",
       "    </tr>\n",
       "  </tbody>\n",
       "</table>\n",
       "</div>"
      ],
      "text/plain": [
       "      id                                               text  label\n",
       "0  23135   Let's assume that the way this man interprets...     -1\n",
       "1   1902   \\n\\nAnd, 20% of the population eats it right up.     -1\n",
       "2  21096    What if I want to say something horrible abo...     -1\n",
       "3  11892  So I can use my vagina to clean up the dog hai...     -1\n",
       "4  19596                               Just a minor detail.     -1"
      ]
     },
     "execution_count": 152,
     "metadata": {},
     "output_type": "execute_result"
    }
   ],
   "source": [
    "# DB data: Reset the indexes to remove the grouping into -1s and 1s\n",
    "irony_data.reset_index(inplace = True)\n",
    "# Delete the columns that include the names of the indexes created from the groups\n",
    "irony_data.drop(['level_0', 'level_1'], inplace = True, axis = 1)\n",
    "irony_data.head()"
   ]
  },
  {
   "cell_type": "markdown",
   "metadata": {},
   "source": [
    "Part 3: Exploratory Analysis & Data Visualization"
   ]
  },
  {
   "cell_type": "code",
   "execution_count": 153,
   "metadata": {},
   "outputs": [
    {
     "data": {
      "text/html": [
       "<div>\n",
       "<style scoped>\n",
       "    .dataframe tbody tr th:only-of-type {\n",
       "        vertical-align: middle;\n",
       "    }\n",
       "\n",
       "    .dataframe tbody tr th {\n",
       "        vertical-align: top;\n",
       "    }\n",
       "\n",
       "    .dataframe thead tr th {\n",
       "        text-align: left;\n",
       "    }\n",
       "\n",
       "    .dataframe thead tr:last-of-type th {\n",
       "        text-align: right;\n",
       "    }\n",
       "</style>\n",
       "<table border=\"1\" class=\"dataframe\">\n",
       "  <thead>\n",
       "    <tr>\n",
       "      <th></th>\n",
       "      <th colspan=\"4\" halign=\"left\">comment</th>\n",
       "      <th colspan=\"4\" halign=\"left\">parent_comment</th>\n",
       "    </tr>\n",
       "    <tr>\n",
       "      <th></th>\n",
       "      <th>count</th>\n",
       "      <th>unique</th>\n",
       "      <th>top</th>\n",
       "      <th>freq</th>\n",
       "      <th>count</th>\n",
       "      <th>unique</th>\n",
       "      <th>top</th>\n",
       "      <th>freq</th>\n",
       "    </tr>\n",
       "    <tr>\n",
       "      <th>label</th>\n",
       "      <th></th>\n",
       "      <th></th>\n",
       "      <th></th>\n",
       "      <th></th>\n",
       "      <th></th>\n",
       "      <th></th>\n",
       "      <th></th>\n",
       "      <th></th>\n",
       "    </tr>\n",
       "  </thead>\n",
       "  <tbody>\n",
       "    <tr>\n",
       "      <th>0</th>\n",
       "      <td>505405</td>\n",
       "      <td>479850</td>\n",
       "      <td>Yes</td>\n",
       "      <td>406</td>\n",
       "      <td>505405</td>\n",
       "      <td>495453</td>\n",
       "      <td>me irl</td>\n",
       "      <td>228</td>\n",
       "    </tr>\n",
       "    <tr>\n",
       "      <th>1</th>\n",
       "      <td>501218</td>\n",
       "      <td>486344</td>\n",
       "      <td>Who?</td>\n",
       "      <td>149</td>\n",
       "      <td>501218</td>\n",
       "      <td>491218</td>\n",
       "      <td>Why?</td>\n",
       "      <td>147</td>\n",
       "    </tr>\n",
       "  </tbody>\n",
       "</table>\n",
       "</div>"
      ],
      "text/plain": [
       "      comment                    parent_comment                     \n",
       "        count  unique   top freq          count  unique     top freq\n",
       "label                                                               \n",
       "0      505405  479850   Yes  406         505405  495453  me irl  228\n",
       "1      501218  486344  Who?  149         501218  491218    Why?  147"
      ]
     },
     "execution_count": 153,
     "metadata": {},
     "output_type": "execute_result"
    }
   ],
   "source": [
    "sarcasm_data.groupby('label').describe()"
   ]
  },
  {
   "cell_type": "code",
   "execution_count": 154,
   "metadata": {},
   "outputs": [
    {
     "data": {
      "text/html": [
       "<div>\n",
       "<style scoped>\n",
       "    .dataframe tbody tr th:only-of-type {\n",
       "        vertical-align: middle;\n",
       "    }\n",
       "\n",
       "    .dataframe tbody tr th {\n",
       "        vertical-align: top;\n",
       "    }\n",
       "\n",
       "    .dataframe thead tr th {\n",
       "        text-align: left;\n",
       "    }\n",
       "\n",
       "    .dataframe thead tr:last-of-type th {\n",
       "        text-align: right;\n",
       "    }\n",
       "</style>\n",
       "<table border=\"1\" class=\"dataframe\">\n",
       "  <thead>\n",
       "    <tr>\n",
       "      <th></th>\n",
       "      <th colspan=\"8\" halign=\"left\">id</th>\n",
       "    </tr>\n",
       "    <tr>\n",
       "      <th></th>\n",
       "      <th>count</th>\n",
       "      <th>mean</th>\n",
       "      <th>std</th>\n",
       "      <th>min</th>\n",
       "      <th>25%</th>\n",
       "      <th>50%</th>\n",
       "      <th>75%</th>\n",
       "      <th>max</th>\n",
       "    </tr>\n",
       "    <tr>\n",
       "      <th>label</th>\n",
       "      <th></th>\n",
       "      <th></th>\n",
       "      <th></th>\n",
       "      <th></th>\n",
       "      <th></th>\n",
       "      <th></th>\n",
       "      <th></th>\n",
       "      <th></th>\n",
       "    </tr>\n",
       "  </thead>\n",
       "  <tbody>\n",
       "    <tr>\n",
       "      <th>-1</th>\n",
       "      <td>2573.0</td>\n",
       "      <td>14598.998057</td>\n",
       "      <td>8320.215163</td>\n",
       "      <td>9.0</td>\n",
       "      <td>7344.0</td>\n",
       "      <td>14733.0</td>\n",
       "      <td>21980.0</td>\n",
       "      <td>28753.0</td>\n",
       "    </tr>\n",
       "    <tr>\n",
       "      <th>1</th>\n",
       "      <td>2573.0</td>\n",
       "      <td>14054.640109</td>\n",
       "      <td>7789.884662</td>\n",
       "      <td>21.0</td>\n",
       "      <td>7341.0</td>\n",
       "      <td>13457.0</td>\n",
       "      <td>19996.0</td>\n",
       "      <td>28757.0</td>\n",
       "    </tr>\n",
       "  </tbody>\n",
       "</table>\n",
       "</div>"
      ],
      "text/plain": [
       "           id                                                             \\\n",
       "        count          mean          std   min     25%      50%      75%   \n",
       "label                                                                      \n",
       "-1     2573.0  14598.998057  8320.215163   9.0  7344.0  14733.0  21980.0   \n",
       " 1     2573.0  14054.640109  7789.884662  21.0  7341.0  13457.0  19996.0   \n",
       "\n",
       "                \n",
       "           max  \n",
       "label           \n",
       "-1     28753.0  \n",
       " 1     28757.0  "
      ]
     },
     "execution_count": 154,
     "metadata": {},
     "output_type": "execute_result"
    }
   ],
   "source": [
    "irony_data.groupby('label').describe()"
   ]
  },
  {
   "cell_type": "code",
   "execution_count": 155,
   "metadata": {
    "scrolled": true
   },
   "outputs": [
    {
     "data": {
      "image/png": "[encoded data removed]",
      "text/plain": [
       "<Figure size 360x216 with 1 Axes>"
      ]
     },
     "metadata": {
      "needs_background": "light"
     },
     "output_type": "display_data"
    }
   ],
   "source": [
    "# Explore distribution of the data by label (0 -> non-sarcastic, 1 -> sarcastic)\n",
    "# data to plot\n",
    "values = [sarcasm_prep_data.groupby('label').agg('count').comment[1], \n",
    "          sarcasm_prep_data.groupby('label').agg('count').comment[0]]\n",
    "labels = ['Sarcastic', 'Non Sarcastic']\n",
    "\n",
    "label_pos = [i for i, _ in enumerate(labels)]\n",
    "\n",
    "# create plot\n",
    "fig, ax = plt.subplots(figsize=(5, 3))\n",
    "plt.bar(label_pos, values, color = 'c', width=0.3)\n",
    "plt.xlabel('Labels')\n",
    "plt.ylabel('Frequency')\n",
    "plt.title('Frequency of each Label')\n",
    "plt.xticks(label_pos, labels)\n",
    "\n",
    "plt.show()"
   ]
  },
  {
   "cell_type": "markdown",
   "metadata": {},
   "source": [
    "##### Distribution of the datasets between ironic and unironic comments\n",
    "\n",
    "For the irony dataset, we specifically chose 2573 to be the size for both the ironic and unironic comments because in the original database the maximum amount of ironic comments it has is 2573. Similarly to the sarcastic dataset, we used groupby(‘label’) to retrieve an even amount of ironic and unironic comments. \n"
   ]
  },
  {
   "cell_type": "code",
   "execution_count": 156,
   "metadata": {},
   "outputs": [
    {
     "data": {
      "image/png": "[encoded data removed]",
      "text/plain": [
       "<Figure size 360x216 with 1 Axes>"
      ]
     },
     "metadata": {
      "needs_background": "light"
     },
     "output_type": "display_data"
    }
   ],
   "source": [
    "# Explore distribution of the data by label (-1 -> non-sarcastic, 1 -> sarcastic)\n",
    "# data to plot\n",
    "values = [irony_data.groupby('label').agg('count').id[1], \n",
    "          irony_data.groupby('label').agg('count').id[-1]]\n",
    "labels = ['Ironic', 'Non Ironic']\n",
    "\n",
    "label_pos = [i for i, _ in enumerate(labels)]\n",
    "\n",
    "# create plot\n",
    "fig, ax = plt.subplots(figsize=(5, 3))\n",
    "plt.bar(label_pos, values, color = 'c', width=0.3)\n",
    "plt.xlabel('Labels')\n",
    "plt.ylabel('Frequency')\n",
    "plt.title('Frequency of each Label')\n",
    "plt.xticks(label_pos, labels)\n",
    "\n",
    "plt.show()"
   ]
  },
  {
   "cell_type": "markdown",
   "metadata": {},
   "source": [
    "### Natural Language Processing\n",
    "\n",
    "For the Natural Language Processing, we used NLTK and Textblob to analyze the comments on both datasets.\n",
    "\n",
    "##### [NLTK](https://www.nltk.org/api/nltk.html)\n",
    "1. Tokenization: In both datasets, the comments are tokenized to separate them into a list of words. This is necessary as the tokenized words are used for stemming and POS_tag.\n",
    "2. Stemming: Stemming is a type of text normalization which removes suffixes and prefixes. \n",
    "3. POS_tag (joined): POS_tag contains the tokenized words and its part of speech. We used an underscore “_” to join the tokenized words and its part of speech."
   ]
  },
  {
   "cell_type": "code",
   "execution_count": 157,
   "metadata": {},
   "outputs": [],
   "source": [
    "# Import NLTK library\n",
    "# !pip install nltk\n",
    "# import nltk\n",
    "# nltk.download(\"all\")\n",
    "# from nltk.tokenize import word_tokenize #Split by word\n",
    "# from nltk.tokenize import sent_tokenize #Split by sentence\n",
    "\n",
    "#Make sure all the comment column is str data type\n",
    "sarcasm_prep_data['comment'] = sarcasm_prep_data['comment'].astype(str)\n",
    "sarcasm_prep_data['parent_comment'] = sarcasm_prep_data['parent_comment'].astype(str)\n",
    "irony_data['text'] = irony_data['text'].astype(str)\n",
    "\n",
    "# Split the comments into words\n",
    "sarcasm_prep_data['tok_comment'] = sarcasm_prep_data['comment'].apply(word_tokenize)\n",
    "irony_data['tok_comment'] = irony_data['text'].apply(word_tokenize)\n",
    "# Apply Parts of Speech tagging on the words\n",
    "sarcasm_prep_data['POS_tag'] = sarcasm_prep_data['tok_comment'].apply(nltk.pos_tag)\n",
    "irony_data['POS_tag'] = irony_data['tok_comment'].apply(nltk.pos_tag)\n",
    "# sarcasm_prep_data.head()\n",
    "\n",
    "# Apply stemming on the tokenized comments to get the roots of the words\n",
    "from nltk.stem.snowball import SnowballStemmer\n",
    "\n",
    "stemmer = SnowballStemmer(\"english\")\n",
    "\n",
    "sarcasm_prep_data['stem'] = sarcasm_prep_data['tok_comment'].apply(lambda x: [stemmer.stem(y) for y in x])\n",
    "irony_data['stem'] = irony_data['tok_comment'].apply(lambda x: [stemmer.stem(y) for y in x])\n",
    "\n",
    "# Joining Sarcasm data\n",
    "joined_tag = []\n",
    "for index, row in sarcasm_prep_data.iterrows():\n",
    "    joined_tag.append(' '.join([word + \"_\" + pos for word, pos in row['POS_tag']]))\n",
    "sarcasm_prep_data['joined_POS_tag'] = joined_tag.copy()\n",
    "\n",
    "sarcasm_prep_data['joined_stem'] = sarcasm_prep_data['stem'].apply(lambda x: ' '.join(x))\n",
    "\n",
    "# Joining Irony data\n",
    "joined_tag = []\n",
    "for index, row in irony_data.iterrows():\n",
    "    joined_tag.append(' '.join([word + \"_\" + pos for word, pos in row['POS_tag']]))\n",
    "irony_data['joined_POS_tag'] = joined_tag.copy()\n",
    "irony_data['joined_stem'] = irony_data['stem'].apply(lambda x: ' '.join(x))"
   ]
  },
  {
   "cell_type": "markdown",
   "metadata": {},
   "source": [
    "##### [Textblob](https://textblob.readthedocs.io/en/dev/)\n",
    "Textblob is a library in python specifically used for analyzing textual data. It has many purposes such as POS_tagging, chunking, classification, and sentiment polarity.\n",
    "\n",
    "Parent vs child polarity: \n",
    "\n",
    "As for our project, we used textblob to measure the polarity of each comment and its parent comment. Polarity ranges from -1 to 1, where -1 means negative statement and 1 means positive statement. "
   ]
  },
  {
   "cell_type": "code",
   "execution_count": 171,
   "metadata": {},
   "outputs": [],
   "source": [
    "# !pip install -U textblob\n",
    "from textblob import TextBlob\n",
    "\n",
    "# Polarity for comment\n",
    "blob_list = []\n",
    "for index, row in sarcasm_prep_data.iterrows():\n",
    "    blob_list.append(TextBlob(row['comment']))\n",
    "sarcasm_prep_data['textblob'] = blob_list.copy()\n",
    "\n",
    "polarity_list = []\n",
    "for index, row in sarcasm_prep_data.iterrows():\n",
    "    polarity_list.append(row['textblob'].sentiment.polarity)\n",
    "\n",
    "sarcasm_prep_data['polarity'] = polarity_list.copy()\n",
    "\n",
    "# Polarity for parent comment\n",
    "parent_blob_list = []\n",
    "for index, row in sarcasm_prep_data.iterrows():\n",
    "    parent_blob_list.append(TextBlob(row['parent_comment']))\n",
    "sarcasm_prep_data['parent_textblob'] = parent_blob_list.copy()\n",
    "\n",
    "parent_polarity_list = []\n",
    "for index, row in sarcasm_prep_data.iterrows():\n",
    "    parent_polarity_list.append(row['parent_textblob'].sentiment.polarity)\n",
    "\n",
    "sarcasm_prep_data['parent_polarity'] = parent_polarity_list.copy()\n",
    "\n",
    "# Polarity for comment in Irony data\n",
    "blob_list = []\n",
    "for index, row in irony_data.iterrows():\n",
    "    blob_list.append(TextBlob(row['text']))\n",
    "irony_data['textblob'] = blob_list.copy()\n",
    "\n",
    "polarity_list = []\n",
    "for index, row in irony_data.iterrows():\n",
    "    polarity_list.append(row['textblob'].sentiment.polarity)\n",
    "\n",
    "irony_data['polarity'] = polarity_list.copy()"
   ]
  },
  {
   "cell_type": "markdown",
   "metadata": {},
   "source": [
    "#### Comment vs Parent Comment Polarity\n",
    "\n",
    "This graph consists of both the sarcastic or non-sarcastic comment polarity and their parent comment polarity. The x-axis is the comment polarity and the y-axis is the parent comment polarity. The blue dots represent the sarcastic comments while the red dots represent non-sarcastic comments. We used a scatter plot to show the pattern of both polarities in the graph. We wanted to find some kind of relationship pattern between a comment’s polarity and that of its parent comment polarity. The results show that there was not a clear pattern between the two but we wanted to include both in our analysis to explore it further."
   ]
  },
  {
   "cell_type": "code",
   "execution_count": 172,
   "metadata": {},
   "outputs": [
    {
     "data": {
      "image/png": "[encoded data removed]",
      "text/plain": [
       "<Figure size 1080x720 with 1 Axes>"
      ]
     },
     "metadata": {
      "needs_background": "light"
     },
     "output_type": "display_data"
    }
   ],
   "source": [
    "# Plotting parent comment polarity vs child comment polarity\n",
    "g1 = (sarcasm_prep_data.groupby('label').get_group(0)['polarity'],\n",
    "     sarcasm_prep_data.groupby('label').get_group(0)['parent_polarity'])\n",
    "\n",
    "g2 = (sarcasm_prep_data.groupby('label').get_group(1)['polarity'],\n",
    "     sarcasm_prep_data.groupby('label').get_group(1)['parent_polarity'])\n",
    "\n",
    "data = (g1, g2)\n",
    "colors = (\"red\", \"cyan\")\n",
    "groups = ('Non sarcastic', 'Sarcastic')\n",
    "\n",
    "fig = plt.figure(figsize = (15, 10))\n",
    "ax = fig.add_subplot(111)\n",
    "\n",
    "for data, color, group in zip(data, colors, groups):\n",
    "    x, y = data\n",
    "    ax.scatter(x, y, alpha = 0.5, c = color, \n",
    "               edgecolors = 'none', s = 30, label = group)\n",
    "    \n",
    "plt.title(\"Comment vs Parent Comment Polarity\", fontsize = 30)\n",
    "plt.xlabel(\"Comment Polarity\", fontsize = 20)\n",
    "plt.ylabel(\"Parent Comment Polarity\", fontsize = 20)\n",
    "plt.legend(loc = 2)\n",
    "plt.show()"
   ]
  },
  {
   "cell_type": "markdown",
   "metadata": {},
   "source": [
    "### Feature and Method Selection\n",
    "\n",
    "We were interested in trying different models for predicting a sarcastic comment.\n",
    "To determine the features and labels for the analysis, we decided to look at the comment itself as a feature and use the given sarcastic vs non-sarcastic classification as our label.\n",
    "\n",
    "Various articles and [studies](https://www.researchgate.net/publication/321738179_Sentiment_analysis_for_sarcasm_detection_on_streaming_short_text_data) looked at sarcasm and attempted to predict using different features. For instance, an [online tutorial](https://towardsdatascience.com/sarcasm-detection-step-towards-sentiment-analysis-84cb013bb6db) looked at [TF-IDF](https://scikit-learn.org/stable/modules/generated/sklearn.feature_extraction.text.TfidfVectorizer.html) as a feature, so we decided we wanted to experiment with that and see if we would get anything remotely close to their findings. Worth noting, however, that they looked at tweets with the #sarcasm tag, their dataset was significantly smaller than ours, and their training vs test data split was slightly unusual (training = 95%, test = 5%). \n",
    "\n",
    "In addition to the stemmed comments, we chose to explore a few more features in our models. We included TF-IDF vectorization of the Parts of Speech tagged comments, comment polarity, and parent comment polarity (parent comments were only available for the sarcasm dataset). To combine these features into a feature matrix, we used the [Scipy.Sparse](https://docs.scipy.org/doc/scipy/reference/generated/scipy.sparse.hstack.html) module that allowed us to combine the sparse matrices produced from vectorization with the individual columns containing polarity.\n",
    "\n",
    "To create a more reliable method, we decided to split our data into the more common 80-20 split for training and test subsets respectively. We also chose three main methods to compare, acknowledging that some of them might fare slightly more poorly compared to the others. We also assumed TF-IDF vectorization of the comments alone would not be a good predictor for whether a comment is sarcastic or not. \n",
    "\n",
    "The three methods we picked were:\n",
    "1. Logistic regression\n",
    "2. Support Vector Machine\n",
    "3. Random forest"
   ]
  },
  {
   "cell_type": "code",
   "execution_count": 173,
   "metadata": {},
   "outputs": [],
   "source": [
    "from sklearn.model_selection import train_test_split\n",
    "from sklearn.svm import LinearSVC\n",
    "from sklearn.linear_model import LogisticRegression\n",
    "from sklearn.ensemble import RandomForestClassifier\n",
    "from sklearn.linear_model import LogisticRegressionCV"
   ]
  },
  {
   "cell_type": "code",
   "execution_count": 174,
   "metadata": {},
   "outputs": [
    {
     "data": {
      "text/html": [
       "<div>\n",
       "<style scoped>\n",
       "    .dataframe tbody tr th:only-of-type {\n",
       "        vertical-align: middle;\n",
       "    }\n",
       "\n",
       "    .dataframe tbody tr th {\n",
       "        vertical-align: top;\n",
       "    }\n",
       "\n",
       "    .dataframe thead th {\n",
       "        text-align: right;\n",
       "    }\n",
       "</style>\n",
       "<table border=\"1\" class=\"dataframe\">\n",
       "  <thead>\n",
       "    <tr style=\"text-align: right;\">\n",
       "      <th></th>\n",
       "      <th>joined_POS_tag</th>\n",
       "      <th>joined_stem</th>\n",
       "      <th>polarity</th>\n",
       "      <th>parent_polarity</th>\n",
       "    </tr>\n",
       "  </thead>\n",
       "  <tbody>\n",
       "    <tr>\n",
       "      <th>787</th>\n",
       "      <td>TIL_NNP there_EX 's_VBZ a_DT sobriety_NN scene...</td>\n",
       "      <td>til there 's a sobrieti scene .</td>\n",
       "      <td>0.0</td>\n",
       "      <td>0.128125</td>\n",
       "    </tr>\n",
       "    <tr>\n",
       "      <th>4007</th>\n",
       "      <td>As_IN someone_NN who_WP has_VBZ supported_VBN ...</td>\n",
       "      <td>as someon who has support printer for year , i...</td>\n",
       "      <td>-0.7</td>\n",
       "      <td>0.000000</td>\n",
       "    </tr>\n",
       "    <tr>\n",
       "      <th>3188</th>\n",
       "      <td>Lol_NNP I_PRP 've_VBP been_VBN here_RB ever_RB...</td>\n",
       "      <td>lol i ve been here ever sinc you made that com...</td>\n",
       "      <td>0.8</td>\n",
       "      <td>-0.100000</td>\n",
       "    </tr>\n",
       "    <tr>\n",
       "      <th>4763</th>\n",
       "      <td>Lol_NN</td>\n",
       "      <td>lol</td>\n",
       "      <td>0.8</td>\n",
       "      <td>0.000000</td>\n",
       "    </tr>\n",
       "    <tr>\n",
       "      <th>8120</th>\n",
       "      <td>Another_DT death_NN caused_VBN by_IN alcohol_N...</td>\n",
       "      <td>anoth death caus by alcohol ?</td>\n",
       "      <td>0.0</td>\n",
       "      <td>0.500000</td>\n",
       "    </tr>\n",
       "  </tbody>\n",
       "</table>\n",
       "</div>"
      ],
      "text/plain": [
       "                                         joined_POS_tag  \\\n",
       "787   TIL_NNP there_EX 's_VBZ a_DT sobriety_NN scene...   \n",
       "4007  As_IN someone_NN who_WP has_VBZ supported_VBN ...   \n",
       "3188  Lol_NNP I_PRP 've_VBP been_VBN here_RB ever_RB...   \n",
       "4763                                             Lol_NN   \n",
       "8120  Another_DT death_NN caused_VBN by_IN alcohol_N...   \n",
       "\n",
       "                                            joined_stem  polarity  \\\n",
       "787                     til there 's a sobrieti scene .       0.0   \n",
       "4007  as someon who has support printer for year , i...      -0.7   \n",
       "3188  lol i ve been here ever sinc you made that com...       0.8   \n",
       "4763                                                lol       0.8   \n",
       "8120                      anoth death caus by alcohol ?       0.0   \n",
       "\n",
       "      parent_polarity  \n",
       "787          0.128125  \n",
       "4007         0.000000  \n",
       "3188        -0.100000  \n",
       "4763         0.000000  \n",
       "8120         0.500000  "
      ]
     },
     "execution_count": 174,
     "metadata": {},
     "output_type": "execute_result"
    }
   ],
   "source": [
    "X_train, X_test, y_train, y_test = train_test_split(sarcasm_prep_data[['joined_POS_tag', 'joined_stem', 'polarity', 'parent_polarity']] , sarcasm_prep_data.label, test_size=0.2, random_state=0)\n",
    "X_train.head()"
   ]
  },
  {
   "cell_type": "code",
   "execution_count": 175,
   "metadata": {},
   "outputs": [
    {
     "data": {
      "text/html": [
       "<div>\n",
       "<style scoped>\n",
       "    .dataframe tbody tr th:only-of-type {\n",
       "        vertical-align: middle;\n",
       "    }\n",
       "\n",
       "    .dataframe tbody tr th {\n",
       "        vertical-align: top;\n",
       "    }\n",
       "\n",
       "    .dataframe thead th {\n",
       "        text-align: right;\n",
       "    }\n",
       "</style>\n",
       "<table border=\"1\" class=\"dataframe\">\n",
       "  <thead>\n",
       "    <tr style=\"text-align: right;\">\n",
       "      <th></th>\n",
       "      <th>joined_POS_tag</th>\n",
       "      <th>joined_stem</th>\n",
       "      <th>polarity</th>\n",
       "    </tr>\n",
       "  </thead>\n",
       "  <tbody>\n",
       "    <tr>\n",
       "      <th>1936</th>\n",
       "      <td>U_NNP ._.</td>\n",
       "      <td>u .</td>\n",
       "      <td>0.000</td>\n",
       "    </tr>\n",
       "    <tr>\n",
       "      <th>2509</th>\n",
       "      <td>She_PRP 's_VBZ a_DT commie_NN self_NN absorb_J...</td>\n",
       "      <td>she 's a commi self absorb corpor vultur .</td>\n",
       "      <td>0.000</td>\n",
       "    </tr>\n",
       "    <tr>\n",
       "      <th>872</th>\n",
       "      <td>He_PRP scheduled_VBD me_PRP for_IN surgery_NN ...</td>\n",
       "      <td>he schedul me for surgeri to reset ( read : re...</td>\n",
       "      <td>0.000</td>\n",
       "    </tr>\n",
       "    <tr>\n",
       "      <th>831</th>\n",
       "      <td>This_DT guy_NN defended_VBD himself_PRP as_RB ...</td>\n",
       "      <td>this guy defend himself as well as anyon could...</td>\n",
       "      <td>0.250</td>\n",
       "    </tr>\n",
       "    <tr>\n",
       "      <th>1813</th>\n",
       "      <td>The_DT problem_NN with_IN comparing_VBG it_PRP...</td>\n",
       "      <td>the problem with compar it with fb or googl is...</td>\n",
       "      <td>-0.075</td>\n",
       "    </tr>\n",
       "  </tbody>\n",
       "</table>\n",
       "</div>"
      ],
      "text/plain": [
       "                                         joined_POS_tag  \\\n",
       "1936                                          U_NNP ._.   \n",
       "2509  She_PRP 's_VBZ a_DT commie_NN self_NN absorb_J...   \n",
       "872   He_PRP scheduled_VBD me_PRP for_IN surgery_NN ...   \n",
       "831   This_DT guy_NN defended_VBD himself_PRP as_RB ...   \n",
       "1813  The_DT problem_NN with_IN comparing_VBG it_PRP...   \n",
       "\n",
       "                                            joined_stem  polarity  \n",
       "1936                                                u .     0.000  \n",
       "2509         she 's a commi self absorb corpor vultur .     0.000  \n",
       "872   he schedul me for surgeri to reset ( read : re...     0.000  \n",
       "831   this guy defend himself as well as anyon could...     0.250  \n",
       "1813  the problem with compar it with fb or googl is...    -0.075  "
      ]
     },
     "execution_count": 175,
     "metadata": {},
     "output_type": "execute_result"
    }
   ],
   "source": [
    "# For the database\n",
    "db_X_train, db_X_test, db_y_train, db_y_test = train_test_split(irony_data[['joined_POS_tag', 'joined_stem', 'polarity']] , irony_data.label, test_size=0.2, random_state=0)\n",
    "db_X_train.head()"
   ]
  },
  {
   "cell_type": "code",
   "execution_count": 176,
   "metadata": {},
   "outputs": [],
   "source": [
    "# TF-IDF to vectorize the data\n",
    "import scipy.sparse as sp\n",
    "from sklearn.feature_extraction.text import TfidfVectorizer\n",
    "\n",
    "# Vectorize the stemmed comments\n",
    "# Set ngram range to (1, 3) to capture longer combinations of words\n",
    "stem_vectorizer = TfidfVectorizer(ngram_range = (1,3))\n",
    "tfidf_stem = stem_vectorizer.fit_transform(X_train.joined_stem)\n",
    "\n",
    "# Vectorize POS tagged comments\n",
    "pos_vectorizer = TfidfVectorizer(ngram_range = (1,3))\n",
    "tfidf_pos = pos_vectorizer.fit_transform(X_train.joined_POS_tag)\n",
    "\n",
    "# Combine the first 2 features x1 = tfidf(stemmed) and x2 = tfidf(POS tagged)\n",
    "combined_2 = sp.hstack([tfidf_stem, tfidf_pos], format = 'csr')\n",
    "# Combine previous 2 features with x3 = comment polarity\n",
    "combined_3 = sp.hstack((combined_2,np.array(X_train.polarity)[:,None]))\n",
    "# Combine previous 2 features with x3 = parent polarity\n",
    "combined_3_parent = sp.hstack((combined_2, np.array(X_train.parent_polarity)[:,None]))\n",
    "# Combine previous 3 features with x4 = parent comment polarity\n",
    "combined_4 = sp.hstack((combined_3,np.array(X_train.parent_polarity)[:,None]))\n",
    "\n",
    "# Same process follow for the test data\n",
    "test_tfidf_stem = stem_vectorizer.transform(X_test.joined_stem)\n",
    "test_tfidf_pos = pos_vectorizer.transform(X_test.joined_POS_tag)\n",
    "\n",
    "# x1 = tfidf(stemmed) and x2 = tfidf(POS tagged)\n",
    "test_combined_2 = sp.hstack([test_tfidf_stem, test_tfidf_pos], format = 'csr')\n",
    "# previous 2 with x3 = comment polarity\n",
    "test_combined_3 = sp.hstack((test_combined_2,np.array(X_test.polarity)[:,None]))\n",
    "# Combine previous 2 features with x3 = parent polarity\n",
    "test_combined_3_parent = sp.hstack((test_combined_2, np.array(X_test.parent_polarity)[:,None]))\n",
    "# previous 3 with x4 = parent comment polarity\n",
    "test_combined_4 = sp.hstack((test_combined_3,np.array(X_test.parent_polarity)[:,None]))\n",
    "\n",
    "# Vectorizing the data for the database dataset\n",
    "# Vectorized stemmed comment\n",
    "db_stem_vectorizer = TfidfVectorizer(ngram_range = (1,3)) # ask about max features\n",
    "db_tfidf_stem = db_stem_vectorizer.fit_transform(db_X_train.joined_stem)\n",
    "\n",
    "# Vectorized Parts of Speech tagged comments\n",
    "db_pos_vectorizer = TfidfVectorizer(ngram_range = (1,3))\n",
    "db_tfidf_pos = db_pos_vectorizer.fit_transform(db_X_train.joined_POS_tag)\n",
    "\n",
    "# Combining the 2 features into 1 matrix x1 = tfidf(stemmed) and x2 = tfidf(POS tagged)\n",
    "db_combined_2 = sp.hstack([db_tfidf_stem, db_tfidf_pos], format = 'csr')\n",
    "\n",
    "# Combining the 3 features into 1 matrix x1 = tfidf(stemmed), x2 = tfidf(POS tagged),\n",
    "# and comment polarity\n",
    "db_combined_3 = sp.hstack((db_combined_2,np.array(db_X_train.polarity)[:,None]))\n",
    "\n",
    "## Test data vectorizing, Same method as for the training data\n",
    "\n",
    "# Transforming stemmed data in the test dataset to match the dimensions of the vectorized\n",
    "# training data. Allowing this to be passed into the model produced from the training data\n",
    "db_test_tfidf_stem = db_stem_vectorizer.transform(db_X_test.joined_stem)\n",
    "\n",
    "# Transforming Parts of speech tagged data to vectorized data\n",
    "db_test_tfidf_pos = db_pos_vectorizer.transform(db_X_test.joined_POS_tag)\n",
    "\n",
    "# Combining the 2 tfidf vectorized features x1 = tfidf(stemmed) and x2 = tfidf(POS tagged)\n",
    "db_test_combined_2 = sp.hstack([db_test_tfidf_stem, db_test_tfidf_pos], format = 'csr')\n",
    "\n",
    "# Combining the previous 2 features with the 3rd features x3 = comment polarity\n",
    "db_test_combined_3 = sp.hstack((db_test_combined_2,np.array(db_X_test.polarity)[:,None]))"
   ]
  },
  {
   "cell_type": "code",
   "execution_count": 177,
   "metadata": {},
   "outputs": [],
   "source": [
    "# Trying squared features for the model\n",
    "squared_tfidf_stem = sp.csr_matrix(tfidf_stem).copy()\n",
    "squared_tfidf_stem.data **= 2\n",
    "\n",
    "squared_tfidf_pos = sp.csr_matrix(tfidf_pos).copy()\n",
    "squared_tfidf_pos.data **= 2\n",
    "\n",
    "squared_polarity = np.square(X_train.polarity)\n",
    "squared_parent_polarity = np.square(X_train.parent_polarity)\n",
    "\n",
    "# Combine the first 2 features x1 = tfidf(stemmed) and x2 = tfidf(POS tagged)\n",
    "squared_combined_2 = sp.hstack([squared_tfidf_stem, squared_tfidf_pos], format = 'csr')\n",
    "# Combine previous 2 features with x3 = comment polarity\n",
    "squared_combined_3 = sp.hstack((combined_2,np.array(squared_polarity)[:,None]))\n",
    "# Combine previous 2 features with x3 = parent polarity\n",
    "squared_combined_3_parent = sp.hstack((combined_2, np.array(squared_parent_polarity)[:,None]))\n",
    "# Combine previous 3 features with x4 = parent comment polarity\n",
    "squared_combined_4 = sp.hstack((combined_3,np.array(squared_parent_polarity)[:,None]))\n",
    "\n",
    "# Same process follow for the test data\n",
    "squared_test_tfidf_stem = sp.csr_matrix(test_tfidf_stem).copy()\n",
    "squared_test_tfidf_stem.data **= 2\n",
    "squared_test_tfidf_pos = sp.csr_matrix(test_tfidf_pos).copy()\n",
    "squared_test_tfidf_pos.data **= 2\n",
    "squared_test_polarity = np.square(X_test.polarity)\n",
    "squared_test_parent_polarity = np.square(X_test.parent_polarity)\n",
    "\n",
    "# x1 = tfidf(stemmed) and x2 = tfidf(POS tagged)\n",
    "squared_test_combined_2 = sp.hstack([squared_test_tfidf_stem, squared_test_tfidf_pos], format = 'csr')\n",
    "# previous 2 with x3 = comment polarity\n",
    "squared_test_combined_3 = sp.hstack((squared_test_combined_2,np.array(squared_test_polarity)[:,None]))\n",
    "# Combine previous 2 features with x3 = parent polarity\n",
    "test_combined_3_parent = sp.hstack((test_combined_2, np.array(squared_test_parent_polarity)[:,None]))\n",
    "# previous 3 with x4 = parent comment polarity\n",
    "test_combined_4 = sp.hstack((test_combined_3,np.array(squared_test_parent_polarity)[:,None]))\n",
    "\n",
    "\n",
    "# Trying squared features for the model\n",
    "squared_db_tfidf_stem = sp.csr_matrix(db_tfidf_stem).copy()\n",
    "squared_db_tfidf_stem.data **= 2\n",
    "\n",
    "squared_db_tfidf_pos = sp.csr_matrix(db_tfidf_pos).copy()\n",
    "squared_db_tfidf_pos.data **= 2\n",
    "\n",
    "squared_db_polarity = np.square(db_X_train.polarity)\n",
    "\n",
    "# Combine the first 2 features x1 = tfidf(stemmed) and x2 = tfidf(POS tagged)\n",
    "squared_db_combined_2 = sp.hstack([squared_db_tfidf_stem, squared_db_tfidf_pos], format = 'csr')\n",
    "# Combine previous 2 features with x3 = comment polarity\n",
    "squared_db_combined_3 = sp.hstack((squared_db_combined_2,np.array(squared_db_polarity)[:,None]))\n",
    "\n",
    "# Same process followed for the test data\n",
    "squared_db_test_tfidf_stem = sp.csr_matrix(db_test_tfidf_stem).copy()\n",
    "squared_db_test_tfidf_stem.data **= 2\n",
    "squared_db_test_tfidf_pos = sp.csr_matrix(db_test_tfidf_pos).copy()\n",
    "squared_db_test_tfidf_pos.data **= 2\n",
    "squared_db_test_polarity = np.square(db_X_test.polarity)\n",
    "\n",
    "# x1 = tfidf(stemmed) and x2 = tfidf(POS tagged)\n",
    "squared_db_test_combined_2 = sp.hstack([squared_db_test_tfidf_stem, squared_db_test_tfidf_pos], format = 'csr')\n",
    "# previous 2 with x3 = comment polarity\n",
    "squared_db_test_combined_3 = sp.hstack((squared_db_test_combined_2,np.array(squared_db_test_polarity)[:,None]))\n"
   ]
  },
  {
   "cell_type": "markdown",
   "metadata": {},
   "source": [
    "### [Logistic Regression with Cross Validation](https://scikit-learn.org/stable/modules/generated/sklearn.linear_model.LogisticRegressionCV.html)\n",
    "\n",
    "After specifying the features we are interested in looking at, we considered several models to explore which model would classify a comment with highest accuracy.\n",
    "The first method we implemented was Logistic Regression from the Scikit module. Logistic Regression is a method used to classify data with a categorical outcome. In our case, those categories would be sarcastic vs non-sarcastic. \n",
    "\n",
    "The following equation, known as the sigmoid function, is the hypothesis function of the logistic regression.\n",
    "\n",
    "$ h_ \\theta (X) =  \\frac{\\mathrm{1} }{\\mathrm{1} + e^{- \\theta^TX} }  $ where $\\theta\\$ represents the parameters being trained by the model and x represents the features used to train the model. Based on this concept, we decided to experiment with several different combinations of the properties of the X matrix.\n",
    "\n",
    "To address the issue of overfitting, we used the built-in Cross Validation option, with k = 10 to perform 10 fold cross validation on the following models:\n",
    "\n",
    "1. Model that uses 2 features (Stemmed comments and POS tagged comments)\n",
    "2. Model that uses 3 features (Stemmed comments, POS tagged comments, and comment polarity)\n",
    "3. Model that uses 3 features (Stemmed comments, POS tagged comments, and parent comment polarity)\n",
    "4. Model that uses all 4 features (Stemmed comments, POS tagged comments, comment polarity, and parent comment polarity)\n",
    "5. Model that uses the first 2 features (Stemmed comments and POS tagged comments) and a third features that is an interaction of the 2 latter features (Comment polarity and parent comment polarity)\n",
    "6. Model that uses quadratic form of the features"
   ]
  },
  {
   "cell_type": "markdown",
   "metadata": {},
   "source": [
    "#### Sarcasm Dataset"
   ]
  },
  {
   "cell_type": "code",
   "execution_count": 178,
   "metadata": {},
   "outputs": [
    {
     "name": "stdout",
     "output_type": "stream",
     "text": [
      "Model 1: Logistic regression: x1 = stemmed comments, x2 = POS\n",
      "Training score:  0.9981371087928465\n",
      "Test score:  0.6573982125124131\n"
     ]
    }
   ],
   "source": [
    "# Model 1:\n",
    "# Logistic regression using 2 features x1 = stemmed comments, x2 = POS tagged comments\n",
    "\n",
    "cv_log_clf_1 = LogisticRegressionCV(cv = 10, solver='lbfgs', max_iter = 300).fit(combined_2, y_train)\n",
    "\n",
    "# Logistic regression score\n",
    "print(\"Model 1: Logistic regression: x1 = stemmed comments, x2 = POS\")\n",
    "print(\"Training score: \", cv_log_clf_1.score(combined_2, y_train))\n",
    "print(\"Test score: \", cv_log_clf_1.score(test_combined_2, y_test))"
   ]
  },
  {
   "cell_type": "code",
   "execution_count": 179,
   "metadata": {},
   "outputs": [
    {
     "name": "stdout",
     "output_type": "stream",
     "text": [
      "Model 2: Logistic regression: x1 = stemmed comments, x2 = POS, x3 = polarity\n",
      "Training score:  0.9981371087928465\n",
      "Test score:  0.6573982125124131\n"
     ]
    }
   ],
   "source": [
    "# Model 2:\n",
    "# Logistic regression using 3 features x1 = stemmed comments, x2 = POS tagged comments,\n",
    "# and x3 = comment polarity\n",
    "\n",
    "cv_log_clf_2 = LogisticRegressionCV(cv = 10, solver='lbfgs', max_iter = 700).fit(combined_3, y_train)\n",
    "\n",
    "# Logistic regression score\n",
    "print(\"Model 2: Logistic regression: x1 = stemmed comments, x2 = POS, x3 = polarity\")\n",
    "print(\"Training score: \", cv_log_clf_2.score(combined_3, y_train))\n",
    "print(\"Test score: \", cv_log_clf_2.score(test_combined_3, y_test))"
   ]
  },
  {
   "cell_type": "code",
   "execution_count": 180,
   "metadata": {},
   "outputs": [
    {
     "name": "stdout",
     "output_type": "stream",
     "text": [
      "Model 3: Logistic regression: x1 = stemmed comments, x2 = POS, x3 = parent polarity\n",
      "Training score:  0.9977645305514158\n",
      "Test score:  0.6628599801390268\n"
     ]
    }
   ],
   "source": [
    "# Model 3:\n",
    "# Logistic regression using 3 features x1 = stemmed comments, x2 = POS tagged comments,\n",
    "# and x3 = parent comment polarity --> combined_3_parent and test_combined_3_parent\n",
    "\n",
    "cv_log_clf_3 = LogisticRegressionCV(cv = 10, solver='lbfgs', max_iter = 700).fit(combined_3_parent, y_train)\n",
    "\n",
    "# Logistic regression score\n",
    "print(\"Model 3: Logistic regression: x1 = stemmed comments, x2 = POS, x3 = parent polarity\")\n",
    "print(\"Training score: \", cv_log_clf_3.score(combined_3_parent, y_train))\n",
    "print(\"Test score: \", cv_log_clf_3.score(test_combined_3_parent, y_test))"
   ]
  },
  {
   "cell_type": "code",
   "execution_count": 181,
   "metadata": {},
   "outputs": [
    {
     "name": "stdout",
     "output_type": "stream",
     "text": [
      "Model 4: Logistic regression: x1 = stemmed comments, x2 = POS, x3 = polarity, x4 = parent polarity\n",
      "Training score:  0.9977645305514158\n",
      "Test score:  0.6613704071499503\n"
     ]
    }
   ],
   "source": [
    "# Model using all 4 features on the sarcasm data from the csv file\n",
    "cv_log_clf_4 = LogisticRegressionCV(cv = 10, solver='lbfgs', max_iter = 700).fit(combined_4, y_train)\n",
    "\n",
    "# Logistic regression score\n",
    "print(\"Model 4: Logistic regression: x1 = stemmed comments, x2 = POS, x3 = polarity, x4 = parent polarity\")\n",
    "print(\"Training score: \", cv_log_clf_4.score(combined_4, y_train))\n",
    "print(\"Test score: \", cv_log_clf_4.score(test_combined_4, y_test))"
   ]
  },
  {
   "cell_type": "code",
   "execution_count": 182,
   "metadata": {},
   "outputs": [
    {
     "name": "stdout",
     "output_type": "stream",
     "text": [
      "Model 5: Logistic Regression: x1, x2, x3*x4\n",
      "Training score:  0.9977645305514158\n",
      "Test score:  0.6668321747765641\n"
     ]
    }
   ],
   "source": [
    "# Model 5:\n",
    "# Logistic Regression with child polarity x parent polarity interaction\n",
    "\n",
    "pol_train = np.array(X_train.polarity).reshape(-1, 1)\n",
    "pol_test = np.array(X_test.polarity).reshape(-1, 1)\n",
    "\n",
    "parent_pol_train = np.array(X_train.parent_polarity).reshape(-1, 1)\n",
    "parent_pol_test = np.array(X_test.parent_polarity).reshape(-1, 1)\n",
    "\n",
    "pol_interaction = np.multiply(pol_train, parent_pol_train)\n",
    "test_pol_interaction = np.multiply(pol_test, parent_pol_test)\n",
    "\n",
    "pol_combined_3 = sp.hstack((combined_2, pol_interaction))\n",
    "test_pol_combined_3 = sp.hstack((test_combined_2, test_pol_interaction))\n",
    "\n",
    "# Logistic Regression for CSV data using x1 = stemmed, x2 = POS, \n",
    "# x3 = polarity interaction between parent and child\n",
    "\n",
    "cv_log_clf_5 = LogisticRegressionCV(cv=5,solver='lbfgs', max_iter = 700).fit(pol_combined_3, y_train)\n",
    "\n",
    "# Logistic regression score\n",
    "print(\"Model 5: Logistic Regression: x1, x2, x3*x4\")\n",
    "print(\"Training score: \", cv_log_clf_5.score(pol_combined_3, y_train))\n",
    "print(\"Test score: \", cv_log_clf_5.score(test_pol_combined_3, y_test))"
   ]
  },
  {
   "cell_type": "code",
   "execution_count": 183,
   "metadata": {},
   "outputs": [
    {
     "name": "stdout",
     "output_type": "stream",
     "text": [
      "Model 6: Logistic regression: Quadratic model with all features\n",
      "Training score:  0.9976403378042722\n",
      "Test score:  0.6673286991062563\n"
     ]
    }
   ],
   "source": [
    "# Model 6: Quadratic model with all 3 features\n",
    "cv_log_clf_6 = LogisticRegressionCV(cv = 10, solver='lbfgs', max_iter = 700).fit(squared_combined_4, y_train)\n",
    "\n",
    "# Logistic regression score\n",
    "print(\"Model 6: Logistic regression: Quadratic model with all features\")\n",
    "print(\"Training score: \", cv_log_clf_6.score(squared_combined_4, y_train))\n",
    "print(\"Test score: \", cv_log_clf_6.score(test_combined_4, y_test))"
   ]
  },
  {
   "cell_type": "markdown",
   "metadata": {},
   "source": [
    "#### Irony Dataset\n",
    "We also performed the analysis on the data from the database as well. "
   ]
  },
  {
   "cell_type": "code",
   "execution_count": 184,
   "metadata": {},
   "outputs": [
    {
     "name": "stdout",
     "output_type": "stream",
     "text": [
      "Logistic regression x1 = stemmed and x2 = POS tagged\n",
      "Training score:  0.9851797862001944\n",
      "Test score:  0.6951456310679611\n"
     ]
    }
   ],
   "source": [
    "# Model 1: Logistic Regression for DB data with 2 features\n",
    "\n",
    "cv_db_log_clf_1 = LogisticRegressionCV(cv=5,solver='lbfgs', max_iter = 500).fit(db_combined_2, db_y_train)\n",
    "\n",
    "# Logistic regression score\n",
    "print(\"Logistic regression x1 = stemmed and x2 = POS tagged\")\n",
    "print(\"Training score: \", cv_db_log_clf_1.score(db_combined_2, db_y_train))\n",
    "print(\"Test score: \", cv_db_log_clf_1.score(db_test_combined_2, db_y_test))"
   ]
  },
  {
   "cell_type": "code",
   "execution_count": 185,
   "metadata": {},
   "outputs": [
    {
     "name": "stdout",
     "output_type": "stream",
     "text": [
      "Logistic regression x1 = stemmed, x2 = POS tagged, x3 = polarity\n",
      "Training score:  0.9859086491739553\n",
      "Test score:  0.6951456310679611\n"
     ]
    }
   ],
   "source": [
    "# Model 2: Logistic Regression for DB data with all 3 features\n",
    "\n",
    "cv_db_log_clf_2 = LogisticRegressionCV(cv=10,solver='lbfgs', max_iter = 500).fit(db_combined_3, db_y_train)\n",
    "\n",
    "# Logistic regression score\n",
    "print(\"Logistic regression x1 = stemmed, x2 = POS tagged, x3 = polarity\")\n",
    "print(\"Training score: \", cv_db_log_clf_2.score(db_combined_3, db_y_train))\n",
    "print(\"Test score: \", cv_db_log_clf_2.score(db_test_combined_3, db_y_test))"
   ]
  },
  {
   "cell_type": "code",
   "execution_count": 186,
   "metadata": {},
   "outputs": [
    {
     "name": "stdout",
     "output_type": "stream",
     "text": [
      "Logistic regression: Quadratic model with all 3 features\n",
      "Training score:  0.9851797862001944\n",
      "Test score:  0.6757281553398058\n"
     ]
    }
   ],
   "source": [
    "# Logistic Regression for DB data with quadratic model (3 features)\n",
    "\n",
    "cv_db_log_clf_3 = LogisticRegressionCV(cv=10,solver='lbfgs', max_iter = 700).fit(squared_db_combined_3, db_y_train)\n",
    "\n",
    "# Logistic regression score\n",
    "print(\"Logistic regression: Quadratic model with all 3 features\")\n",
    "print(\"Training score: \", cv_db_log_clf_3.score(squared_db_combined_3, db_y_train))\n",
    "print(\"Test score: \", cv_db_log_clf_3.score(squared_db_test_combined_3, db_y_test))"
   ]
  },
  {
   "cell_type": "code",
   "execution_count": 187,
   "metadata": {},
   "outputs": [
    {
     "name": "stdout",
     "output_type": "stream",
     "text": [
      "Logistic regression: Quadratic model with all 3 features\n",
      "Training score:  0.9851797862001944\n",
      "Test score:  0.6747572815533981\n"
     ]
    }
   ],
   "source": [
    "# Logistic Regression for DB data with quadratic model, only 2 features\n",
    "\n",
    "cv_db_log_clf_4 = LogisticRegressionCV(cv=10,solver='lbfgs', max_iter = 700).fit(squared_db_combined_2, db_y_train)\n",
    "\n",
    "# Logistic regression score\n",
    "print(\"Logistic regression: Quadratic model with all 3 features\")\n",
    "print(\"Training score: \", cv_db_log_clf_4.score(squared_db_combined_2, db_y_train))\n",
    "print(\"Test score: \", cv_db_log_clf_4.score(squared_db_test_combined_2, db_y_test))"
   ]
  },
  {
   "cell_type": "code",
   "execution_count": 188,
   "metadata": {},
   "outputs": [
    {
     "name": "stdout",
     "output_type": "stream",
     "text": [
      "Logistic regression: Quadratic model with all 3 features\n",
      "Training score:  0.9851797862001944\n",
      "Test score:  0.6932038834951456\n"
     ]
    }
   ],
   "source": [
    "# Squaring only the polarity\n",
    "\n",
    "db_pol_max_X = sp.hstack((db_combined_2,np.array(squared_db_polarity)[:,None]))\n",
    "db_pol_max_X_test = sp.hstack((db_test_combined_2,np.array(squared_db_test_polarity)[:,None]))\n",
    "\n",
    "# Logistic Regression for DB data with quadratic model, only 2 features\n",
    "\n",
    "cv_db_log_clf_5 = LogisticRegressionCV(cv=10,solver='lbfgs', max_iter = 700).fit(db_pol_max_X, db_y_train)\n",
    "\n",
    "# Logistic regression score\n",
    "print(\"Logistic regression: Quadratic model with all 3 features\")\n",
    "print(\"Training score: \", cv_db_log_clf_5.score(db_pol_max_X, db_y_train))\n",
    "print(\"Test score: \", cv_db_log_clf_5.score(db_pol_max_X_test, db_y_test))"
   ]
  },
  {
   "cell_type": "markdown",
   "metadata": {},
   "source": [
    "#### Results of the Logistic Regression\n",
    "Based on the results above, cross-validation did not seem to help with bridging the gap between the training and test accuracy scores. In addition, it seems like the stemmed comments and parts of speech tagged comments carried most of the weight in the predictions. This is something that we would like to explore further in a future project. Specifically, we think that this analysis would benefit from exploring more methods of [feature selection](https://scikit-learn.org/stable/modules/feature_selection.html). However, this is beyond the scope of this tutorial."
   ]
  },
  {
   "cell_type": "markdown",
   "metadata": {},
   "source": [
    "### [Support Vector Machine (SVM)](https://scikit-learn.org/stable/modules/generated/sklearn.svm.LinearSVC.html)\n",
    "The second method we were interested in exploring was the Support Vector Machine (SVM). We expected this method to perform more accurately compared to logistic regression. We tried the same different models using this method to see which one would perform best. \n",
    "For this method, we implemented the LinearSVC module from scikit-learn."
   ]
  },
  {
   "cell_type": "markdown",
   "metadata": {},
   "source": [
    "#### Sarcasm dataset:"
   ]
  },
  {
   "cell_type": "code",
   "execution_count": 189,
   "metadata": {},
   "outputs": [
    {
     "name": "stdout",
     "output_type": "stream",
     "text": [
      "SVM with 2 features: x1 = stemmed, x2 = POS tagged\n",
      "Training score:  0.998012916045703\n",
      "Test score:  0.6583912611717975\n",
      "SVM with 3 features: x1 = stemmed, x2 = POS tagged, x3 = polarity\n",
      "Training score:  0.998012916045703\n",
      "Test score:  0.6588877855014895\n",
      "SVM with 3 features: x1 = stemmed, x2 = POS tagged, x3 = parent polarity\n",
      "Training score:  0.998012916045703\n",
      "Test score:  0.6583912611717975\n",
      "SVM with 4 features: x1 = stemmed, x2 = POS tagged, x3 = polarity, x4 = parent polarity\n",
      "Training score:  0.998012916045703\n",
      "Test score:  0.6578947368421053\n",
      "SVM with 3 features: x1 = stemmed, x2 = POS tagged, x3 = polarity*parent polarity\n",
      "Training score:  0.998012916045703\n",
      "Test score:  0.6588877855014895\n",
      "SVM with 2 features: x1^2 = stemmed, x2^2 = POS tagged\n",
      "Training score:  0.9910581222056631\n",
      "Test score:  0.6494538232373386\n"
     ]
    }
   ],
   "source": [
    "# SVM Model 1:\n",
    "\n",
    "svm_clf_1 = LinearSVC()\n",
    "\n",
    "# Training the model\n",
    "svm_clf_1.fit(combined_2, y_train)\n",
    "\n",
    "print(\"SVM with 2 features: x1 = stemmed, x2 = POS tagged\")\n",
    "print(\"Training score: \", svm_clf_1.score(combined_2, y_train))\n",
    "print(\"Test score: \", svm_clf_1.score(test_combined_2, y_test))\n",
    "\n",
    "# Model 2:\n",
    "\n",
    "svm_clf_2 = LinearSVC()\n",
    "\n",
    "# Training the model\n",
    "svm_clf_2.fit(combined_3, y_train)\n",
    "\n",
    "print(\"SVM with 3 features: x1 = stemmed, x2 = POS tagged, x3 = polarity\")\n",
    "print(\"Training score: \", svm_clf_2.score(combined_3, y_train))\n",
    "print(\"Test score: \", svm_clf_2.score(test_combined_3, y_test))\n",
    "\n",
    "# Model 3:\n",
    "\n",
    "svm_clf_3 = LinearSVC()\n",
    "\n",
    "# Training the model\n",
    "svm_clf_3.fit(combined_3_parent, y_train)\n",
    "\n",
    "print(\"SVM with 3 features: x1 = stemmed, x2 = POS tagged, x3 = parent polarity\")\n",
    "print(\"Training score: \", svm_clf_3.score(combined_3_parent, y_train))\n",
    "print(\"Test score: \", svm_clf_3.score(test_combined_3_parent, y_test))\n",
    "\n",
    "# Model 4:\n",
    "svm_clf_4 = LinearSVC()\n",
    "\n",
    "# Training the model\n",
    "svm_clf_4.fit(combined_4, y_train)\n",
    "\n",
    "print(\"SVM with 4 features: x1 = stemmed, x2 = POS tagged, x3 = polarity, x4 = parent polarity\")\n",
    "print(\"Training score: \", svm_clf_4.score(combined_4, y_train))\n",
    "print(\"Test score: \", svm_clf_4.score(test_combined_4, y_test))\n",
    "\n",
    "# Model 5:\n",
    "svm_clf_5 = LinearSVC()\n",
    "\n",
    "# Training the model\n",
    "svm_clf_5.fit(pol_combined_3, y_train)\n",
    "\n",
    "print(\"SVM with 3 features: x1 = stemmed, x2 = POS tagged, x3 = polarity*parent polarity\")\n",
    "print(\"Training score: \", svm_clf_5.score(pol_combined_3, y_train))\n",
    "print(\"Test score: \", svm_clf_5.score(test_pol_combined_3, y_test))\n",
    "\n",
    "# Model 6: Quadratic with 2 features\n",
    "svm_clf_6 = LinearSVC()\n",
    "\n",
    "# Training the model\n",
    "svm_clf_6.fit(squared_combined_2, y_train)\n",
    "\n",
    "print(\"SVM with 2 features: x1^2 = stemmed, x2^2 = POS tagged\")\n",
    "print(\"Training score: \", svm_clf_6.score(squared_combined_2, y_train))\n",
    "print(\"Test score: \", svm_clf_6.score(squared_test_combined_2, y_test))\n"
   ]
  },
  {
   "cell_type": "markdown",
   "metadata": {},
   "source": [
    "#### Irony dataset:"
   ]
  },
  {
   "cell_type": "code",
   "execution_count": 190,
   "metadata": {},
   "outputs": [
    {
     "name": "stdout",
     "output_type": "stream",
     "text": [
      "SVM on Irony dataset with 2 features: x1 = stemmed, x2 = POS tagged\n",
      "Training score:  0.9851797862001944\n",
      "Test score:  0.6922330097087379\n",
      "SVM on Irony dataset with 3 features: x1 = stemmed, x2 = POS tagged, x3 = polarity\n",
      "Training score:  0.9851797862001944\n",
      "Test score:  0.6902912621359223\n",
      "SVM on Irony dataset with 3 quadratic features:\n",
      "Training score:  0.978377065111759\n",
      "Test score:  0.670873786407767\n",
      "SVM on Irony dataset with 2 quadratic features:\n",
      "Training score:  0.9788629737609329\n",
      "Test score:  0.670873786407767\n"
     ]
    }
   ],
   "source": [
    "# SVM Model 1:\n",
    "svm_clf_1 = LinearSVC()\n",
    "\n",
    "# Training the model\n",
    "svm_clf_1.fit(db_combined_2, db_y_train)\n",
    "\n",
    "print(\"SVM on Irony dataset with 2 features: x1 = stemmed, x2 = POS tagged\")\n",
    "print(\"Training score: \", svm_clf_1.score(db_combined_2, db_y_train))\n",
    "print(\"Test score: \", svm_clf_1.score(db_test_combined_2, db_y_test))\n",
    "\n",
    "# Model 2:\n",
    "svm_clf_2 = LinearSVC()\n",
    "\n",
    "# Training the model\n",
    "svm_clf_2.fit(db_combined_3, db_y_train)\n",
    "\n",
    "print(\"SVM on Irony dataset with 3 features: x1 = stemmed, x2 = POS tagged, x3 = polarity\")\n",
    "print(\"Training score: \", svm_clf_2.score(db_combined_3, db_y_train))\n",
    "print(\"Test score: \", svm_clf_2.score(db_test_combined_3, db_y_test))\n",
    "\n",
    "# Model 3:\n",
    "db_svm_clf = LinearSVC()\n",
    "\n",
    "# Training the model\n",
    "db_svm_clf.fit(squared_db_combined_3, db_y_train)\n",
    "\n",
    "print(\"SVM on Irony dataset with 3 quadratic features:\")\n",
    "print(\"Training score: \", db_svm_clf.score(squared_db_combined_3, db_y_train))\n",
    "print(\"Test score: \", db_svm_clf.score(squared_db_test_combined_3, db_y_test))\n",
    "\n",
    "# Model 4:\n",
    "db_svm_clf = LinearSVC()\n",
    "\n",
    "# Training the model\n",
    "db_svm_clf.fit(squared_db_combined_2, db_y_train)\n",
    "\n",
    "print(\"SVM on Irony dataset with 2 quadratic features:\")\n",
    "print(\"Training score: \", db_svm_clf.score(squared_db_combined_2, db_y_train))\n",
    "print(\"Test score: \", db_svm_clf.score(squared_db_test_combined_2, db_y_test))"
   ]
  },
  {
   "cell_type": "markdown",
   "metadata": {},
   "source": [
    "#### Results of SVM\n",
    "Based on these results, it seems that polarity (for both datasets) and parent polarity (for the Sarcasm dataset) did not add much accuracy over an above using the stemmed comments and Parts of Speech tagged comments alone. Despite trying different models, it was still very difficult to produce a test data accuracy that was closer to the training data."
   ]
  },
  {
   "cell_type": "markdown",
   "metadata": {},
   "source": [
    "### [Random Forest Classifier](https://scikit-learn.org/stable/modules/generated/sklearn.ensemble.RandomForestClassifier.html)"
   ]
  },
  {
   "cell_type": "code",
   "execution_count": 192,
   "metadata": {},
   "outputs": [
    {
     "name": "stdout",
     "output_type": "stream",
     "text": [
      "Training score:  0.9993790362642822\n",
      "Test score:  0.6469712015888779\n"
     ]
    }
   ],
   "source": [
    "# Random Forest Classifier\n",
    "\n",
    "rf_clf = RandomForestClassifier(n_estimators = 100)\n",
    "\n",
    "rf_clf.fit(combined_4, y_train)\n",
    "\n",
    "print(\"Training score: \", rf_clf.score(combined_4, y_train))\n",
    "print(\"Test score: \", rf_clf.score(test_combined_4, y_test))"
   ]
  },
  {
   "cell_type": "code",
   "execution_count": 193,
   "metadata": {},
   "outputs": [
    {
     "name": "stdout",
     "output_type": "stream",
     "text": [
      "Training score:  0.9859086491739553\n",
      "Test score:  0.6961165048543689\n"
     ]
    }
   ],
   "source": [
    "# Random Forest Classifier\n",
    "\n",
    "db_rf_clf = RandomForestClassifier(n_estimators = 100)\n",
    "\n",
    "db_rf_clf.fit(db_combined_3, db_y_train)\n",
    "\n",
    "print(\"Training score: \", db_rf_clf.score(db_combined_3, db_y_train))\n",
    "print(\"Test score: \", db_rf_clf.score(db_test_combined_3, db_y_test))"
   ]
  },
  {
   "cell_type": "markdown",
   "metadata": {},
   "source": [
    "#### Results of the Random Forest Classifier\n",
    "The results from the Random Forest classifier mimick those of the logistic regression and the SVM. It seems like throughout all the different methods and models used, there is an issue with overfitting the data to the training set. We tried to salvage this using cross validation for the logistic regression, however those attempts were unsucessful. "
   ]
  },
  {
   "cell_type": "markdown",
   "metadata": {},
   "source": [
    "### Plots of Method Comparison\n",
    "\n",
    "To demonstrate a summary of results from our different methods and models, we chose the model that produced the best accuracy scores for each method. For example, the logistic regression with the quadratic model (including all 4 features) performed best on the sarcasm dataset. Whereas the 2 feature model (only stemmed and POS tagged comments) performed better in the logistic regression on the irony dataset.\n",
    "As for the SVM method, the fifth model (3 features = stemmed comments, pos tagged comments, and child vs parent polarity interaction) did best in the sarcasm data. The first model again did better on the irony dataset."
   ]
  },
  {
   "cell_type": "code",
   "execution_count": 194,
   "metadata": {},
   "outputs": [
    {
     "data": {
      "image/png": "[encoded data removed]",
      "text/plain": [
       "<Figure size 792x432 with 1 Axes>"
      ]
     },
     "metadata": {
      "needs_background": "light"
     },
     "output_type": "display_data"
    }
   ],
   "source": [
    "# data to plot\n",
    "n_groups = 3\n",
    "train_score = [cv_log_clf_6.score(squared_combined_4, y_train), \n",
    "          svm_clf_5.score(pol_combined_3, y_train),\n",
    "          rf_clf.score(combined_4, y_train)]\n",
    "test_score = [cv_log_clf_6.score(test_combined_4, y_test), \n",
    "          svm_clf_5.score(test_pol_combined_3, y_test),\n",
    "          rf_clf.score(test_combined_4, y_test)]\n",
    "\n",
    "# create plot\n",
    "fig, ax = plt.subplots(figsize=(11, 6))\n",
    "index = np.arange(n_groups)\n",
    "bar_width = 0.35\n",
    "opacity = 0.8\n",
    "\n",
    "rects1 = plt.bar(index, train_score, bar_width,\n",
    "alpha=opacity,\n",
    "color='b',\n",
    "label='Training Data')\n",
    "\n",
    "rects2 = plt.bar(index + bar_width, test_score, bar_width,\n",
    "alpha=opacity,\n",
    "color='c',\n",
    "label='Test Data')\n",
    "\n",
    "plt.xlabel('Method Used')\n",
    "plt.ylabel('Scores')\n",
    "plt.title('Scores by Method')\n",
    "plt.xticks(index + bar_width/2, ('Logistic Regression', 'SVM', 'Random Forest'))\n",
    "plt.legend()\n",
    "\n",
    "plt.tight_layout()\n",
    "plt.show()"
   ]
  },
  {
   "cell_type": "code",
   "execution_count": 195,
   "metadata": {},
   "outputs": [
    {
     "data": {
      "image/png": "[encoded data removed]",
      "text/plain": [
       "<Figure size 792x432 with 1 Axes>"
      ]
     },
     "metadata": {
      "needs_background": "light"
     },
     "output_type": "display_data"
    }
   ],
   "source": [
    "# data to plot\n",
    "n_groups = 3\n",
    "train_score = [cv_db_log_clf_1.score(db_combined_2, db_y_train), \n",
    "          db_svm_clf.score(squared_db_combined_2, db_y_train),\n",
    "          db_rf_clf.score(db_combined_3, db_y_train)]\n",
    "test_score = [cv_db_log_clf_1.score(db_test_combined_2, db_y_test), \n",
    "          db_svm_clf.score(squared_db_test_combined_2, db_y_test),\n",
    "          db_rf_clf.score(db_test_combined_3, db_y_test)]\n",
    "\n",
    "# create plot\n",
    "fig, ax = plt.subplots(figsize=(11, 6))\n",
    "index = np.arange(n_groups)\n",
    "bar_width = 0.35\n",
    "opacity = 0.8\n",
    "\n",
    "rects1 = plt.bar(index, train_score, bar_width,\n",
    "alpha=opacity,\n",
    "color='b',\n",
    "label='Training Data')\n",
    "\n",
    "rects2 = plt.bar(index + bar_width, test_score, bar_width,\n",
    "alpha=opacity,\n",
    "color='c',\n",
    "label='Test Data')\n",
    "\n",
    "plt.xlabel('Method Used')\n",
    "plt.ylabel('Scores')\n",
    "plt.title('Scores by Method')\n",
    "plt.xticks(index + bar_width/2, ('Logistic Regression', 'SVM', 'Random Forest'))\n",
    "plt.legend()\n",
    "\n",
    "plt.tight_layout()\n",
    "plt.show()"
   ]
  },
  {
   "cell_type": "markdown",
   "metadata": {},
   "source": [
    "### Conclusion\n",
    "\n",
    "Sarcasm is still very difficult to analyze using these methods\n",
    "\n",
    "   Even using different types of models like the ones we have, like the logistic regression, support vector machine, and random forest classifier, it is still difficult to predict sarcasm. The training data had high accuracy (90% range) while the test data did not (60%-70% range).\n",
    "    \n",
    "Dataset choice matters when looking at model results\n",
    "\n",
    "   One factor that greatly affects the outcome of the model results is the dataset’s reliability. In this project, we found that the irony database produced a higher accuracy for the test dataset on all of the models compared to the sarcasm dataset. This occurs because the irony database was vetted by people instead of depending on tags alone just like the sarcasm dataset. \n",
    "\n",
    "Distribution of data also matters\n",
    "\n",
    "   How the data is distributed can affect outcomes.For example, we ran an analysis on the original irony database where about 90% of data belonged to one group and this gave us extremely high accuracy, just because the model was consistently predicting one group and the probability of getting that group was higher because of the size. \n",
    "\n",
    "Future Research\n",
    "\n",
    "   Based on this exploratory analysis of sarcastic comments, we think there is still much to do with the dataset. Model performance and the use of cross-validation indicates that there are improvements to be made to this project. For instance, we think exploring the robustness of the dataset we used would be of utmost importance. Looking at whether the '/s' actually classified the comments into sarcastic vs non-sarcastic would would help the models work more accurately. \n",
    "    In addition, we faced challenges with running the analyses on such large datasets. Our kernel would die at different stages, and as a result we were pushed to using smaller random samples of the much larger dataset. Finding a way to apply parallel processing or some other form of memory performance to the code would help us a lot.\n",
    "    A continuation of this project would also look at the features in more detail and decide which features would be worth keeping in the model. This is something we have started researching and believe does not fit in the scope of this tutorial.\n",
    "    In conclusion, with more knowledge of in-depth machine learning, better memory performance, and more time would definitely help to continue with this project. "
   ]
  }
 ],
 "metadata": {
  "kernelspec": {
   "display_name": "Python 3",
   "language": "python",
   "name": "python3"
  },
  "language_info": {
   "codemirror_mode": {
    "name": "ipython",
    "version": 3
   },
   "file_extension": ".py",
   "mimetype": "text/x-python",
   "name": "python",
   "nbconvert_exporter": "python",
   "pygments_lexer": "ipython3",
   "version": "3.7.3"
  }
 },
 "nbformat": 4,
 "nbformat_minor": 2
}

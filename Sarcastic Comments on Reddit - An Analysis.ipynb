{
 "cells": [
  {
   "cell_type": "markdown",
   "metadata": {},
   "source": [
    "Nour Mansour and Juan Estrella"
   ]
  },
  {
   "cell_type": "code",
   "execution_count": 1,
   "metadata": {},
   "outputs": [],
   "source": [
    "import pandas as pd\n",
    "import numpy as np\n",
    "import matplotlib.pyplot as plt\n",
    "#import seaborn as sns\n",
    "#from sklearn.linear_model import LinearRegression\n",
    "#from sklearn.metrics import mean_squared_error"
   ]
  },
  {
   "cell_type": "markdown",
   "metadata": {},
   "source": [
    "Part 1: Data Collection\n",
    "\n",
    "Step 1: Get the tsv data"
   ]
  },
  {
   "cell_type": "code",
   "execution_count": 2,
   "metadata": {
    "scrolled": true
   },
   "outputs": [
    {
     "data": {
      "text/html": [
       "<div>\n",
       "<style scoped>\n",
       "    .dataframe tbody tr th:only-of-type {\n",
       "        vertical-align: middle;\n",
       "    }\n",
       "\n",
       "    .dataframe tbody tr th {\n",
       "        vertical-align: top;\n",
       "    }\n",
       "\n",
       "    .dataframe thead th {\n",
       "        text-align: right;\n",
       "    }\n",
       "</style>\n",
       "<table border=\"1\" class=\"dataframe\">\n",
       "  <thead>\n",
       "    <tr style=\"text-align: right;\">\n",
       "      <th></th>\n",
       "      <th>label</th>\n",
       "      <th>comment</th>\n",
       "    </tr>\n",
       "  </thead>\n",
       "  <tbody>\n",
       "    <tr>\n",
       "      <th>0</th>\n",
       "      <td>0</td>\n",
       "      <td>NC and NH.</td>\n",
       "    </tr>\n",
       "    <tr>\n",
       "      <th>1</th>\n",
       "      <td>0</td>\n",
       "      <td>You do know west teams play against west teams...</td>\n",
       "    </tr>\n",
       "    <tr>\n",
       "      <th>2</th>\n",
       "      <td>0</td>\n",
       "      <td>They were underdogs earlier today, but since G...</td>\n",
       "    </tr>\n",
       "    <tr>\n",
       "      <th>3</th>\n",
       "      <td>0</td>\n",
       "      <td>This meme isn't funny none of the \"new york ni...</td>\n",
       "    </tr>\n",
       "    <tr>\n",
       "      <th>4</th>\n",
       "      <td>0</td>\n",
       "      <td>I could use one of those tools.</td>\n",
       "    </tr>\n",
       "  </tbody>\n",
       "</table>\n",
       "</div>"
      ],
      "text/plain": [
       "   label                                            comment\n",
       "0      0                                         NC and NH.\n",
       "1      0  You do know west teams play against west teams...\n",
       "2      0  They were underdogs earlier today, but since G...\n",
       "3      0  This meme isn't funny none of the \"new york ni...\n",
       "4      0                    I could use one of those tools."
      ]
     },
     "execution_count": 2,
     "metadata": {},
     "output_type": "execute_result"
    }
   ],
   "source": [
    "# Data is saved in the same folder as the project. Then read data from tsv file\n",
    "data = pd.read_csv(\"train-balanced-sarcasm.csv\")\n",
    "data.dropna(inplace=True)\n",
    "data.drop(['author', 'score', 'ups', 'downs', 'date', 'created_utc', 'subreddit', 'parent_comment'], axis = 1, inplace = True)\n",
    "data.head()"
   ]
  },
  {
   "cell_type": "markdown",
   "metadata": {},
   "source": [
    "Part 2: Data Processing\n",
    "\n",
    "Step 1: Columns required: Label, Comments, subreddit, parent comment\n",
    "\n",
    "Step 2: Create a Dataframe containing an even amount of sarcastic and non sarcastic \n",
    "comments, amount of data is 505413 each. "
   ]
  },
  {
   "cell_type": "code",
   "execution_count": 3,
   "metadata": {},
   "outputs": [
    {
     "data": {
      "text/html": [
       "<div>\n",
       "<style scoped>\n",
       "    .dataframe tbody tr th:only-of-type {\n",
       "        vertical-align: middle;\n",
       "    }\n",
       "\n",
       "    .dataframe tbody tr th {\n",
       "        vertical-align: top;\n",
       "    }\n",
       "\n",
       "    .dataframe thead th {\n",
       "        text-align: right;\n",
       "    }\n",
       "</style>\n",
       "<table border=\"1\" class=\"dataframe\">\n",
       "  <thead>\n",
       "    <tr style=\"text-align: right;\">\n",
       "      <th></th>\n",
       "      <th>label</th>\n",
       "      <th>comment</th>\n",
       "    </tr>\n",
       "  </thead>\n",
       "  <tbody>\n",
       "    <tr>\n",
       "      <th>1010768</th>\n",
       "      <td>1</td>\n",
       "      <td>I'm sure that Iran and N. Korea have the techn...</td>\n",
       "    </tr>\n",
       "    <tr>\n",
       "      <th>1010769</th>\n",
       "      <td>1</td>\n",
       "      <td>whatever you do, don't vote green!</td>\n",
       "    </tr>\n",
       "    <tr>\n",
       "      <th>1010770</th>\n",
       "      <td>1</td>\n",
       "      <td>Perhaps this is an atheist conspiracy to make ...</td>\n",
       "    </tr>\n",
       "    <tr>\n",
       "      <th>1010771</th>\n",
       "      <td>1</td>\n",
       "      <td>The Slavs got their own country - it is called...</td>\n",
       "    </tr>\n",
       "    <tr>\n",
       "      <th>1010772</th>\n",
       "      <td>1</td>\n",
       "      <td>values, as in capitalism .. there is good mone...</td>\n",
       "    </tr>\n",
       "  </tbody>\n",
       "</table>\n",
       "</div>"
      ],
      "text/plain": [
       "         label                                            comment\n",
       "1010768      1  I'm sure that Iran and N. Korea have the techn...\n",
       "1010769      1                 whatever you do, don't vote green!\n",
       "1010770      1  Perhaps this is an atheist conspiracy to make ...\n",
       "1010771      1  The Slavs got their own country - it is called...\n",
       "1010772      1  values, as in capitalism .. there is good mone..."
      ]
     },
     "execution_count": 3,
     "metadata": {},
     "output_type": "execute_result"
    }
   ],
   "source": [
    "#Copy the only the data we need\n",
    "#required_data = data[['label','comment','subreddit','parent_comment']]\n",
    "#required_data.head()\n",
    "# Reset the indices after rows with NA values are dropped\n",
    "data.reset_index(inplace = True)\n",
    "data.drop(['index'], axis = 1, inplace = True)\n",
    "data.tail()"
   ]
  },
  {
   "cell_type": "code",
   "execution_count": 4,
   "metadata": {},
   "outputs": [],
   "source": [
    "#data.groupby('label').describe()"
   ]
  },
  {
   "cell_type": "code",
   "execution_count": 5,
   "metadata": {},
   "outputs": [
    {
     "data": {
      "text/html": [
       "<div>\n",
       "<style scoped>\n",
       "    .dataframe tbody tr th:only-of-type {\n",
       "        vertical-align: middle;\n",
       "    }\n",
       "\n",
       "    .dataframe tbody tr th {\n",
       "        vertical-align: top;\n",
       "    }\n",
       "\n",
       "    .dataframe thead th {\n",
       "        text-align: right;\n",
       "    }\n",
       "</style>\n",
       "<table border=\"1\" class=\"dataframe\">\n",
       "  <thead>\n",
       "    <tr style=\"text-align: right;\">\n",
       "      <th></th>\n",
       "      <th></th>\n",
       "      <th>label</th>\n",
       "      <th>comment</th>\n",
       "    </tr>\n",
       "  </thead>\n",
       "  <tbody>\n",
       "    <tr>\n",
       "      <th rowspan=\"5\" valign=\"top\">0</th>\n",
       "      <th>93532</th>\n",
       "      <td>0</td>\n",
       "      <td>Cue the Mongoltage!</td>\n",
       "    </tr>\n",
       "    <tr>\n",
       "      <th>797968</th>\n",
       "      <td>0</td>\n",
       "      <td>I don't get it.</td>\n",
       "    </tr>\n",
       "    <tr>\n",
       "      <th>626142</th>\n",
       "      <td>0</td>\n",
       "      <td>Time to pay the xmas gifts.</td>\n",
       "    </tr>\n",
       "    <tr>\n",
       "      <th>993606</th>\n",
       "      <td>0</td>\n",
       "      <td>78INHUOESBG7EXWR9Q2998888aW'34WERQ34;A5SERTZAI...</td>\n",
       "    </tr>\n",
       "    <tr>\n",
       "      <th>421618</th>\n",
       "      <td>0</td>\n",
       "      <td>SAVE HIM RIOT #CatLivesMatter</td>\n",
       "    </tr>\n",
       "  </tbody>\n",
       "</table>\n",
       "</div>"
      ],
      "text/plain": [
       "          label                                            comment\n",
       "0 93532       0                                Cue the Mongoltage!\n",
       "  797968      0                                    I don't get it.\n",
       "  626142      0                        Time to pay the xmas gifts.\n",
       "  993606      0  78INHUOESBG7EXWR9Q2998888aW'34WERQ34;A5SERTZAI...\n",
       "  421618      0                      SAVE HIM RIOT #CatLivesMatter"
      ]
     },
     "execution_count": 5,
     "metadata": {},
     "output_type": "execute_result"
    }
   ],
   "source": [
    "#rand_ind = np.random.choice(data.index, int(len(data)*10/100))\n",
    "#len(rand_ind) # 101077 for 10%\n",
    "\n",
    "#chosen_data = data.sample(frac=0.5, random_state=1)\n",
    "#chosen_data.tail()\n",
    "\n",
    "\n",
    "\n",
    "size = int(len(data)*2.5/100)# sample size\n",
    "replace = True  # with replacement\n",
    "fn = lambda obj: obj.loc[np.random.choice(obj.index, size, replace),:]\n",
    "chosen_data = data.groupby('label', as_index=False).apply(fn)\n",
    "chosen_data.head()"
   ]
  },
  {
   "cell_type": "code",
   "execution_count": 6,
   "metadata": {},
   "outputs": [
    {
     "data": {
      "text/html": [
       "<div>\n",
       "<style scoped>\n",
       "    .dataframe tbody tr th:only-of-type {\n",
       "        vertical-align: middle;\n",
       "    }\n",
       "\n",
       "    .dataframe tbody tr th {\n",
       "        vertical-align: top;\n",
       "    }\n",
       "\n",
       "    .dataframe thead th {\n",
       "        text-align: right;\n",
       "    }\n",
       "</style>\n",
       "<table border=\"1\" class=\"dataframe\">\n",
       "  <thead>\n",
       "    <tr style=\"text-align: right;\">\n",
       "      <th></th>\n",
       "      <th>label</th>\n",
       "      <th>comment</th>\n",
       "    </tr>\n",
       "  </thead>\n",
       "  <tbody>\n",
       "    <tr>\n",
       "      <th>0</th>\n",
       "      <td>0</td>\n",
       "      <td>Cue the Mongoltage!</td>\n",
       "    </tr>\n",
       "    <tr>\n",
       "      <th>1</th>\n",
       "      <td>0</td>\n",
       "      <td>I don't get it.</td>\n",
       "    </tr>\n",
       "    <tr>\n",
       "      <th>2</th>\n",
       "      <td>0</td>\n",
       "      <td>Time to pay the xmas gifts.</td>\n",
       "    </tr>\n",
       "    <tr>\n",
       "      <th>3</th>\n",
       "      <td>0</td>\n",
       "      <td>78INHUOESBG7EXWR9Q2998888aW'34WERQ34;A5SERTZAI...</td>\n",
       "    </tr>\n",
       "    <tr>\n",
       "      <th>4</th>\n",
       "      <td>0</td>\n",
       "      <td>SAVE HIM RIOT #CatLivesMatter</td>\n",
       "    </tr>\n",
       "  </tbody>\n",
       "</table>\n",
       "</div>"
      ],
      "text/plain": [
       "   label                                            comment\n",
       "0      0                                Cue the Mongoltage!\n",
       "1      0                                    I don't get it.\n",
       "2      0                        Time to pay the xmas gifts.\n",
       "3      0  78INHUOESBG7EXWR9Q2998888aW'34WERQ34;A5SERTZAI...\n",
       "4      0                      SAVE HIM RIOT #CatLivesMatter"
      ]
     },
     "execution_count": 6,
     "metadata": {},
     "output_type": "execute_result"
    }
   ],
   "source": [
    "chosen_data.reset_index(inplace = True)\n",
    "chosen_data.drop(['level_0', 'level_1'], inplace = True, axis = 1)\n",
    "chosen_data.head()"
   ]
  },
  {
   "cell_type": "code",
   "execution_count": null,
   "metadata": {},
   "outputs": [],
   "source": []
  },
  {
   "cell_type": "markdown",
   "metadata": {},
   "source": [
    "Part 3: Exploratory Analysis & Data Visualization"
   ]
  },
  {
   "cell_type": "code",
   "execution_count": 7,
   "metadata": {},
   "outputs": [
    {
     "data": {
      "image/png": "[encoded data removed]",
      "text/plain": [
       "<Figure size 432x288 with 1 Axes>"
      ]
     },
     "metadata": {
      "needs_background": "light"
     },
     "output_type": "display_data"
    }
   ],
   "source": [
    "# Explore distribution of the data by label (0 -> non-sarcastic, 1 -> sarcastic)\n",
    "plt.hist(chosen_data.label)\n",
    "plt.xlabel('Label')\n",
    "plt.ylabel('Count')\n",
    "plt.title('Distribution of Comments by Label')\n",
    "plt.show()"
   ]
  },
  {
   "cell_type": "code",
   "execution_count": 8,
   "metadata": {},
   "outputs": [
    {
     "data": {
      "text/html": [
       "<div>\n",
       "<style scoped>\n",
       "    .dataframe tbody tr th:only-of-type {\n",
       "        vertical-align: middle;\n",
       "    }\n",
       "\n",
       "    .dataframe tbody tr th {\n",
       "        vertical-align: top;\n",
       "    }\n",
       "\n",
       "    .dataframe thead tr th {\n",
       "        text-align: left;\n",
       "    }\n",
       "\n",
       "    .dataframe thead tr:last-of-type th {\n",
       "        text-align: right;\n",
       "    }\n",
       "</style>\n",
       "<table border=\"1\" class=\"dataframe\">\n",
       "  <thead>\n",
       "    <tr>\n",
       "      <th></th>\n",
       "      <th colspan=\"4\" halign=\"left\">comment</th>\n",
       "    </tr>\n",
       "    <tr>\n",
       "      <th></th>\n",
       "      <th>count</th>\n",
       "      <th>unique</th>\n",
       "      <th>top</th>\n",
       "      <th>freq</th>\n",
       "    </tr>\n",
       "    <tr>\n",
       "      <th>label</th>\n",
       "      <th></th>\n",
       "      <th></th>\n",
       "      <th></th>\n",
       "      <th></th>\n",
       "    </tr>\n",
       "  </thead>\n",
       "  <tbody>\n",
       "    <tr>\n",
       "      <th>0</th>\n",
       "      <td>25269</td>\n",
       "      <td>24240</td>\n",
       "      <td>Thanks!</td>\n",
       "      <td>21</td>\n",
       "    </tr>\n",
       "    <tr>\n",
       "      <th>1</th>\n",
       "      <td>25269</td>\n",
       "      <td>24307</td>\n",
       "      <td>You forgot the</td>\n",
       "      <td>77</td>\n",
       "    </tr>\n",
       "  </tbody>\n",
       "</table>\n",
       "</div>"
      ],
      "text/plain": [
       "      comment                            \n",
       "        count unique             top freq\n",
       "label                                    \n",
       "0       25269  24240         Thanks!   21\n",
       "1       25269  24307  You forgot the   77"
      ]
     },
     "execution_count": 8,
     "metadata": {},
     "output_type": "execute_result"
    }
   ],
   "source": [
    "# Explore distribution of comments by label \n",
    "chosen_data.groupby('label').describe()"
   ]
  },
  {
   "cell_type": "code",
   "execution_count": 9,
   "metadata": {},
   "outputs": [
    {
     "name": "stdout",
     "output_type": "stream",
     "text": [
      "Requirement already satisfied: nltk in /opt/conda/lib/python3.7/site-packages (3.4.4)\n",
      "Requirement already satisfied: six in /opt/conda/lib/python3.7/site-packages (from nltk) (1.12.0)\n"
     ]
    }
   ],
   "source": [
    "#Import NLTK library\n",
    "!pip install nltk"
   ]
  },
  {
   "cell_type": "code",
   "execution_count": 10,
   "metadata": {},
   "outputs": [],
   "source": [
    "import nltk"
   ]
  },
  {
   "cell_type": "code",
   "execution_count": 11,
   "metadata": {},
   "outputs": [],
   "source": [
    "#nltk.download(\"all\")"
   ]
  },
  {
   "cell_type": "code",
   "execution_count": 11,
   "metadata": {},
   "outputs": [],
   "source": [
    "from nltk.corpus import stopwords #Use this to get rid off meaningless words like \"the, and, a\"\n",
    "from nltk.tokenize import word_tokenize #Split by word\n",
    "from nltk.tokenize import sent_tokenize #Split by sentence"
   ]
  },
  {
   "cell_type": "code",
   "execution_count": 12,
   "metadata": {},
   "outputs": [],
   "source": [
    "#Make sure all the comment column is str data type\n",
    "chosen_data['comment'] = chosen_data['comment'].astype(str)\n",
    "chosen_data['comment'] = chosen_data['comment'].astype(str)\n",
    "\n",
    "#non_sarcastic = required_data.loc[required_data['label'] == 0]\n",
    "#sarcastic = required_data.loc[required_data['label'] == 1]\n",
    "\n",
    "#drop rows with na values on the comment column\n",
    "#non_sarcastic['comment'].dropna(inplace=True)\n",
    "#sarcastic['comment'].dropna(inplace=True)\n",
    "\n",
    "#Make sure all the comment column is str data type\n",
    "#non_sarcastic['comment'] = non_sarcastic['comment'].astype(str)\n",
    "#sarcastic['comment'] = sarcastic['comment'].astype(str)\n",
    "#print(len(non_sarcastic), len(sarcastic))"
   ]
  },
  {
   "cell_type": "code",
   "execution_count": 13,
   "metadata": {},
   "outputs": [
    {
     "data": {
      "text/html": [
       "<div>\n",
       "<style scoped>\n",
       "    .dataframe tbody tr th:only-of-type {\n",
       "        vertical-align: middle;\n",
       "    }\n",
       "\n",
       "    .dataframe tbody tr th {\n",
       "        vertical-align: top;\n",
       "    }\n",
       "\n",
       "    .dataframe thead th {\n",
       "        text-align: right;\n",
       "    }\n",
       "</style>\n",
       "<table border=\"1\" class=\"dataframe\">\n",
       "  <thead>\n",
       "    <tr style=\"text-align: right;\">\n",
       "      <th></th>\n",
       "      <th>label</th>\n",
       "      <th>comment</th>\n",
       "      <th>POS_tag</th>\n",
       "    </tr>\n",
       "  </thead>\n",
       "  <tbody>\n",
       "    <tr>\n",
       "      <th>0</th>\n",
       "      <td>0</td>\n",
       "      <td>[Cue, the, Mongoltage, !]</td>\n",
       "      <td>[(Cue, NNP), (the, DT), (Mongoltage, NN), (!, .)]</td>\n",
       "    </tr>\n",
       "    <tr>\n",
       "      <th>1</th>\n",
       "      <td>0</td>\n",
       "      <td>[I, do, n't, get, it, .]</td>\n",
       "      <td>[(I, PRP), (do, VBP), (n't, RB), (get, VB), (i...</td>\n",
       "    </tr>\n",
       "    <tr>\n",
       "      <th>2</th>\n",
       "      <td>0</td>\n",
       "      <td>[Time, to, pay, the, xmas, gifts, .]</td>\n",
       "      <td>[(Time, NNP), (to, TO), (pay, VB), (the, DT), ...</td>\n",
       "    </tr>\n",
       "    <tr>\n",
       "      <th>3</th>\n",
       "      <td>0</td>\n",
       "      <td>[78INHUOESBG7EXWR9Q2998888aW'34WERQ34, ;, A5SE...</td>\n",
       "      <td>[(78INHUOESBG7EXWR9Q2998888aW'34WERQ34, CD), (...</td>\n",
       "    </tr>\n",
       "    <tr>\n",
       "      <th>4</th>\n",
       "      <td>0</td>\n",
       "      <td>[SAVE, HIM, RIOT, #, CatLivesMatter]</td>\n",
       "      <td>[(SAVE, NNP), (HIM, NNP), (RIOT, NNP), (#, #),...</td>\n",
       "    </tr>\n",
       "  </tbody>\n",
       "</table>\n",
       "</div>"
      ],
      "text/plain": [
       "   label                                            comment  \\\n",
       "0      0                          [Cue, the, Mongoltage, !]   \n",
       "1      0                           [I, do, n't, get, it, .]   \n",
       "2      0               [Time, to, pay, the, xmas, gifts, .]   \n",
       "3      0  [78INHUOESBG7EXWR9Q2998888aW'34WERQ34, ;, A5SE...   \n",
       "4      0               [SAVE, HIM, RIOT, #, CatLivesMatter]   \n",
       "\n",
       "                                             POS_tag  \n",
       "0  [(Cue, NNP), (the, DT), (Mongoltage, NN), (!, .)]  \n",
       "1  [(I, PRP), (do, VBP), (n't, RB), (get, VB), (i...  \n",
       "2  [(Time, NNP), (to, TO), (pay, VB), (the, DT), ...  \n",
       "3  [(78INHUOESBG7EXWR9Q2998888aW'34WERQ34, CD), (...  \n",
       "4  [(SAVE, NNP), (HIM, NNP), (RIOT, NNP), (#, #),...  "
      ]
     },
     "execution_count": 13,
     "metadata": {},
     "output_type": "execute_result"
    }
   ],
   "source": [
    "chosen_data['comment'] = chosen_data['comment'].apply(word_tokenize)\n",
    "chosen_data['POS_tag'] = chosen_data['comment'].apply(nltk.pos_tag)\n",
    "chosen_data.head()"
   ]
  },
  {
   "cell_type": "code",
   "execution_count": 15,
   "metadata": {},
   "outputs": [
    {
     "data": {
      "text/html": [
       "<div>\n",
       "<style scoped>\n",
       "    .dataframe tbody tr th:only-of-type {\n",
       "        vertical-align: middle;\n",
       "    }\n",
       "\n",
       "    .dataframe tbody tr th {\n",
       "        vertical-align: top;\n",
       "    }\n",
       "\n",
       "    .dataframe thead th {\n",
       "        text-align: right;\n",
       "    }\n",
       "</style>\n",
       "<table border=\"1\" class=\"dataframe\">\n",
       "  <thead>\n",
       "    <tr style=\"text-align: right;\">\n",
       "      <th></th>\n",
       "      <th>label</th>\n",
       "      <th>comment</th>\n",
       "      <th>POS_tag</th>\n",
       "      <th>stem</th>\n",
       "    </tr>\n",
       "  </thead>\n",
       "  <tbody>\n",
       "    <tr>\n",
       "      <th>0</th>\n",
       "      <td>0</td>\n",
       "      <td>[Cue, the, Mongoltage, !]</td>\n",
       "      <td>[(Cue, NNP), (the, DT), (Mongoltage, NN), (!, .)]</td>\n",
       "      <td>[cue, the, mongoltag, !]</td>\n",
       "    </tr>\n",
       "    <tr>\n",
       "      <th>1</th>\n",
       "      <td>0</td>\n",
       "      <td>[I, do, n't, get, it, .]</td>\n",
       "      <td>[(I, PRP), (do, VBP), (n't, RB), (get, VB), (i...</td>\n",
       "      <td>[i, do, n't, get, it, .]</td>\n",
       "    </tr>\n",
       "    <tr>\n",
       "      <th>2</th>\n",
       "      <td>0</td>\n",
       "      <td>[Time, to, pay, the, xmas, gifts, .]</td>\n",
       "      <td>[(Time, NNP), (to, TO), (pay, VB), (the, DT), ...</td>\n",
       "      <td>[time, to, pay, the, xmas, gift, .]</td>\n",
       "    </tr>\n",
       "    <tr>\n",
       "      <th>3</th>\n",
       "      <td>0</td>\n",
       "      <td>[78INHUOESBG7EXWR9Q2998888aW'34WERQ34, ;, A5SE...</td>\n",
       "      <td>[(78INHUOESBG7EXWR9Q2998888aW'34WERQ34, CD), (...</td>\n",
       "      <td>[78inhuoesbg7exwr9q2998888aw'34werq34, ;, a5se...</td>\n",
       "    </tr>\n",
       "    <tr>\n",
       "      <th>4</th>\n",
       "      <td>0</td>\n",
       "      <td>[SAVE, HIM, RIOT, #, CatLivesMatter]</td>\n",
       "      <td>[(SAVE, NNP), (HIM, NNP), (RIOT, NNP), (#, #),...</td>\n",
       "      <td>[save, him, riot, #, catlivesmatt]</td>\n",
       "    </tr>\n",
       "  </tbody>\n",
       "</table>\n",
       "</div>"
      ],
      "text/plain": [
       "   label                                            comment  \\\n",
       "0      0                          [Cue, the, Mongoltage, !]   \n",
       "1      0                           [I, do, n't, get, it, .]   \n",
       "2      0               [Time, to, pay, the, xmas, gifts, .]   \n",
       "3      0  [78INHUOESBG7EXWR9Q2998888aW'34WERQ34, ;, A5SE...   \n",
       "4      0               [SAVE, HIM, RIOT, #, CatLivesMatter]   \n",
       "\n",
       "                                             POS_tag  \\\n",
       "0  [(Cue, NNP), (the, DT), (Mongoltage, NN), (!, .)]   \n",
       "1  [(I, PRP), (do, VBP), (n't, RB), (get, VB), (i...   \n",
       "2  [(Time, NNP), (to, TO), (pay, VB), (the, DT), ...   \n",
       "3  [(78INHUOESBG7EXWR9Q2998888aW'34WERQ34, CD), (...   \n",
       "4  [(SAVE, NNP), (HIM, NNP), (RIOT, NNP), (#, #),...   \n",
       "\n",
       "                                                stem  \n",
       "0                           [cue, the, mongoltag, !]  \n",
       "1                           [i, do, n't, get, it, .]  \n",
       "2                [time, to, pay, the, xmas, gift, .]  \n",
       "3  [78inhuoesbg7exwr9q2998888aw'34werq34, ;, a5se...  \n",
       "4                 [save, him, riot, #, catlivesmatt]  "
      ]
     },
     "execution_count": 15,
     "metadata": {},
     "output_type": "execute_result"
    }
   ],
   "source": [
    "from nltk.stem.snowball import SnowballStemmer\n",
    "\n",
    "stemmer = SnowballStemmer(\"english\")\n",
    "\n",
    "chosen_data['stem'] = chosen_data['comment'].apply(lambda x: [stemmer.stem(y) for y in x])\n",
    "chosen_data.head()"
   ]
  },
  {
   "cell_type": "code",
   "execution_count": 72,
   "metadata": {},
   "outputs": [],
   "source": [
    "#data_len = len(data)\n",
    "#data1 = data.iloc[0:(int(data_len/4))].copy()\n",
    "#data1.tail()"
   ]
  },
  {
   "cell_type": "code",
   "execution_count": 73,
   "metadata": {},
   "outputs": [],
   "source": [
    "#data2 = data.iloc[(int(data_len/4)):(int(data_len/2))].copy()\n",
    "#data2.tail()"
   ]
  },
  {
   "cell_type": "code",
   "execution_count": 74,
   "metadata": {},
   "outputs": [],
   "source": [
    "#data3 = data.iloc[(int(data_len/2)):(int(3*data_len/4))].copy()\n",
    "#data3.tail()"
   ]
  },
  {
   "cell_type": "code",
   "execution_count": 75,
   "metadata": {},
   "outputs": [],
   "source": [
    "#data4 = data.iloc[(int(3*data_len/4)):].copy()\n",
    "#data4.tail()"
   ]
  },
  {
   "cell_type": "code",
   "execution_count": 76,
   "metadata": {},
   "outputs": [],
   "source": [
    "# data4['comment'] = data4['comment'].apply(word_tokenize)\n",
    "# data4.head()"
   ]
  },
  {
   "cell_type": "code",
   "execution_count": 77,
   "metadata": {},
   "outputs": [],
   "source": [
    "# data4['POS_tag'] = data4['comment'].apply(nltk.pos_tag)\n",
    "# data4.head()"
   ]
  },
  {
   "cell_type": "code",
   "execution_count": 78,
   "metadata": {},
   "outputs": [],
   "source": [
    "# data4['stem'] = data4['comment'].apply(lambda x: [stemmer.stem(y) for y in x])\n",
    "# data4.head()"
   ]
  },
  {
   "cell_type": "code",
   "execution_count": 79,
   "metadata": {},
   "outputs": [],
   "source": [
    "# data3['comment'] = data3['comment'].apply(word_tokenize)\n",
    "# data3['POS_tag'] = data3['comment'].apply(nltk.pos_tag)\n",
    "# data3['stem'] = data3['comment'].apply(lambda x: [stemmer.stem(y) for y in x])\n",
    "# data3.head()"
   ]
  },
  {
   "cell_type": "code",
   "execution_count": 80,
   "metadata": {},
   "outputs": [],
   "source": [
    "# data2['comment'] = data2['comment'].apply(word_tokenize)\n",
    "# data2['POS_tag'] = data2['comment'].apply(nltk.pos_tag)\n",
    "# data2['stem'] = data2['comment'].apply(lambda x: [stemmer.stem(y) for y in x])\n",
    "# data2.head()"
   ]
  },
  {
   "cell_type": "code",
   "execution_count": 81,
   "metadata": {},
   "outputs": [],
   "source": [
    "# data1['comment'] = data1['comment'].apply(word_tokenize)\n",
    "# data1['POS_tag'] = data1['comment'].apply(nltk.pos_tag)\n",
    "# data1['stem'] = data1['comment'].apply(lambda x: [stemmer.stem(y) for y in x])\n",
    "# data1.head()"
   ]
  },
  {
   "cell_type": "code",
   "execution_count": 82,
   "metadata": {},
   "outputs": [],
   "source": [
    "#Divide the required data set in half to ease later comment transformations\n",
    "# df1 = data.iloc[0:(int(len(data)/2))].copy()\n",
    "# df1.tail()"
   ]
  },
  {
   "cell_type": "code",
   "execution_count": 83,
   "metadata": {},
   "outputs": [],
   "source": [
    "# df2 = data.iloc[(int(len(data)/2)):].copy()\n",
    "# df2.tail()"
   ]
  },
  {
   "cell_type": "code",
   "execution_count": 17,
   "metadata": {},
   "outputs": [],
   "source": [
    "#df1['tokenized_by_sent'] = df1['comment'].apply(sent_tokenize)\n",
    "#df2['tokenized_by_sent'] = df2['comment'].apply(sent_tokenize)\n",
    "\n",
    "#data['tokenized_by_sent'] = data['comment'].apply(sent_tokenize)\n",
    "#data['tokenized_by_word'] = data['comment'].apply(word_tokenize)\n",
    "#word = word_tokenize(sarcastic['comment'].iloc[56269])\n",
    "#word\n",
    "#note to nour, so when i try to do the first line of code it shows that index 56269 has an error but when i try to \n",
    "#individually tokenized that index, it works. Not sure how to fix this.\n",
    "\n",
    "# note to Juan: Fixed by making dropna function is working correctly"
   ]
  },
  {
   "cell_type": "code",
   "execution_count": 84,
   "metadata": {},
   "outputs": [],
   "source": [
    "# Tokenize by word first half\n",
    "\n",
    "# df1['comment'] = df1['comment'].apply(word_tokenize)\n",
    "# df1.head()"
   ]
  },
  {
   "cell_type": "code",
   "execution_count": 85,
   "metadata": {},
   "outputs": [],
   "source": [
    "# Tokenize by word second half\n",
    "\n",
    "# df2['comment'] = df2['comment'].apply(word_tokenize)\n",
    "# df2.head()"
   ]
  },
  {
   "cell_type": "code",
   "execution_count": 86,
   "metadata": {},
   "outputs": [],
   "source": [
    "# Parts of Speech tagging first half\n",
    "\n",
    "# df1['POS_tag'] = df1['comment'].apply(nltk.pos_tag)\n",
    "# df1.head()\n",
    "\n",
    "#data['POS_tag'] = data['tokenized_by_word'].apply(nltk.pos_tag)\n",
    "#nltk.pos_tag(data.iloc[0, 5])\n",
    "#entities = nltk.chunk.ne_chunk( nltk.pos_tag(data.iloc[1, 5]))\n",
    "#entities.draw()"
   ]
  },
  {
   "cell_type": "code",
   "execution_count": 87,
   "metadata": {},
   "outputs": [],
   "source": [
    "# Parts of Speech tagging second half\n",
    "\n",
    "# df2['POS_tag'] = df2['comment'].apply(nltk.pos_tag)\n",
    "# df2.head()"
   ]
  },
  {
   "cell_type": "code",
   "execution_count": 88,
   "metadata": {},
   "outputs": [],
   "source": [
    "#data.head()\n",
    "# df1_len = len(df1)\n",
    "# df2_len = len(df2)\n",
    "# df14 = df1.iloc[0:int(df1_len/2)].copy()\n",
    "# df24 = df1.iloc[(int(df1_len/2)):].copy()\n",
    "# df34 = df2.iloc[0:int(df2_len/2)].copy()\n",
    "# df44 = df2.iloc[(int(df2_len/2)):].copy()"
   ]
  },
  {
   "cell_type": "code",
   "execution_count": 89,
   "metadata": {},
   "outputs": [],
   "source": [
    "# Stemming\n",
    "#from nltk.stem import PorterStemmer\n",
    "\n",
    "#data['stem'] = data['tokenized_by_word'].apply(lambda x: [PorterStemmer.stem(y) for y in x])\n",
    "\n",
    "# from nltk.stem.snowball import SnowballStemmer\n",
    "\n",
    "# stemmer = SnowballStemmer(\"english\")\n",
    "\n",
    "# df14['stem'] = df14['comment'].apply(lambda x: [stemmer.stem(y) for y in x])\n",
    "# df14.head()"
   ]
  },
  {
   "cell_type": "code",
   "execution_count": 90,
   "metadata": {},
   "outputs": [],
   "source": [
    "# df24['stem'] = df24['comment'].apply(lambda x: [stemmer.stem(y) for y in x])\n",
    "# df24.head()\n",
    "#df2['stem'] = df2['tokenized_by_word'].apply(lambda x: [stemmer.stem(y) for y in x])\n",
    "#df2.head()"
   ]
  },
  {
   "cell_type": "code",
   "execution_count": 91,
   "metadata": {},
   "outputs": [],
   "source": [
    "# df34['stem'] = df34['comment'].apply(lambda x: [stemmer.stem(y) for y in x])\n",
    "# df34.head()"
   ]
  },
  {
   "cell_type": "code",
   "execution_count": 92,
   "metadata": {},
   "outputs": [],
   "source": [
    "# df44['stem'] = df44['comment'].apply(lambda x: [stemmer.stem(y) for y in x])\n",
    "# df44.head()"
   ]
  },
  {
   "cell_type": "code",
   "execution_count": 93,
   "metadata": {},
   "outputs": [],
   "source": [
    "#from nltk.stem import WordNetLemmatizer\n",
    "#data['lemma'] = data['tokenized_by_word'].apply(WordNetLemmatizer)\n",
    "# df14.append(df24.append(df34.append(df44)))\n",
    "# df14.tail()"
   ]
  },
  {
   "cell_type": "markdown",
   "metadata": {},
   "source": [
    "### Predicting Sarcasm\n",
    "\n",
    "We were interested in trying different models for predicting a sarcastic comment.\n",
    "To determine the features and labels for the analysis, we decided to look at the comment itself as a feature and use the given sarcastic vs non-sarcastic classification as our label."
   ]
  },
  {
   "cell_type": "code",
   "execution_count": 16,
   "metadata": {},
   "outputs": [],
   "source": [
    "from sklearn.model_selection import train_test_split\n",
    "from sklearn.metrics import confusion_matrix\n",
    "from sklearn.svm import LinearSVC\n",
    "from sklearn.model_selection import cross_val_score\n",
    "from sklearn.naive_bayes import GaussianNB\n",
    "from sklearn.linear_model import LogisticRegression\n",
    "from sklearn.ensemble import RandomForestClassifier"
   ]
  },
  {
   "cell_type": "code",
   "execution_count": 17,
   "metadata": {},
   "outputs": [],
   "source": [
    "# Determine the features and labels for the models\n",
    "features = chosen_data['stem'].apply(lambda x: ' '.join(x))\n",
    "labels = chosen_data['label']"
   ]
  },
  {
   "cell_type": "code",
   "execution_count": 20,
   "metadata": {},
   "outputs": [],
   "source": [
    "#list(features)"
   ]
  },
  {
   "cell_type": "code",
   "execution_count": 26,
   "metadata": {},
   "outputs": [],
   "source": [
    "# TF-IDF to vectorize the data\n",
    "\n",
    "from sklearn.feature_extraction.text import TfidfVectorizer\n",
    "vectorizer = TfidfVectorizer(max_features = 5000) # ask about max features\n",
    "features = list(features)\n",
    "X = vectorizer.fit_transform(features)"
   ]
  },
  {
   "cell_type": "code",
   "execution_count": 28,
   "metadata": {},
   "outputs": [
    {
     "name": "stdout",
     "output_type": "stream",
     "text": [
      "['00', '000', '05', '10', '100', '1000', '1050', '1060', '1070', '1080', '1080p', '11', '110', '12', '1200', '13', '14', '15', '150', '16', '17', '18', '19', '1m', '1st', '1v1', '20', '200', '2000', '2006', '2008', '2010', '2011', '2012', '2013', '2014', '2015', '2016', '2017', '2018', '2020', '20th', '21', '22', '23', '24', '24fps', '25', '250', '26', '27', '28', '29', '2k', '2nd', '30', '300', '30fps', '32', '34', '35', '350', '36', '360', '37', '38', '390', '3d', '3rd', '40', '400', '42', '420', '45', '46', '47', '48', '480', '4chan', '4k', '4th', '50', '500', '5000', '51', '55', '5th', '60', '600', '60fps', '64', '65', '68', '6th', '70', '700', '720p', '75', '76', '80', '85', '8k', '90', '90s', '95', '98', '99', '9mm', 'aaa', 'ab', 'abandon', 'abil', 'abl', 'abomin', 'abort', 'about', 'abov', 'absolut', 'abus', 'ac', 'academ', 'acc', 'acceler', 'accent', 'accept', 'access', 'accid', 'accident', 'accomplish', 'accord', 'account', 'accur', 'accuraci', 'accus', 'ace', 'achiev', 'acid', 'acknowledg', 'acquir', 'across', 'act', 'action', 'activ', 'actor', 'actual', 'ad', 'adam', 'adapt', 'adblock', 'adc', 'add', 'addict', 'addit', 'address', 'adjust', 'administr', 'admir', 'admit', 'adob', 'adopt', 'ador', 'adult', 'advanc', 'advantag', 'adventur', 'advertis', 'advic', 'advis', 'advoc', 'aesthet', 'af', 'afaik', 'afc', 'affect', 'afford', 'afghanistan', 'afk', 'afraid', 'africa', 'african', 'after', 'afterlif', 'afternoon', 'afterward', 'again', 'against', 'age', 'agenc', 'agenda', 'agent', 'aggress', 'aggro', 'ago', 'agre', 'agreement', 'ah', 'ahead', 'ahem', 'ahh', 'ahhh', 'ai', 'aid', 'aim', 'air', 'airlin', 'airplan', 'airport', 'aisl', 'ak', 'aka', 'al', 'ala', 'alabama', 'alan', 'album', 'alcohol', 'alert', 'alex', 'alien', 'align', 'alik', 'aliv', 'alive', 'all', 'allah', 'alleg', 'allen', 'alli', 'allow', 'almost', 'alon', 'along', 'alot', 'alpha', 'alreadi', 'alright', 'also', 'alt', 'alter', 'altern', 'although', 'alway', 'am', 'ama', 'amaz', 'amazon', 'amd', 'amend', 'america', 'american', 'amiibo', 'amiright', 'amirit', 'ammo', 'among', 'amount', 'amp', 'amus', 'an', 'anal', 'analog', 'analysi', 'anarchist', 'ancestor', 'ancient', 'and', 'anderson', 'andr', 'android', 'anecdot', 'angel', 'anger', 'angl', 'angri', 'ani', 'anim', 'anniversari', 'announc', 'annoy', 'anonym', 'anoth', 'answer', 'ant', 'anthoni', 'anti', 'antiqu', 'anxieti', 'anybodi', 'anymor', 'anyon', 'anyth', 'anytim', 'anyway', 'anywher', 'ao', 'ap', 'apart', 'ape', 'apolog', 'apologist', 'app', 'appar', 'appeal', 'appear', 'appl', 'appli', 'applic', 'appoint', 'appreci', 'approach', 'appropri', 'approv', 'april', 'ar', 'arab', 'arabia', 'arc', 'are', 'area', 'arena', 'arent', 'argu', 'arguabl', 'argument', 'arizona', 'arm', 'armi', 'armor', 'armour', 'around', 'arrest', 'arriv', 'arrog', 'arrow', 'ars', 'arsenal', 'art', 'articl', 'artifici', 'artist', 'as', 'asap', 'asham', 'asia', 'asian', 'asid', 'ask', 'aspect', 'ass', 'assang', 'assassin', 'assault', 'assembl', 'assert', 'asset', 'asshol', 'assign', 'assist', 'associ', 'assum', 'assumpt', 'assur', 'aswel', 'at', 'ate', 'atheism', 'atheist', 'athlet', 'atlanta', 'atleast', 'atm', 'attach', 'attack', 'attempt', 'attend', 'attent', 'attitud', 'attract', 'au', 'auburn', 'audienc', 'audio', 'audit', 'aunt', 'aussi', 'austin', 'australia', 'australian', 'author', 'autism', 'autist', 'auto', 'automat', 'av', 'avail', 'aveng', 'averag', 'avoid', 'aw', 'awar', 'award', 'away', 'awesom', 'awkward', 'aww', 'axe', 'aye', 'ayi', 'b4', 'ba', 'babi', 'back', 'backdoor', 'backfir', 'background', 'backpack', 'backup', 'backward', 'bacon', 'bad', 'badass', 'badg', 'bag', 'bake', 'balanc', 'bald', 'ball', 'balloon', 'ballot', 'bama', 'ban', 'banana', 'band', 'bandwagon', 'bang', 'bank', 'banker', 'bankrupt', 'banner', 'banter', 'bar', 'barb', 'barca', 'bare', 'baron', 'barrel', 'barri', 'bas', 'base', 'basebal', 'basement', 'bash', 'basi', 'basic', 'basket', 'basketbal', 'bass', 'bastard', 'bastion', 'bat', 'bath', 'bathroom', 'batman', 'batteri', 'battl', 'battlefield', 'bay', 'bazinga', 'bb', 'bbc', 'bc', 'be', 'beach', 'beam', 'bean', 'bear', 'beard', 'beast', 'beat', 'beaten', 'beater', 'beauti', 'becam', 'becaus', 'becom', 'bed', 'bedroom', 'beef', 'been', 'beer', 'befor', 'beg', 'begin', 'behav', 'behavior', 'behaviour', 'behind', 'belgium', 'belief', 'believ', 'bell', 'belong', 'below', 'belt', 'ben', 'bench', 'benchmark', 'bend', 'benefit', 'bennett', 'berni', 'besid', 'best', 'bet', 'beta', 'bethesda', 'better', 'between', 'beyond', 'bi', 'bias', 'bibl', 'big', 'bigger', 'biggest', 'bigot', 'bigotri', 'bike', 'bill', 'billi', 'billion', 'billionair', 'bind', 'bingo', 'biolog', 'bird', 'birth', 'birthday', 'bisexu', 'bit', 'bitch', 'bitcoin', 'bite', 'bitter', 'bjergsen', 'bla', 'black', 'blacklist', 'blade', 'blah', 'blame', 'blank', 'blast', 'blatant', 'blaze', 'bleach', 'bleed', 'blend', 'blep', 'bless', 'blind', 'blink', 'blizz', 'blizzard', 'blm', 'block', 'blond', 'blood', 'bloodi', 'blow', 'blown', 'blue', 'bmw', 'board', 'boat', 'bob', 'bobbi', 'bodi', 'bodili', 'boi', 'boil', 'bolt', 'bomb', 'bomber', 'bone', 'boner', 'bonus', 'boo', 'boob', 'book', 'boom', 'boost', 'boot', 'booz', 'border', 'bore', 'born', 'boss', 'boston', 'bot', 'both', 'bother', 'bottl', 'bottom', 'bought', 'bounc', 'bound', 'bout', 'bow', 'bowl', 'box', 'boy', 'boycott', 'boyfriend', 'bracket', 'bradford', 'bradi', 'brag', 'brah', 'brain', 'brainwash', 'brake', 'branch', 'brand', 'brave', 'brawl', 'brazil', 'brazilian', 'brb', 'bread', 'break', 'breaker', 'breakfast', 'breast', 'breath', 'breed', 'brew', 'brick', 'bridg', 'brigad', 'bright', 'brilliant', 'bring', 'brit', 'britain', 'british', 'bro', 'broadcast', 'broke', 'broken', 'bronco', 'bronz', 'bros', 'brother', 'brought', 'brown', 'brows', 'browser', 'bruce', 'bruh', 'brush', 'brutal', 'bryan', 'bs', 'btw', 'bu', 'bubbl', 'buck', 'bucket', 'bud', 'buddi', 'budget', 'buf', 'buff', 'buffalo', 'bug', 'build', 'built', 'bulk', 'bull', 'bullet', 'bulli', 'bullshit', 'bum', 'bump', 'bunch', 'bundl', 'bungi', 'bunni', 'burden', 'burger', 'buri', 'burn', 'burst', 'bus', 'bush', 'busi', 'bust', 'but', 'butcher', 'butt', 'butter', 'butthurt', 'button', 'buy', 'buzzfe', 'by', 'bye', 'c9', 'ca', 'cab', 'cabl', 'cage', 'cake', 'cal', 'calcul', 'calendar', 'calgari', 'calib', 'california', 'call', 'calm', 'calori', 'cam', 'came', 'camera', 'cameron', 'cammer', 'camo', 'camp', 'campaign', 'campus', 'can', 'canada', 'canadian', 'cancel', 'cancer', 'candi', 'candid', 'candl', 'cane', 'cannon', 'canon', 'cant', 'cap', 'capabl', 'capac', 'cape', 'capit', 'capitalist', 'captain', 'captur', 'car', 'carb', 'carbon', 'card', 'cardboard', 'care', 'career', 'carolina', 'carri', 'carrier', 'carrot', 'cart', 'cartel', 'cartoon', 'case', 'cash', 'cast', 'castl', 'casual', 'cat', 'catch', 'cathol', 'caught', 'caus', 'cav', 'cave', 'cb', 'cbs', 'cc', 'cd', 'ceas', 'celebr', 'cell', 'cena', 'censor', 'censorship', 'cent', 'center', 'central', 'centuri', 'ceo', 'cert', 'certain', 'certif', 'certifi', 'cgi', 'chain', 'chair', 'challeng', 'chamber', 'champ', 'champion', 'championship', 'chanc', 'chang', 'channel', 'charact', 'charg', 'charger', 'chariti', 'charm', 'chase', 'chat', 'che', 'cheap', 'cheaper', 'cheat', 'cheater', 'check', 'checkmat', 'cheer', 'chees', 'chelsea', 'chemic', 'cherri', 'chess', 'chest', 'chew', 'chicago', 'chick', 'chicken', 'chief', 'child', 'childhood', 'childish', 'children', 'chill', 'china', 'chines', 'chip', 'chocol', 'choic', 'choke', 'choo', 'choos', 'chorus', 'chose', 'chosen', 'chris', 'christ', 'christian', 'christma', 'chrome', 'chuck', 'church', 'cia', 'cigarett', 'cinemat', 'circl', 'circlejerk', 'cis', 'citat', 'cite', 'citi', 'citizen', 'civic', 'civil', 'civilian', 'claim', 'clan', 'clap', 'clarifi', 'clash', 'class', 'classi', 'classic', 'classifi', 'clean', 'clear', 'clever', 'clg', 'click', 'clickbait', 'client', 'climat', 'climb', 'clinic', 'clinton', 'clip', 'clock', 'clone', 'close', 'closer', 'closest', 'closet', 'cloth', 'cloud', 'club', 'clue', 'clutch', 'cm', 'cmon', 'cnn', 'co', 'coach', 'coal', 'coast', 'coaster', 'coat', 'cocain', 'cock', 'cod', 'code', 'coffe', 'coin', 'coincid', 'coke', 'cold', 'cole', 'collaps', 'collect', 'colleg', 'color', 'colorado', 'colour', 'colt', 'combat', 'combin', 'combo', 'comcast', 'come', 'comeback', 'comedi', 'comfort', 'comic', 'comma', 'command', 'comment', 'commentari', 'commerci', 'commi', 'commit', 'committe', 'common', 'communic', 'communism', 'communist', 'communiti', 'commut', 'comp', 'compani', 'compar', 'comparison', 'compat', 'compens', 'compet', 'competit', 'compil', 'complain', 'complaint', 'complet', 'complex', 'compliment', 'compon', 'comprehens', 'compromis', 'comput', 'comrad', 'con', 'conceal', 'concept', 'concern', 'concert', 'conclus', 'concret', 'concuss', 'condemn', 'condescend', 'condit', 'condom', 'condon', 'conduct', 'confeder', 'confer', 'confid', 'confirm', 'conflict', 'confus', 'congrat', 'congratul', 'congress', 'connect', 'conor', 'consent', 'consequ', 'conserv', 'consid', 'consider', 'consist', 'consol', 'conspiraci', 'constant', 'constitu', 'constitut', 'construct', 'consum', 'consumpt', 'contact', 'contain', 'contend', 'content', 'contest', 'context', 'continu', 'contract', 'contradict', 'contribut', 'control', 'controversi', 'conveni', 'convent', 'convers', 'convert', 'convict', 'convinc', 'cook', 'cooki', 'cool', 'cooldown', 'cooler', 'cooper', 'cop', 'copi', 'copy', 'copyright', 'corbyn', 'core', 'corn', 'corner', 'corp', 'corpor', 'correct', 'correl', 'corrupt', 'cos', 'cost', 'costum', 'couch', 'cough', 'could', 'couldnt', 'council', 'count', 'counter', 'counti', 'countri', 'coupl', 'courag', 'courier', 'cours', 'court', 'cousin', 'cover', 'coverag', 'cow', 'cowboy', 'cp', 'cpu', 'crack', 'craft', 'craigslist', 'crap', 'crappi', 'crash', 'crate', 'crazi', 'cream', 'creat', 'creation', 'creativ', 'creator', 'creatur', 'credibl', 'credit', 'creed', 'creep', 'creeper', 'creepi', 'crew', 'cri', 'crime', 'crimin', 'cring', 'crisi', 'crit', 'critic', 'critiqu', 'crook', 'crop', 'cross', 'crow', 'crowd', 'crown', 'crucial', 'cruel', 'crusad', 'crush', 'cruz', 'crystal', 'cs', 'csgo', 'ctr', 'cu', 'cuba', 'cuban', 'cuck', 'cue', 'cult', 'cultur', 'cum', 'cunt', 'cup', 'curb', 'cure', 'curios', 'curious', 'curl', 'currenc', 'current', 'curri', 'curs', 'curtain', 'curv', 'custom', 'cut', 'cute', 'cuz', 'cycl', 'cyclist', 'da', 'dab', 'dad', 'daddi', 'dae', 'daili', 'dalla', 'dam', 'damag', 'dammit', 'damn', 'damnit', 'dan', 'danc', 'dang', 'danger', 'daniel', 'dank', 'dare', 'dark', 'darker', 'darn', 'das', 'dash', 'dat', 'data', 'databas', 'date', 'daughter', 'dave', 'davi', 'david', 'dawn', 'day', 'dayz', 'dc', 'de', 'dead', 'deal', 'dear', 'death', 'debat', 'debt', 'decad', 'decemb', 'decent', 'decid', 'decis', 'deck', 'declar', 'declin', 'decor', 'dedic', 'deep', 'deeper', 'deepli', 'def', 'default', 'defeat', 'defenc', 'defend', 'defens', 'defin', 'definit', 'deflat', 'degre', 'del', 'delay', 'deleg', 'delet', 'deliber', 'delici', 'deliv', 'deliveri', 'delusion', 'dem', 'demand', 'demo', 'democraci', 'democrat', 'demograph', 'demon', 'demonstr', 'den', 'deni', 'denial', 'depart', 'depend', 'depict', 'deploy', 'deport', 'depress', 'depriv', 'depth', 'der', 'deriv', 'derrick', 'describ', 'descript', 'desert', 'deserv', 'design', 'desir', 'desk', 'desktop', 'desper', 'despit', 'destin', 'destini', 'destroy', 'destruct', 'detail', 'detect', 'determin', 'detroit', 'dev', 'devalu', 'develop', 'devic', 'devil', 'dew', 'di', 'dialogu', 'diamond', 'diaz', 'dice', 'dick', 'dictat', 'did', 'didnt', 'die', 'diego', 'diet', 'differ', 'differenti', 'difficult', 'difficulti', 'dig', 'digger', 'digit', 'ding', 'dinner', 'dinosaur', 'dip', 'diplomat', 'direct', 'director', 'dirt', 'dirti', 'dis', 'disabl', 'disagr', 'disagre', 'disappear', 'disappoint', 'disast', 'disc', 'disciplin', 'disconnect', 'discount', 'discourag', 'discov', 'discrimin', 'discuss', 'diseas', 'disguis', 'disgust', 'disk', 'dislik', 'disney', 'disord', 'display', 'dispos', 'disregard', 'disrespect', 'disrupt', 'distanc', 'distinct', 'distinguish', 'distract', 'distribut', 'disturb', 'ditch', 'ditto', 'dive', 'divers', 'divid', 'divis', 'divorc', 'dj', 'dlc', 'dmg', 'dna', 'dnc', 'do', 'doc', 'dock', 'doctor', 'document', 'documentari', 'dodg', 'doe', 'doesnt', 'dog', 'doin', 'doll', 'dollar', 'dolphin', 'dom', 'domest', 'domin', 'don', 'donald', 'donat', 'done', 'dong', 'dont', 'donut', 'doo', 'doom', 'door', 'dope', 'dose', 'dot', 'dota', 'doubl', 'doubt', 'douch', 'douchebag', 'doug', 'down', 'download', 'downtown', 'downvot', 'dozen', 'dps', 'dr', 'draft', 'drag', 'dragon', 'drain', 'drake', 'drama', 'draw', 'drawn', 'dream', 'dress', 'drew', 'dri', 'drill', 'drink', 'drive', 'driven', 'driver', 'droid', 'drone', 'drop', 'drove', 'drown', 'drug', 'drumpf', 'drunk', 'dual', 'dub', 'dubstep', 'duck', 'duct', 'dude', 'due', 'duel', 'duh', 'duke', 'dumb', 'dumbass', 'dump', 'dumpster', 'dungeon', 'dunno', 'duo', 'dure', 'durr', 'dust', 'dutch', 'duti', 'dvd', 'dwight', 'dynam', 'ea', 'each', 'eachoth', 'eagl', 'ear', 'earli', 'earlier', 'earn', 'earth', 'easi', 'easier', 'easili', 'east', 'eastern', 'eat', 'eaten', 'ebay', 'echo', 'econom', 'economi', 'ed', 'eddi', 'edg', 'edgi', 'edit', 'educ', 'ee', 'een', 'effect', 'effici', 'effort', 'eg', 'egg', 'ego', 'eh', 'ein', 'either', 'el', 'elabor', 'elder', 'elect', 'elector', 'electr', 'electron', 'element', 'eleph', 'eli5', 'elimin', 'elit', 'elitist', 'elo', 'eloqu', 'els', 'em', 'email', 'embarrass', 'emblem', 'embrac', 'emerg', 'eminem', 'emot', 'empathi', 'emperor', 'empir', 'employ', 'employe', 'empti', 'emul', 'en', 'enabl', 'encount', 'encourag', 'encrypt', 'end', 'endors', 'enemi', 'energi', 'enforc', 'engag', 'engin', 'england', 'english', 'enhanc', 'enjoy', 'enlighten', 'enough', 'ensur', 'enter', 'enterpris', 'entertain', 'enthusiast', 'entir', 'entireti', 'entitl', 'entri', 'envi', 'environ', 'epic', 'episod', 'equal', 'equat', 'equip', 'equival', 'er', 'era', 'eric', 'error', 'es', 'escal', 'escap', 'especi', 'espn', 'essenti', 'est', 'establish', 'estim', 'etc', 'etern', 'ethic', 'ethnic', 'eu', 'euro', 'europ', 'european', 'evalu', 'evan', 'eve', 'even', 'event', 'eventu', 'ever', 'everi', 'everybodi', 'everyday', 'everyon', 'everyth', 'everytim', 'everywher', 'evid', 'evil', 'evolut', 'evolv', 'ew', 'ex', 'exact', 'exam', 'exampl', 'excel', 'except', 'excess', 'exchang', 'excit', 'exclud', 'exclus', 'excus', 'execut', 'exempt', 'exercis', 'exhaust', 'exist', 'exot', 'expand', 'expans', 'expect', 'expens', 'experi', 'experienc', 'expert', 'expir', 'explain', 'explan', 'explicit', 'explod', 'exploit', 'explor', 'explos', 'expos', 'exposur', 'express', 'extend', 'extens', 'extra', 'extrem', 'extremist', 'eye', 'eyebal', 'ez', 'f1', 'f2p', 'fa', 'fabric', 'face', 'facebook', 'facial', 'fact', 'factor', 'factori', 'factual', 'fade', 'fag', 'faggot', 'fail', 'failur', 'fair', 'fairi', 'faith', 'fake', 'faker', 'falcon', 'fall', 'fallaci', 'fallout', 'fals', 'fam', 'fame', 'famili', 'familiar', 'famous', 'fan', 'fanboy', 'fanci', 'fantasi', 'fantast', 'fap', 'far', 'fare', 'farm', 'fart', 'farther', 'fascist', 'fashion', 'fast', 'faster', 'fat', 'father', 'fatti', 'fault', 'favor', 'favorit', 'favourit', 'faze', 'fbi', 'fear', 'featur', 'fed', 'feder', 'fedora', 'fee', 'feed', 'feeder', 'feel', 'feet', 'fell', 'fellow', 'feloni', 'felt', 'fema', 'femal', 'femin', 'feminazi', 'feminist', 'fenc', 'ferrari', 'festiv', 'fetch', 'fetish', 'fetus', 'feud', 'few', 'fewer', 'ff', 'ffs', 'fiber', 'fiction', 'field', 'fifa', 'fifth', 'fight', 'fighter', 'figur', 'fil', 'file', 'fill', 'filler', 'film', 'filter', 'filthi', 'final', 'financ', 'financi', 'find', 'fine', 'finger', 'finish', 'finit', 'fiora', 'fire', 'firearm', 'firefight', 'firework', 'firm', 'first', 'fish', 'fist', 'fit', 'fitz', 'five', 'fix', 'flag', 'flair', 'flame', 'flash', 'flashback', 'flat', 'flavor', 'flaw', 'flawless', 'flee', 'flesh', 'flex', 'fli', 'flight', 'flip', 'flirt', 'float', 'flood', 'floor', 'flop', 'florida', 'flow', 'fluid', 'fnatic', 'fo', 'focus', 'fodder', 'foil', 'fold', 'folk', 'follow', 'fond', 'font', 'food', 'fool', 'foot', 'footag', 'footbal', 'for', 'forbid', 'forc', 'ford', 'foreign', 'forest', 'forev', 'forget', 'forgiv', 'forgot', 'forgotten', 'fork', 'form', 'format', 'former', 'fort', 'fortun', 'forum', 'forward', 'foster', 'fought', 'foul', 'found', 'foundat', 'founder', 'fountain', 'four', 'fox', 'fps', 'fraction', 'frag', 'frame', 'framer', 'franc', 'franchis', 'francisco', 'frank', 'franklin', 'fraud', 'fre', 'freak', 'freddi', 'free', 'freedom', 'freeman', 'freez', 'french', 'frequenc', 'frequent', 'fresh', 'fri', 'friday', 'fridg', 'friend', 'friendship', 'frog', 'from', 'front', 'frontpag', 'frozen', 'fruit', 'frustrat', 'ft', 'ftfi', 'ftw', 'fuck', 'fucker', 'fuckin', 'fuel', 'full', 'fulli', 'fun', 'function', 'fund', 'fundament', 'funni', 'fur', 'furi', 'furious', 'furnitur', 'further', 'fusion', 'futur', 'fyi', 'g2', 'ga', 'gaben', 'gain', 'gal', 'galaxi', 'gallon', 'gam', 'gambl', 'game', 'gameplay', 'gamer', 'gang', 'gangster', 'gap', 'garag', 'garbag', 'garden', 'gari', 'gas', 'gasolin', 'gate', 'gather', 'gave', 'gay', 'gb', 'gdp', 'gear', 'gee', 'geez', 'gem', 'gen', 'gender', 'gene', 'general', 'generat', 'generic', 'genet', 'genit', 'genius', 'genji', 'genocid', 'genr', 'gentleman', 'gentlemen', 'genuin', 'georg', 'georgia', 'german', 'germani', 'get', 'gf', 'gg', 'ghetto', 'ghost', 'giant', 'gif', 'gift', 'gig', 'giggl', 'gild', 'gim', 'girl', 'girlfriend', 'git', 'give', 'giveaway', 'given', 'glad', 'glass', 'glitch', 'global', 'globe', 'glori', 'glorious', 'glove', 'glue', 'gluten', 'gm', 'go', 'goal', 'goali', 'goat', 'goblin', 'god', 'goddamn', 'goe', 'goku', 'gold', 'golden', 'golem', 'golf', 'gon', 'gone', 'good', 'goodby', 'goodel', 'goofi', 'googl', 'goon', 'gop', 'gordon', 'gore', 'gorgeous', 'gorilla', 'gosh', 'got', 'gotcha', 'gotten', 'govern', 'governor', 'govt', 'gp', 'gpu', 'grab', 'grace', 'grade', 'graduat', 'gram', 'grammar', 'grand', 'grandma', 'grant', 'grape', 'graphic', 'grasp', 'grass', 'grate', 'grave', 'graviti', 'great', 'greater', 'greatest', 'greedi', 'greek', 'green', 'grenad', 'grew', 'grey', 'grill', 'grind', 'grip', 'groceri', 'gross', 'ground', 'group', 'grow', 'grown', 'growth', 'grump', 'gt', 'gta', 'gtfo', 'gtx', 'guarante', 'guard', 'guardian', 'gud', 'guess', 'guest', 'guid', 'guild', 'guilti', 'guis', 'guitar', 'gullibl', 'gun', 'gunna', 'gut', 'guy', 'gym', 'ha', 'hab', 'habit', 'hack', 'hacker', 'had', 'hah', 'haha', 'hahaha', 'hahahaha', 'hai', 'hail', 'hair', 'half', 'halfway', 'hall', 'halloween', 'halo', 'hama', 'hamilton', 'hammer', 'hand', 'handi', 'handl', 'hang', 'hank', 'happen', 'happi', 'har', 'harass', 'harbor', 'hard', 'hardcor', 'harden', 'harder', 'hardest', 'hardwar', 'harm', 'harmless', 'harper', 'harri', 'harsh', 'harvard', 'harvest', 'has', 'hat', 'hate', 'hater', 'hatr', 'haul', 'have', 'havent', 'hawaii', 'hawk', 'hazard', 'hd', 'he', 'head', 'headach', 'headlin', 'headphon', 'heal', 'healer', 'health', 'healthcar', 'healthi', 'hear', 'heard', 'heart', 'hearthston', 'heat', 'heathen', 'heaven', 'heavi', 'heavili', 'heck', 'heh', 'hehe', 'height', 'held', 'helicopt', 'hell', 'hello', 'helmet', 'help', 'henc', 'her', 'here', 'heritag', 'hero', 'heroin', 'herself', 'hes', 'het', 'hey', 'hi', 'hidden', 'hide', 'high', 'higher', 'highest', 'highlight', 'hike', 'hilari', 'hill', 'hillari', 'him', 'himself', 'hint', 'hip', 'hippi', 'hipster', 'hire', 'his', 'hispan', 'histor', 'histori', 'hit', 'hitler', 'hmm', 'hmmm', 'ho', 'hobbi', 'hockey', 'hold', 'hole', 'holi', 'holiday', 'hollywood', 'holocaust', 'home', 'homeless', 'homework', 'homophob', 'homosexu', 'honest', 'honey', 'honor', 'hood', 'hook', 'hooker', 'hop', 'hope', 'horn', 'horribl', 'horror', 'hors', 'hospit', 'host', 'hot', 'hotel', 'hour', 'hous', 'houston', 'how', 'howev', 'hp', 'hr', 'hs', 'hug', 'huge', 'huh', 'human', 'humbl', 'humor', 'hundr', 'hung', 'hungri', 'hunt', 'hunter', 'hurr', 'hurt', 'husband', 'hybrid', 'hype', 'i3', 'ice', 'ich', 'icon', 'id', 'idea', 'ideal', 'ident', 'identifi', 'ideolog', 'idiot', 'idk', 'if', 'ignor', 'ii', 'iirc', 'ik', 'il', 'ill', 'illeg', 'illinoi', 'illiter', 'illuminati', 'im', 'imag', 'imagin', 'imaginari', 'imgur', 'immatur', 'immedi', 'immers', 'immigr', 'immort', 'immun', 'imo', 'impact', 'imperi', 'imperialist', 'implement', 'impli', 'import', 'impos', 'imposs', 'impress', 'improv', 'in', 'inb4', 'inbound', 'inbox', 'incap', 'inch', 'incid', 'includ', 'inclus', 'incom', 'incompet', 'incorrect', 'increas', 'incred', 'inde', 'independ', 'indi', 'india', 'indian', 'indiana', 'indic', 'individu', 'induc', 'industri', 'inevit', 'infant', 'infantri', 'infect', 'inferior', 'inferno', 'infinit', 'inflat', 'influenc', 'info', 'inform', 'infrastructur', 'ingredi', 'inher', 'initi', 'inject', 'injur', 'injuri', 'ink', 'inner', 'innoc', 'innov', 'input', 'insan', 'insecur', 'insert', 'insid', 'insight', 'inspir', 'instagram', 'instal', 'instant', 'instead', 'instinct', 'institut', 'instruct', 'instrument', 'insult', 'insur', 'int', 'integr', 'intel', 'intellectu', 'intellig', 'intend', 'intens', 'intent', 'interact', 'interest', 'intern', 'internet', 'interpret', 'intervent', 'interview', 'into', 'intoler', 'introduc', 'invad', 'invalid', 'invas', 'invent', 'invest', 'investig', 'invis', 'invit', 'invok', 'involv', 'io', 'iowa', 'ip', 'ipad', 'iphon', 'iq', 'ir', 'iran', 'iranian', 'iraq', 'ireland', 'irish', 'irl', 'iron', 'ironi', 'irrelev', 'is', 'isi', 'islam', 'islamophob', 'island', 'isnt', 'isra', 'israel', 'issu', 'it', 'itali', 'italian', 'item', 'itself', 'itt', 'iv', 'ive', 'ja', 'jack', 'jackass', 'jacket', 'jackson', 'jade', 'jail', 'jam', 'jame', 'januari', 'japan', 'japanes', 'jar', 'jason', 'java', 'jay', 'jazz', 'je', 'jealous', 'jean', 'jeez', 'jeff', 'jerk', 'jersey', 'jess', 'jesus', 'jet', 'jew', 'jewish', 'jim', 'jimmi', 'jk', 'job', 'joe', 'john', 'johnni', 'johnson', 'join', 'joint', 'joke', 'jon', 'jone', 'jong', 'jordan', 'joseph', 'josh', 'journal', 'journalist', 'journey', 'joy', 'jpg', 'jr', 'judg', 'judgement', 'juic', 'juli', 'jump', 'june', 'jungl', 'junk', 'just', 'justic', 'justifi', 'justin', 'kansa', 'kany', 'kappa', 'karma', 'kd', 'keep', 'kek', 'kenyan', 'kept', 'kevin', 'key', 'keyboard', 'kick', 'kid', 'kidnap', 'kill', 'killer', 'kim', 'kin', 'kind', 'kinda', 'king', 'kingdom', 'kirbi', 'kirk', 'kiss', 'kit', 'kitchen', 'kitti', 'kkk', 'knee', 'knew', 'knife', 'knight', 'knive', 'knock', 'know', 'knowledg', 'known', 'ko', 'kobe', 'korea', 'korean', 'kurd', 'kyle', 'kyri', 'la', 'label', 'labor', 'labour', 'lack', 'lad', 'ladi', 'lag', 'laid', 'lake', 'laker', 'lamp', 'lanc', 'land', 'lane', 'lang', 'languag', 'lap', 'laptop', 'larg', 'larger', 'largest', 'larri', 'las', 'laser', 'last', 'late', 'later', 'latest', 'latino', 'latter', 'laugh', 'launch', 'lava', 'law', 'lawn', 'lawsuit', 'lawyer', 'lay', 'layer', 'lazi', 'lb', 'lbs', 'lcs', 'le', 'lead', 'leader', 'leadership', 'leaf', 'leagu', 'leak', 'lean', 'leap', 'learn', 'least', 'leav', 'lebron', 'led', 'lee', 'left', 'lefti', 'leftist', 'leftov', 'leg', 'legaci', 'legal', 'legend', 'legendari', 'legisl', 'legit', 'legitim', 'lego', 'lel', 'lem', 'lemon', 'len', 'length', 'lesbian', 'less', 'lesser', 'lesson', 'let', 'letter', 'level', 'lewi', 'lexus', 'lgbt', 'liar', 'lib', 'liber', 'libertarian', 'liberti', 'librari', 'licens', 'lick', 'lie', 'lif', 'life', 'lifestyl', 'lifetim', 'lift', 'light', 'lightn', 'lik', 'like', 'lil', 'limit', 'lin', 'lincoln', 'line', 'link', 'linux', 'lion', 'lip', 'liquid', 'liquor', 'list', 'listen', 'lit', 'liter', 'littl', 'live', 'lizard', 'll', 'lmao', 'lmfao', 'load', 'loan', 'lobbi', 'lobster', 'local', 'locat', 'lock', 'locker', 'log', 'logic', 'login', 'logo', 'lol', 'london', 'lone', 'long', 'longer', 'longest', 'look', 'loop', 'loos', 'loot', 'lord', 'lore', 'los', 'lose', 'loser', 'loss', 'lost', 'lot', 'lotteri', 'loud', 'love', 'low', 'lower', 'lowest', 'lp', 'lpt', 'lt', 'luca', 'luck', 'lucki', 'luckili', 'luke', 'lul', 'lunch', 'luxuri', 'lvl', 'lynch', 'm8', 'ma', 'mac', 'macbook', 'machin', 'macro', 'mad', 'madden', 'made', 'mag', 'magazin', 'mage', 'magic', 'magnet', 'mah', 'mai', 'mail', 'main', 'mainstream', 'maintain', 'mainten', 'major', 'make', 'maker', 'makeup', 'mal', 'male', 'mall', 'malwar', 'man', 'mana', 'manag', 'mandat', 'mandatori', 'mani', 'maniac', 'manipul', 'manner', 'manual', 'manufactur', 'map', 'mar', 'march', 'margin', 'mari', 'marijuana', 'mario', 'mark', 'market', 'marri', 'marriag', 'mart', 'martial', 'martin', 'marvel', 'marxism', 'mask', 'mass', 'massacr', 'massiv', 'master', 'masterrac', 'masturb', 'mat', 'match', 'matchup', 'mate', 'materi', 'math', 'matrix', 'matt', 'matter', 'matur', 'max', 'maximum', 'may', 'mayb', 'mayor', 'mb', 'mcdonald', 'md', 'me', 'meal', 'mean', 'meaning', 'meaningless', 'meant', 'meanwhil', 'measur', 'meat', 'mech', 'mechan', 'medal', 'meddl', 'media', 'medic', 'medicin', 'mediocr', 'medium', 'meet', 'mega', 'meh', 'mele', 'melt', 'member', 'membership', 'meme', 'memori', 'memphi', 'men', 'mental', 'mention', 'menu', 'merci', 'mere', 'mess', 'messag', 'messi', 'met', 'meta', 'metal', 'metaphor', 'meth', 'method', 'metro', 'metroid', 'mexican', 'mexico', 'mi', 'miami', 'mic', 'michael', 'michigan', 'microsoft', 'microwav', 'mid', 'middl', 'midfield', 'midget', 'midnight', 'might', 'mighti', 'migrant', 'mike', 'mil', 'mild', 'mile', 'militari', 'milk', 'millenni', 'miller', 'million', 'millionair', 'min', 'mind', 'mine', 'minecraft', 'miner', 'mini', 'minimum', 'minion', 'minist', 'minnesota', 'minor', 'mint', 'minus', 'minut', 'miracl', 'mirror', 'miser', 'miseri', 'misinform', 'misinterpret', 'mislead', 'misogyni', 'misogynist', 'misread', 'miss', 'missil', 'mission', 'missionari', 'misspel', 'mistak', 'mistaken', 'misunderstand', 'misunderstood', 'mix', 'mlg', 'mls', 'mm', 'mmo', 'mmr', 'mo', 'mob', 'mobil', 'mock', 'mod', 'mode', 'model', 'moder', 'modern', 'modifi', 'mold', 'mom', 'moment', 'momentum', 'mon', 'monaco', 'monday', 'money', 'monitor', 'monkey', 'monopoli', 'monsanto', 'monster', 'month', 'mood', 'moon', 'moral', 'more', 'morgan', 'mormon', 'morn', 'moron', 'mortal', 'mortgag', 'mosquito', 'most', 'mother', 'motherfuck', 'motion', 'motiv', 'motor', 'mount', 'mountain', 'mous', 'mouth', 'move', 'movement', 'movi', 'mr', 'ms', 'mt', 'mtg', 'much', 'muh', 'muhammad', 'multi', 'multipl', 'multiplay', 'mum', 'mumbl', 'murder', 'murica', 'murphi', 'murray', 'muscl', 'music', 'muslim', 'must', 'mutat', 'mvp', 'my', 'myself', 'mysteri', 'mythic', 'na', 'nah', 'nail', 'nake', 'name', 'narrat', 'nasa', 'nascar', 'nasti', 'nat', 'nate', 'nation', 'nativ', 'nato', 'natti', 'natur', 'navi', 'naw', 'nazi', 'nba', 'ne', 'near', 'nearbi', 'nearest', 'neat', 'nebraska', 'necessari', 'necessarili', 'neck', 'neckbeard', 'need', 'negat', 'negro', 'neighbor', 'neighborhood', 'neil', 'neither', 'neo', 'nerd', 'nerf', 'nerv', 'nervous', 'nest', 'nestl', 'net', 'netflix', 'netherland', 'network', 'neutral', 'never', 'new', 'newer', 'news', 'newspap', 'next', 'nexus', 'nfl', 'ng', 'nhl', 'nice', 'nicer', 'nick', 'nickelback', 'nicknam', 'niet', 'nigga', 'nigger', 'night', 'nightmar', 'ninja', 'nintendo', 'nip', 'nj', 'no', 'nobel', 'nobodi', 'nois', 'nomin', 'non', 'none', 'nonsens', 'noob', 'noon', 'nope', 'nor', 'norm', 'normal', 'north', 'northern', 'norway', 'nose', 'not', 'note', 'noth', 'notic', 'notori', 'nova', 'novel', 'novemb', 'now', 'nowaday', 'nowher', 'np', 'nra', 'nsa', 'nsfw', 'nu', 'nuclear', 'nude', 'nuke', 'number', 'nurs', 'nut', 'nv', 'nvidia', 'ny', 'nyc', 'o_o', 'oat', 'obama', 'obamacar', 'obes', 'object', 'objectifi', 'obligatori', 'oblivion', 'obnoxi', 'obscur', 'obtain', 'obumm', 'obv', 'obvious', 'obviously', 'oc', 'occas', 'occasion', 'occupi', 'occur', 'ocd', 'ocean', 'octob', 'oculus', 'odd', 'of', 'ofc', 'off', 'offend', 'offens', 'offer', 'offic', 'offici', 'offlin', 'offseason', 'offset', 'often', 'og', 'oh', 'ohhh', 'ohio', 'ohm', 'oil', 'ok', 'okay', 'okc', 'ol', 'olaf', 'old', 'older', 'ole', 'oliv', 'olymp', 'om', 'omg', 'on', 'onc', 'one', 'onli', 'onlin', 'only', 'onto', 'ooh', 'oop', 'op', 'open', 'oper', 'opinion', 'oppon', 'opportun', 'oppos', 'opposit', 'oppress', 'optic', 'optim', 'option', 'or', 'orang', 'orbit', 'ord', 'order', 'oregon', 'organ', 'orgasm', 'orient', 'origin', 'os', 'oscar', 'ot', 'other', 'otherwis', 'ouch', 'our', 'ourselv', 'out', 'outcom', 'outfit', 'outrag', 'outsid', 'outta', 'over', 'overal', 'overclock', 'overlord', 'overpr', 'overr', 'overwatch', 'overweight', 'overwhelm', 'owe', 'owen', 'owl', 'own', 'owner', 'oxygen', 'pa', 'pac', 'pace', 'pack', 'packag', 'packer', 'pad', 'page', 'paid', 'pain', 'paint', 'pair', 'pakistan', 'pal', 'paladin', 'pale', 'palestinian', 'pan', 'panda', 'panel', 'panic', 'pant', 'panther', 'paper', 'par', 'parasit', 'parent', 'pari', 'park', 'part', 'parti', 'particip', 'particl', 'particular', 'partner', 'pass', 'passion', 'passiv', 'passport', 'password', 'past', 'pat', 'patch', 'path', 'pathet', 'patient', 'patriarch', 'patriarchi', 'patrick', 'patriot', 'patron', 'pattern', 'paul', 'paus', 'pay', 'payment', 'pc', 'pe', 'peac', 'peak', 'peanut', 'pearl', 'peasant', 'ped', 'pedestrian', 'pedo', 'pedophil', 'pee', 'pen', 'penalti', 'penc', 'pencil', 'penguin', 'peni', 'penn', 'penni', 'peopl', 'people', 'pepe', 'per', 'percent', 'percentag', 'percept', 'perfect', 'perform', 'perhap', 'period', 'perk', 'perman', 'permiss', 'permit', 'perpetu', 'persecut', 'person', 'persona', 'perspect', 'peski', 'pet', 'peter', 'petit', 'petti', 'peyton', 'pffft', 'pfft', 'phantom', 'pharma', 'phase', 'phd', 'philli', 'phone', 'photo', 'photoshop', 'phrase', 'physic', 'pic', 'pick', 'pictur', 'pie', 'piec', 'pig', 'pikachu', 'pile', 'pill', 'pilot', 'pin', 'pineappl', 'ping', 'pink', 'pinnacl', 'pipe', 'pipelin', 'piraci', 'pirat', 'piss', 'pistol', 'pit', 'pitch', 'pitcher', 'pitchfork', 'piti', 'pixel', 'pizza', 'place', 'plain', 'plan', 'plane', 'planet', 'plant', 'plastic', 'plate', 'platform', 'plausibl', 'play', 'player', 'playoff', 'playstat', 'pleas', 'pleasant', 'pleasur', 'pleb', 'pledg', 'plenti', 'plot', 'pls', 'plug', 'plus', 'plz', 'pm', 'pocket', 'podcast', 'poe', 'pogba', 'point', 'pointer', 'pointless', 'poison', 'poke', 'pokemon', 'poland', 'pole', 'polic', 'polici', 'polish', 'polit', 'politician', 'poll', 'pollut', 'poo', 'pool', 'poop', 'poor', 'pop', 'popcorn', 'pope', 'popul', 'popular', 'porn', 'porno', 'port', 'portal', 'portion', 'portland', 'portray', 'portugues', 'pose', 'posit', 'possess', 'possibl', 'post', 'poster', 'pot', 'potato', 'potenti', 'potter', 'pound', 'pour', 'poverti', 'powder', 'power', 'ppl', 'pr', 'practic', 'prais', 'prank', 'pray', 'prayer', 'pre', 'preach', 'precious', 'precis', 'predat', 'predict', 'prefer', 'pregnanc', 'pregnant', 'premium', 'prep', 'prepar', 'prequel', 'presenc', 'present', 'preserv', 'presid', 'press', 'pressur', 'presum', 'pretend', 'pretti', 'prevent', 'previous', 'price', 'prick', 'pride', 'priest', 'primari', 'prime', 'princ', 'princess', 'principl', 'print', 'printer', 'prior', 'prioriti', 'prison', 'privaci', 'privat', 'privileg', 'prize', 'pro', 'prob', 'probabl', 'problem', 'procedur', 'proceed', 'process', 'processor', 'produc', 'product', 'profession', 'professor', 'profil', 'profit', 'program', 'programm', 'progress', 'prohibit', 'project', 'promis', 'promot', 'prompt', 'pronounc', 'proof', 'prop', 'propaganda', 'propel', 'proper', 'properti', 'prophet', 'proport', 'propos', 'pros', 'prosecut', 'prostitut', 'protagonist', 'protect', 'protein', 'protest', 'proud', 'prove', 'proven', 'provid', 'ps', 'ps1', 'ps3', 'ps4', 'psh', 'psn', 'psychic', 'psycholog', 'psychopath', 'pub', 'public', 'publish', 'puck', 'pull', 'pump', 'pun', 'punch', 'punish', 'punk', 'pupper', 'puppet', 'puppi', 'purchas', 'pure', 'purpl', 'purpos', 'purs', 'push', 'pussi', 'put', 'putin', 'pve', 'pvp', 'pyramid', 'pyro', 'python', 'qb', 'qbs', 'quad', 'qualifi', 'qualiti', 'quarter', 'que', 'quebec', 'queen', 'quest', 'question', 'queue', 'quick', 'quiet', 'quit', 'quot', 'quota', 'r8', 'r9', 'race', 'racial', 'racism', 'racist', 'rack', 'radar', 'radiat', 'radic', 'radio', 'rage', 'raid', 'raider', 'rail', 'rain', 'rainbow', 'rais', 'ralli', 'ram', 'rampant', 'ran', 'random', 'rang', 'ranger', 'rank', 'rant', 'rap', 'rape', 'rapist', 'rapper', 'raptor', 'rare', 'rat', 'rate', 'rather', 'ratio', 'ration', 'raven', 'raw', 'ray', 'rb', 're', 'reach', 'react', 'reaction', 'read', 'readi', 'real', 'realis', 'realist', 'realiti', 'realiz', 'realli', 'really', 'realm', 'reaper', 'rear', 'reason', 'rebel', 'reboot', 'rebound', 'rebuild', 'recal', 'receiv', 'recent', 'recip', 'reckon', 'recogn', 'recognit', 'recoil', 'recommend', 'record', 'recov', 'recoveri', 'recreat', 'recruit', 'red', 'reddit', 'redditor', 'reduc', 'reduct', 'ref', 'refer', 'referenc', 'referendum', 'reflect', 'reform', 'refresh', 'refuge', 'refund', 'refus', 'regard', 'regardless', 'reggi', 'region', 'regist', 'regret', 'regul', 'regular', 'reign', 'reject', 'rekt', 'relat', 'relationship', 'relax', 'releas', 'releg', 'relev', 'reli', 'reliabl', 'relief', 'religi', 'religion', 'reload', 'remain', 'remak', 'remast', 'rememb', 'remind', 'remot', 'remov', 'renam', 'render', 'renew', 'rent', 'rep', 'repair', 'repeal', 'repeat', 'replac', 'replay', 'repli', 'report', 'repost', 'repres', 'represent', 'reproduc', 'republ', 'republican', 'reput', 'request', 'requir', 'rescu', 'research', 'resembl', 'reserv', 'reset', 'resid', 'resign', 'resist', 'resolut', 'resolv', 'resourc', 'respect', 'respond', 'respons', 'rest', 'restaur', 'restor', 'restrict', 'result', 'retail', 'retard', 'retir', 'return', 'reveal', 'revel', 'reveng', 'revenu', 'revers', 'review', 'reviv', 'revolut', 'revolutionari', 'revolv', 'reward', 'rework', 'rex', 'rhetor', 'rhyme', 'rice', 'rich', 'rick', 'rid', 'ride', 'ridicul', 'rifl', 'rig', 'right', 'righti', 'rim', 'ring', 'rio', 'riot', 'rip', 'rise', 'risk', 'rival', 'river', 'rng', 'road', 'roast', 'rob', 'robert', 'robin', 'robot', 'rock', 'rocket', 'rocki', 'rod', 'rofl', 'roger', 'rogu', 'role', 'roll', 'roman', 'romanc', 'rome', 'romney', 'romo', 'ron', 'ronaldo', 'roof', 'rooki', 'room', 'roommat', 'root', 'rope', 'rose', 'roster', 'rot', 'rotat', 'rough', 'round', 'rounder', 'rout', 'router', 'routin', 'row', 'roy', 'royal', 'rpgs', 'rt', 'rub', 'rubber', 'rude', 'ruin', 'rule', 'rumor', 'run', 'rune', 'rush', 'russel', 'russia', 'russian', 'rust', 'ryan', 's5', 'sa', 'sack', 'sacrif', 'sacrific', 'sad', 'safe', 'safer', 'safeti', 'said', 'sail', 'sailor', 'saint', 'sake', 'salari', 'sale', 'salt', 'salti', 'sam', 'same', 'sampl', 'samsung', 'san', 'sanchez', 'sand', 'sander', 'sandwich', 'sane', 'saniti', 'santa', 'sarah', 'sarcasm', 'sarcast', 'satan', 'satellit', 'satir', 'satisfi', 'saturday', 'sauc', 'saudi', 'savag', 'save', 'savior', 'saw', 'say', 'sc', 'scale', 'scam', 'scammer', 'scandal', 'scar', 'scare', 'scari', 'scenario', 'scene', 'schedul', 'scheme', 'school', 'scienc', 'scientif', 'scientist', 'scope', 'score', 'scotland', 'scott', 'scout', 'scratch', 'scream', 'screen', 'screenshot', 'screw', 'script', 'scriptur', 'scroll', 'scrub', 'scum', 'scumbag', 'sd', 'se', 'sea', 'seahawk', 'seal', 'search', 'season', 'seat', 'seattl', 'sec', 'second', 'secondari', 'secret', 'section', 'sector', 'secular', 'secur', 'see', 'seek', 'seem', 'seen', 'segreg', 'seiz', 'select', 'self', 'selfi', 'selfish', 'sell', 'semest', 'semi', 'semit', 'senat', 'send', 'senior', 'sens', 'sensibl', 'sensit', 'sensor', 'sent', 'sentenc', 'separ', 'septemb', 'sequel', 'seri', 'serial', 'serious', 'serv', 'server', 'servic', 'set', 'settl', 'setup', 'seven', 'sever', 'sex', 'sexi', 'sexism', 'sexist', 'sexual', 'sf', 'shade', 'shadi', 'shadow', 'shake', 'shall', 'shallow', 'shaman', 'shame', 'shape', 'share', 'sharia', 'shark', 'sharp', 'shatter', 'shave', 'she', 'sheep', 'sheepl', 'sheesh', 'sheet', 'shell', 'shelter', 'shes', 'shh', 'shhh', 'shhhh', 'shi', 'shield', 'shift', 'shill', 'shine', 'ship', 'shirt', 'shit', 'shitlord', 'shitpost', 'shitti', 'shock', 'shocker', 'shoe', 'shoot', 'shooter', 'shop', 'short', 'shorter', 'shot', 'shotgun', 'should', 'shoulda', 'shoulder', 'shout', 'shove', 'show', 'shower', 'shown', 'shred', 'shrimp', 'shut', 'shutdown', 'si', 'sick', 'side', 'sidebar', 'sideway', 'sieg', 'sigh', 'sight', 'sign', 'signal', 'signatur', 'signific', 'silenc', 'silent', 'silicon', 'silli', 'silver', 'sim', 'similar', 'simpl', 'simpli', 'simpson', 'simul', 'sin', 'sinc', 'sincer', 'sing', 'singl', 'sink', 'sir', 'sister', 'sit', 'site', 'sith', 'situat', 'six', 'size', 'sjw', 'sjws', 'sk', 'skate', 'skeleton', 'skill', 'skin', 'skinni', 'skip', 'skull', 'sky', 'skylak', 'skyrim', 'slam', 'slap', 'slash', 'slaughter', 'slave', 'slaveri', 'sleep', 'sleev', 'sli', 'slice', 'slide', 'slight', 'slip', 'slipperi', 'slope', 'slot', 'slow', 'slower', 'slowli', 'slut', 'small', 'smaller', 'smart', 'smarter', 'smartphon', 'smash', 'smell', 'smh', 'smile', 'smite', 'smith', 'smoke', 'smooth', 'smp', 'smug', 'smurf', 'snake', 'snap', 'snapchat', 'sneak', 'sneaki', 'sneez', 'snipe', 'sniper', 'snow', 'snowden', 'snowflak', 'so', 'soak', 'sober', 'soccer', 'social', 'socialist', 'societi', 'sock', 'soda', 'soft', 'softwar', 'solar', 'sold', 'soldier', 'sole', 'solid', 'solo', 'solut', 'solv', 'some', 'somebodi', 'someday', 'somehow', 'someon', 'someth', 'sometim', 'somewhat', 'somewher', 'son', 'song', 'soni', 'sonic', 'soo', 'soon', 'sooner', 'sooo', 'soooo', 'sooooo', 'soooooo', 'sore', 'soro', 'sorri', 'sort', 'soul', 'sound', 'soundtrack', 'soup', 'sour', 'sourc', 'sourpl', 'south', 'southern', 'soviet', 'space', 'spaghetti', 'spain', 'spam', 'spanish', 'spark', 'spawn', 'speak', 'speaker', 'spear', 'spec', 'speci', 'special', 'specif', 'specifi', 'spectrum', 'specul', 'speech', 'speed', 'spell', 'spend', 'spent', 'spi', 'spici', 'spider', 'spin', 'spirit', 'spit', 'splash', 'split', 'splyce', 'spoil', 'spoiler', 'spoke', 'spoken', 'sponsor', 'sport', 'spot', 'spotifi', 'spray', 'spread', 'spring', 'sprint', 'spur', 'squad', 'squar', 'squat', 'srs', 'ss', 'st', 'stab', 'stabil', 'stabl', 'stack', 'stadium', 'staff', 'stage', 'stair', 'stalin', 'stalker', 'stamp', 'stanc', 'stand', 'standard', 'star', 'starbuck', 'stare', 'stark', 'start', 'starter', 'starv', 'stash', 'stat', 'state', 'statement', 'station', 'statist', 'status', 'stay', 'std', 'steak', 'steal', 'steam', 'steel', 'steer', 'stem', 'step', 'steph', 'stephen', 'stereotyp', 'steroid', 'steve', 'steven', 'stewart', 'stick', 'sticker', 'sticki', 'still', 'stink', 'stock', 'stole', 'stolen', 'stomach', 'stomp', 'stone', 'stoner', 'stop', 'storag', 'store', 'stori', 'storm', 'storylin', 'straight', 'strang', 'stranger', 'strap', 'strategi', 'strawman', 'streak', 'stream', 'streamer', 'street', 'strength', 'stress', 'stretch', 'strict', 'strike', 'striker', 'string', 'strip', 'stroke', 'strong', 'stronger', 'strongest', 'struck', 'structur', 'struggl', 'stuck', 'student', 'studi', 'studio', 'stuff', 'stupid', 'stutter', 'style', 'su', 'sub', 'subject', 'submiss', 'submit', 'subreddit', 'subscrib', 'subscript', 'subsid', 'subtl', 'suburb', 'subway', 'succeed', 'success', 'such', 'suck', 'sucker', 'sudden', 'sue', 'suffer', 'suffici', 'sugar', 'suggest', 'suicid', 'suit', 'sum', 'summer', 'summon', 'sun', 'sunday', 'super', 'superbowl', 'superior', 'superman', 'suppli', 'support', 'suppos', 'suppress', 'suprem', 'sure', 'surfac', 'surgeri', 'surpris', 'surround', 'survey', 'surviv', 'survivor', 'sushi', 'suspect', 'suspend', 'suspens', 'swag', 'swallow', 'swamp', 'swap', 'sway', 'swear', 'sweat', 'swede', 'sweden', 'swedish', 'sweep', 'sweet', 'swim', 'swing', 'switch', 'switzerland', 'sword', 'symbol', 'sync', 'syndrom', 'syria', 'syrup', 'system', 'ta', 'tab', 'tabl', 'tablet', 'tackl', 'taco', 'tactic', 'tag', 'tail', 'taiwan', 'take', 'taken', 'tale', 'talent', 'taliban', 'talk', 'tall', 'tan', 'tank', 'tap', 'tape', 'target', 'task', 'tast', 'tasti', 'tattoo', 'taught', 'taunt', 'tax', 'taxpay', 'taylor', 'tb', 'tbh', 'td', 'te', 'tea', 'teach', 'teacher', 'team', 'teammat', 'tear', 'tech', 'technic', 'techniqu', 'technolog', 'ted', 'teen', 'teenag', 'teeth', 'teh', 'teleport', 'televis', 'tell', 'temp', 'temperatur', 'templ', 'tempo', 'tempt', 'ten', 'tend', 'tenni', 'term', 'termin', 'terribl', 'terrifi', 'terror', 'terrorist', 'tesla', 'test', 'texa', 'texan', 'text', 'textbook', 'textur', 'tf', 'tf2', 'tfw', 'th', 'than', 'thank', 'thanksgiv', 'that', 'the', 'the_donald', 'theater', 'theft', 'their', 'them', 'theme', 'themself', 'themselv', 'then', 'theori', 'theorist', 'therapi', 'there', 'therefor', 'these', 'they', 'theyr', 'thick', 'thief', 'thin', 'thing', 'think', 'third', 'thirsti', 'this', 'tho', 'thoma', 'thor', 'thorough', 'those', 'thou', 'though', 'thought', 'thousand', 'thread', 'threat', 'threaten', 'three', 'threw', 'thrill', 'throat', 'throne', 'through', 'throughout', 'throw', 'thrown', 'thug', 'thumb', 'thumbnail', 'thunder', 'thursday', 'thus', 'thx', 'ti', 'tick', 'ticket', 'tie', 'tier', 'tiger', 'tight', 'til', 'till', 'tilt', 'tim', 'time', 'timelin', 'timer', 'tinfoil', 'tini', 'tip', 'tire', 'tit', 'titan', 'titl', 'tl', 'tm', 'tn', 'to', 'toast', 'tobacco', 'today', 'todd', 'toe', 'togeth', 'toilet', 'told', 'toler', 'tom', 'tomato', 'tomorrow', 'ton', 'tone', 'tongu', 'toni', 'tonight', 'too', 'took', 'tool', 'top', 'topic', 'toronto', 'tortur', 'toss', 'total', 'totally', 'tote', 'totem', 'touch', 'tough', 'tour', 'tourist', 'tournament', 'toward', 'towel', 'tower', 'town', 'toxic', 'toy', 'trace', 'track', 'trade', 'tradit', 'traffic', 'tragedi', 'trail', 'trailer', 'train', 'traitor', 'tran', 'transact', 'transfer', 'transform', 'transgend', 'transit', 'translat', 'transpar', 'transphob', 'transport', 'trap', 'trash', 'travel', 'treat', 'treatment', 'tree', 'trend', 'treyarch', 'tri', 'trial', 'trichom', 'trick', 'trigger', 'trillion', 'trim', 'trip', 'tripl', 'troll', 'troop', 'trophi', 'troubl', 'truck', 'trudeau', 'true', 'truli', 'trump', 'trust', 'truth', 'ts', 'tsa', 'tsm', 'tube', 'tuesday', 'tuition', 'tumblr', 'tuna', 'tune', 'tunnel', 'turbo', 'turf', 'turk', 'turkey', 'turkish', 'turn', 'turnov', 'turret', 'turtl', 'tutori', 'tv', 'twat', 'tweak', 'tweet', 'twelv', 'twice', 'twilight', 'twin', 'twist', 'twitch', 'twitter', 'two', 'ty', 'type', 'typic', 'typo', 'tyranni', 'uber', 'ufc', 'ugh', 'ugli', 'uh', 'uhh', 'uk', 'ukrain', 'ukrainian', 'ult', 'ultim', 'ultra', 'um', 'umm', 'un', 'unabl', 'unattract', 'unbeliev', 'unbias', 'uncl', 'uncomfort', 'uncommon', 'under', 'underag', 'underestim', 'underground', 'undermin', 'underr', 'understand', 'understood', 'underwear', 'uneduc', 'unelect', 'unemploy', 'unexpect', 'unfair', 'unfortun', 'unhappi', 'unicorn', 'uniform', 'uninstal', 'unintellig', 'union', 'uniqu', 'unit', 'uniti', 'univers', 'unknown', 'unless', 'unlik', 'unlock', 'unlucki', 'unnecessari', 'unplay', 'unpopular', 'unrel', 'until', 'unus', 'unusu', 'up', 'upcom', 'updat', 'upgrad', 'upload', 'upon', 'upper', 'upset', 'upsid', 'upvot', 'ur', 'urban', 'us', 'usa', 'usag', 'usb', 'use', 'useless', 'user', 'usernam', 'ussr', 'usual', 'util', 'utter', 'va', 'vacat', 'vaccin', 'vader', 'vagina', 'vagu', 'valid', 'valley', 'valu', 'valuabl', 'valv', 'vampir', 'van', 'vancouv', 'vanilla', 'vape', 'vapor', 'vari', 'varieti', 'vast', 'vault', 'vayn', 've', 'vega', 'vegan', 'vegetarian', 'vehicl', 'vein', 'vendor', 'vent', 'verbal', 'veri', 'verifi', 'vers', 'version', 'versus', 'vertic', 'vest', 'vet', 'veteran', 'vi', 'via', 'viabl', 'vibrat', 'vice', 'victim', 'victori', 'victoria', 'vid', 'video', 'videogam', 'vietnam', 'view', 'viewer', 'vike', 'villag', 'villain', 'vinc', 'vintag', 'violat', 'violenc', 'violent', 'virgin', 'virtual', 'virus', 'visibl', 'vision', 'visit', 'visual', 'vita', 'vlad', 'voic', 'volum', 'volunt', 'vomit', 'vote', 'voter', 'vpn', 'vr', 'vs', 'wage', 'wait', 'wake', 'walk', 'walker', 'wall', 'wallet', 'wallpap', 'walmart', 'wan', 'want', 'wanted', 'war', 'ward', 'warfar', 'warhamm', 'warlock', 'warm', 'warn', 'warp', 'warrant', 'warrior', 'was', 'wash', 'washington', 'wasnt', 'wast', 'wasteland', 'wat', 'watch', 'water', 'watermelon', 'watt', 'wave', 'way', 'wayn', 'we', 'weak', 'weaker', 'wealth', 'wealthi', 'weapon', 'wear', 'weather', 'web', 'websit', 'wed', 'weed', 'week', 'weekend', 'weight', 'weird', 'weirdo', 'welcom', 'welfar', 'well', 'welp', 'went', 'were', 'west', 'westbrook', 'western', 'wet', 'whale', 'what', 'whatev', 'whatsoev', 'wheel', 'when', 'whenev', 'where', 'whether', 'whew', 'whi', 'which', 'while', 'whilst', 'whine', 'whini', 'whip', 'whit', 'white', 'who', 'whoa', 'whoever', 'whole', 'whoop', 'whore', 'whose', 'wick', 'wide', 'wider', 'widow', 'wife', 'wifi', 'wii', 'wiki', 'wikipedia', 'wild', 'will', 'william', 'wilson', 'win', 'wind', 'window', 'wine', 'wing', 'wink', 'winner', 'winrat', 'winter', 'wipe', 'wire', 'wis', 'wise', 'wish', 'wit', 'witch', 'witcher', 'with', 'within', 'without', 'witti', 'wizard', 'wo', 'woah', 'wolf', 'woman', 'women', 'won', 'wonder', 'wont', 'woo', 'wood', 'woooooo', 'word', 'wore', 'work', 'worker', 'world', 'worm', 'worn', 'worri', 'wors', 'worship', 'worst', 'worth', 'worthi', 'worthless', 'would', 'wouldnt', 'wound', 'wow', 'wr', 'wrap', 'wreck', 'wrestl', 'wrist', 'write', 'writer', 'written', 'wrong', 'wrote', 'wsgi', 'wtf', 'wut', 'ww2', 'wwe', 'xbone', 'xbox', 'xd', 'xenophob', 'xp', 'ya', 'yah', 'yanke', 'yard', 'yasuo', 'yay', 'ye', 'yea', 'yeah', 'year', 'yeh', 'yell', 'yellow', 'yep', 'yer', 'yes', 'yesterday', 'yet', 'yo', 'york', 'you', 'young', 'younger', 'your', 'yourself', 'youth', 'youtub', 'yup', 'zelda', 'zero', 'zin', 'zombi', 'zone', 'zoom']\n",
      "(50538, 5000)\n"
     ]
    }
   ],
   "source": [
    "print(vectorizer.get_feature_names())\n",
    "print(X.shape)"
   ]
  },
  {
   "cell_type": "code",
   "execution_count": 29,
   "metadata": {},
   "outputs": [
    {
     "name": "stdout",
     "output_type": "stream",
     "text": [
      "  (0, 1118)\t0.9749175528048084\n",
      "  (0, 4426)\t0.22256631648361289\n",
      "  (1, 1335)\t0.587158379305765\n",
      "  (1, 1908)\t0.6715151012584202\n",
      "  (1, 2365)\t0.45200940962873903\n",
      "  (2, 4426)\t0.18466602046948202\n",
      "  (2, 4491)\t0.40527348070295577\n",
      "  (2, 4504)\t0.2182064235747865\n",
      "  (2, 3211)\t0.5185339876057211\n",
      "  (2, 1915)\t0.6965345125198656\n",
      "  (4, 3820)\t0.5785475258454794\n",
      "  (4, 2135)\t0.4403503778381063\n",
      "  (4, 3715)\t0.6865670433948249\n",
      "  (5, 3097)\t0.2887460211906708\n",
      "  (5, 2852)\t0.6215403263892236\n",
      "  (5, 4113)\t0.5016180987095661\n",
      "  (5, 2036)\t0.5279134786738582\n",
      "  (6, 4986)\t0.20803166691344466\n",
      "  (6, 2917)\t0.4290559987442354\n",
      "  (6, 3015)\t0.2790808408281773\n",
      "  (6, 2473)\t0.3329133590209619\n",
      "  (6, 2692)\t0.4547973315464493\n",
      "  (6, 4931)\t0.6140649333653949\n",
      "  (7, 4504)\t0.13523204956435575\n",
      "  (7, 2079)\t0.18748674094697748\n",
      "  :\t:\n",
      "  (50536, 265)\t0.11444065110559308\n",
      "  (50536, 3961)\t0.28145085603\n",
      "  (50536, 2433)\t0.2990047537561897\n",
      "  (50536, 3067)\t0.11905892612667972\n",
      "  (50536, 1867)\t0.19098317343999585\n",
      "  (50536, 2741)\t0.2070927268636411\n",
      "  (50536, 363)\t0.16831066087981103\n",
      "  (50536, 1501)\t0.2374034375251293\n",
      "  (50536, 2798)\t0.24130734029388448\n",
      "  (50536, 419)\t0.2194349908933294\n",
      "  (50536, 4355)\t0.29542340931835476\n",
      "  (50536, 4853)\t0.37879548997306434\n",
      "  (50536, 3774)\t0.3746525495983084\n",
      "  (50536, 2446)\t0.34941385023247\n",
      "  (50537, 4426)\t0.10855407866914504\n",
      "  (50537, 2249)\t0.15785459666173796\n",
      "  (50537, 1843)\t0.3303424136700556\n",
      "  (50537, 317)\t0.17983602548735333\n",
      "  (50537, 4507)\t0.3463789733275039\n",
      "  (50537, 3136)\t0.2267382994386189\n",
      "  (50537, 3873)\t0.24029911410728874\n",
      "  (50537, 1776)\t0.34224392180327373\n",
      "  (50537, 3945)\t0.3995224882467882\n",
      "  (50537, 2805)\t0.3797502289147136\n",
      "  (50537, 3450)\t0.41441423860813364\n"
     ]
    }
   ],
   "source": [
    "print(X)"
   ]
  },
  {
   "cell_type": "code",
   "execution_count": null,
   "metadata": {},
   "outputs": [],
   "source": [
    "# Split data into Training and Test data\n",
    "# Also cross-validation data?"
   ]
  },
  {
   "cell_type": "code",
   "execution_count": null,
   "metadata": {},
   "outputs": [],
   "source": [
    "# Logistic Regression"
   ]
  }
 ],
 "metadata": {
  "kernelspec": {
   "display_name": "Python 3",
   "language": "python",
   "name": "python3"
  },
  "language_info": {
   "codemirror_mode": {
    "name": "ipython",
    "version": 3
   },
   "file_extension": ".py",
   "mimetype": "text/x-python",
   "name": "python",
   "nbconvert_exporter": "python",
   "pygments_lexer": "ipython3",
   "version": "3.7.3"
  }
 },
 "nbformat": 4,
 "nbformat_minor": 2
}
